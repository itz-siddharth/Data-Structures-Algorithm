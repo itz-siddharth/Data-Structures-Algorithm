{
 "cells": [
  {
   "cell_type": "markdown",
   "metadata": {},
   "source": [
    "# Intro To Linked List"
   ]
  },
  {
   "cell_type": "markdown",
   "metadata": {},
   "source": [
    "# Linked List Node"
   ]
  },
  {
   "cell_type": "code",
   "execution_count": 5,
   "metadata": {},
   "outputs": [
    {
     "name": "stdout",
     "output_type": "stream",
     "text": [
      "13\n",
      "15\n",
      "15\n",
      "<__main__.Node object at 0x000001568D31DF98>\n",
      "<__main__.Node object at 0x000001568D31DFD0>\n",
      "<__main__.Node object at 0x000001568D31DFD0>\n"
     ]
    }
   ],
   "source": [
    "class Node:\n",
    "    \n",
    "    def __init__(self,data):\n",
    "        self.data = data\n",
    "        self.next = None\n",
    "        \n",
    "a = Node(13)\n",
    "b = Node(15)\n",
    "a.next = b\n",
    "print(a.data)\n",
    "print(b.data)\n",
    "print(a.next.data)\n",
    "print(a)\n",
    "print(a.next)\n",
    "print(b)"
   ]
  },
  {
   "cell_type": "code",
   "execution_count": 6,
   "metadata": {},
   "outputs": [
    {
     "name": "stdout",
     "output_type": "stream",
     "text": [
      "None\n"
     ]
    }
   ],
   "source": [
    "print(b.next)"
   ]
  },
  {
   "cell_type": "code",
   "execution_count": 4,
   "metadata": {},
   "outputs": [
    {
     "ename": "AttributeError",
     "evalue": "'NoneType' object has no attribute 'data'",
     "output_type": "error",
     "traceback": [
      "\u001b[1;31m---------------------------------------------------------------------------\u001b[0m",
      "\u001b[1;31mAttributeError\u001b[0m                            Traceback (most recent call last)",
      "\u001b[1;32m<ipython-input-4-f462f2a927b0>\u001b[0m in \u001b[0;36m<module>\u001b[1;34m\u001b[0m\n\u001b[0;32m      1\u001b[0m \u001b[1;31m#error becoz its None and pointing to no reference\u001b[0m\u001b[1;33m\u001b[0m\u001b[1;33m\u001b[0m\u001b[1;33m\u001b[0m\u001b[0m\n\u001b[1;32m----> 2\u001b[1;33m \u001b[0mprint\u001b[0m\u001b[1;33m(\u001b[0m\u001b[0mb\u001b[0m\u001b[1;33m.\u001b[0m\u001b[0mnext\u001b[0m\u001b[1;33m.\u001b[0m\u001b[0mdata\u001b[0m\u001b[1;33m)\u001b[0m\u001b[1;33m\u001b[0m\u001b[1;33m\u001b[0m\u001b[0m\n\u001b[0m",
      "\u001b[1;31mAttributeError\u001b[0m: 'NoneType' object has no attribute 'data'"
     ]
    }
   ],
   "source": [
    "#error becoz its None and pointing to no reference\n",
    "print(b.next.data)"
   ]
  },
  {
   "cell_type": "code",
   "execution_count": 7,
   "metadata": {},
   "outputs": [
    {
     "name": "stdout",
     "output_type": "stream",
     "text": [
      "20 10 "
     ]
    }
   ],
   "source": [
    "class Node:\n",
    "    def __init__(self, data):\n",
    "        self.data = data\n",
    "        self.next = None\n",
    "def printLL(head):\n",
    "    while head is not None:\n",
    "        print(head.data,end=\" \")\n",
    "        head = head.next\n",
    "\n",
    "\n",
    "\n",
    "node1 = Node(10)\n",
    "node2 = Node(20)\n",
    "node2.next = node1\n",
    "printLL(node2)"
   ]
  },
  {
   "cell_type": "code",
   "execution_count": 8,
   "metadata": {},
   "outputs": [
    {
     "name": "stdout",
     "output_type": "stream",
     "text": [
      "20 30 40 "
     ]
    }
   ],
   "source": [
    "class Node:\n",
    "    def __init__(self, data):\n",
    "        self.data = data\n",
    "        self.next = None\n",
    "def printLL(head):\n",
    "    while head is not None:\n",
    "        print(head.data,end=\" \")\n",
    "        head = head.next\n",
    "\n",
    "\n",
    "\n",
    "node1 = Node(10)\n",
    "node2 = Node(20)\n",
    "node3 = Node(30)\n",
    "node4 = Node(40)\n",
    "node1.next = node2\n",
    "node2.next = node3\n",
    "node3.next = node4\n",
    "printLL(node2)"
   ]
  },
  {
   "cell_type": "markdown",
   "metadata": {},
   "source": [
    "# Linked List Input - 1 , Print Linked List"
   ]
  },
  {
   "cell_type": "code",
   "execution_count": 2,
   "metadata": {},
   "outputs": [
    {
     "name": "stdout",
     "output_type": "stream",
     "text": [
      "1 2 3 4 5 6 -1\n",
      "1-> 2-> 3-> 4-> 5-> 6-> None\n"
     ]
    }
   ],
   "source": [
    "class Node:\n",
    "    def __init__(self,data):\n",
    "        self.data = data\n",
    "        self.next = None\n",
    "\n",
    "def printLL(head):\n",
    "    while head is not None:\n",
    "        print(str(head.data) + \"->\" , end = \" \")\n",
    "        head = head.next\n",
    "    print(\"None\")\n",
    "    return \n",
    "\n",
    "def takeInput():\n",
    "    \n",
    "    inputList = [int(ele) for ele in input().split()]\n",
    "    head = None\n",
    "    for currData in inputList:\n",
    "        if currData == -1:\n",
    "            break\n",
    "        \n",
    "        newNode = Node(currData)\n",
    "        if head is None:\n",
    "            head = newNode\n",
    "        else:\n",
    "            curr = head\n",
    "            while curr.next is not None:\n",
    "                curr = curr.next\n",
    "            curr.next = newNode\n",
    "            \n",
    "    return head\n",
    "    \n",
    "head = takeInput() \n",
    "printLL(head) "
   ]
  },
  {
   "cell_type": "markdown",
   "metadata": {},
   "source": [
    "# Time Complexity Of Taking Input\n"
   ]
  },
  {
   "cell_type": "markdown",
   "metadata": {},
   "source": [
    "# Linked List Input - 2"
   ]
  },
  {
   "cell_type": "code",
   "execution_count": 2,
   "metadata": {},
   "outputs": [
    {
     "name": "stdout",
     "output_type": "stream",
     "text": [
      "1 2 3 4 5 6 -1\n",
      "1-> 2-> 3-> 4-> 5-> 6-> None\n",
      "6 Elements!\n"
     ]
    }
   ],
   "source": [
    "class Node:\n",
    "    def __init__(self,data):\n",
    "        self.data = data\n",
    "        self.next = None\n",
    "\n",
    "def printLL(head):\n",
    "    c = 0\n",
    "    while head is not None:\n",
    "        print(str(head.data) + \"->\" , end = \" \")\n",
    "        c = c + 1 \n",
    "        head = head.next\n",
    "    print(\"None\")\n",
    "    print(c,\"Elements!\")\n",
    "    return \n",
    "\n",
    "def takeInput():\n",
    "    \n",
    "    inputList = [int(ele) for ele in input().split()]\n",
    "    head = None\n",
    "    tail = None\n",
    "    for currData in inputList:\n",
    "        if currData == -1:\n",
    "            break\n",
    "        \n",
    "        newNode = Node(currData)\n",
    "        if head is None:\n",
    "            head = newNode\n",
    "            tail = newNode\n",
    "        else:\n",
    "            tail.next = newNode\n",
    "            tail = newNode\n",
    "            \n",
    "    return head\n",
    "    \n",
    "head = takeInput() \n",
    "printLL(head) "
   ]
  },
  {
   "cell_type": "code",
   "execution_count": 11,
   "metadata": {},
   "outputs": [
    {
     "name": "stdout",
     "output_type": "stream",
     "text": [
      "11 21 "
     ]
    }
   ],
   "source": [
    "class Node:\n",
    "    def __init__(self, data):\n",
    "        self.data = data\n",
    "        self.next = None\n",
    "\n",
    "def printLL(head):\n",
    "    while head is not None:\n",
    "        print(head.data,end=\" \")\n",
    "        head = head.next\n",
    "\n",
    "def increment(head):\n",
    "     temp = head\n",
    "     while temp is not None:\n",
    "        temp.data +=1\n",
    "        temp = temp.next\n",
    "\n",
    "\n",
    "\n",
    "node1 = Node(10)\n",
    "node2 = Node(20)\n",
    "node1.next = node2\n",
    "increment(node1)\n",
    "printLL(node1)"
   ]
  },
  {
   "cell_type": "markdown",
   "metadata": {},
   "source": [
    "# Length of LL\n",
    "Given a linked list, find and return the length of input LL. Do it iteratively.\n",
    "#### Input format :\n",
    "Linked list elements (separated by space and terminated by -1)\n",
    "#### Output format :\n",
    "Length of LL\n",
    "#### Sample Input :\n",
    "3 4 5 2 6 1 9 -1\n",
    "#### Sample Output :\n",
    "7"
   ]
  },
  {
   "cell_type": "code",
   "execution_count": 1,
   "metadata": {},
   "outputs": [
    {
     "name": "stdout",
     "output_type": "stream",
     "text": [
      "3 4 5 2 6 1 9 -1\n",
      "7\n"
     ]
    }
   ],
   "source": [
    "class Node:\n",
    "    def __init__(self, data):\n",
    "        self.data = data\n",
    "        self.next = None\n",
    "\n",
    "def length(head):\n",
    "    #############################\n",
    "    # PLEASE ADD YOUR CODE HERE #\n",
    "    #############################\n",
    "    count = 0\n",
    "    while head:\n",
    "        count = count + 1\n",
    "        head = head.next\n",
    "    return count\n",
    "\n",
    "def ll(arr):\n",
    "    if len(arr)==0:\n",
    "        return None\n",
    "    head = Node(arr[0])\n",
    "    last = head\n",
    "    for data in arr[1:]:\n",
    "        last.next = Node(data)\n",
    "        last = last.next\n",
    "    return head\n",
    "\n",
    "# Main\n",
    "# Read the link list elements including -1\n",
    "arr=list(int(i) for i in input().strip().split(' '))\n",
    "# Create a Linked list after removing -1 from list\n",
    "l = ll(arr[:-1])\n",
    "len=length(l)\n",
    "print(len)"
   ]
  },
  {
   "cell_type": "code",
   "execution_count": 28,
   "metadata": {},
   "outputs": [
    {
     "data": {
      "text/plain": [
       "[1, 2, 3, 4, 5]"
      ]
     },
     "execution_count": 28,
     "metadata": {},
     "output_type": "execute_result"
    }
   ],
   "source": [
    "a = [1,2,3,4,5,-1]\n",
    "a[:-1]"
   ]
  },
  {
   "cell_type": "markdown",
   "metadata": {},
   "source": [
    "# Print ith node\n",
    "Given a linked list and a position i, print the node at ith position.\n",
    "If position i is greater than length of LL, then don't print anything.\n",
    "Indexing starts from 0.\n",
    "#### Input format :\n",
    "Line 1 : Linked list elements (separated by space and terminated by -1)\n",
    "Line 2 : Integer i (position)\n",
    "#### Output format :\n",
    "Element at ith position\n",
    "#### Sample Input 1 :\n",
    "3 4 5 2 6 1 9 -1\n",
    "3\n",
    "#### Sample Output 1 :\n",
    "2\n",
    "#### Sample Input 2 :\n",
    "3 4 5 2 6 1 9 -1<br>\n",
    "0\n",
    "#### Sample Output 2 :\n",
    "3"
   ]
  },
  {
   "cell_type": "code",
   "execution_count": 1,
   "metadata": {},
   "outputs": [
    {
     "name": "stdout",
     "output_type": "stream",
     "text": [
      "3 4 5 2 6 1 9 -1\n",
      "3\n",
      "2\n"
     ]
    }
   ],
   "source": [
    "class Node:\n",
    "    def __init__(self, data):\n",
    "        self.data = data\n",
    "        self.next = None\n",
    "\n",
    "def ithNode(head, i):\n",
    "    result = 0\n",
    "    while(head and i!=result):\n",
    "        result += 1\n",
    "        head = head.next\n",
    "    return head\n",
    "    \n",
    "\n",
    "def ll(arr):\n",
    "    if len(arr)==0:\n",
    "        return None\n",
    "    head = Node(arr[0])\n",
    "    last = head\n",
    "    for data in arr[1:]:\n",
    "        last.next = Node(data)\n",
    "        last = last.next\n",
    "    return head\n",
    "\n",
    "# Main\n",
    "# Read the link list elements including -1\n",
    "arr=list(int(i) for i in input().strip().split(' '))\n",
    "# Create a Linked list after removing -1 from list\n",
    "l = ll(arr[:-1])\n",
    "i=int(input())\n",
    "node = ithNode(l, i)\n",
    "if node:\n",
    "    print(node.data)"
   ]
  },
  {
   "cell_type": "code",
   "execution_count": 9,
   "metadata": {},
   "outputs": [
    {
     "name": "stdout",
     "output_type": "stream",
     "text": [
      "3 4 5 2 6 1 9 -1\n",
      "3\n",
      "2\n"
     ]
    }
   ],
   "source": [
    "class Node:\n",
    "    def __init__(self, data):\n",
    "        self.data = data\n",
    "        self.next = None\n",
    "\n",
    "def ithNode(head, index):\n",
    "    count = 0\n",
    "    while(head and count<index):\n",
    "        if count == index:\n",
    "            print(str(head.data))\n",
    "            break\n",
    "        head = head.next\n",
    "        count = count + 1\n",
    "    else:\n",
    "        print(head.data)\n",
    "    \n",
    "def ll(arr):\n",
    "    if len(arr)==0:\n",
    "        return None\n",
    "    head = Node(arr[0])\n",
    "    last = head\n",
    "    for data in arr[1:]:\n",
    "        last.next = Node(data)\n",
    "        last = last.next\n",
    "    return head\n",
    "\n",
    "# Main\n",
    "# Read the link list elements including -1\n",
    "arr=list(int(i) for i in input().strip().split(' '))\n",
    "# Create a Linked list after removing -1 from list\n",
    "l = ll(arr[:-1])\n",
    "i=int(input())\n",
    "node = ithNode(l, i)\n",
    "if node:\n",
    "    print(node.data)"
   ]
  },
  {
   "cell_type": "code",
   "execution_count": 3,
   "metadata": {},
   "outputs": [
    {
     "name": "stdout",
     "output_type": "stream",
     "text": [
      "5 4 9 -2 -1\n",
      "2\n",
      "9\n"
     ]
    }
   ],
   "source": [
    "class Node:\n",
    "    def __init__(self, data):\n",
    "        self.data = data\n",
    "        self.next = None\n",
    "\n",
    "def ithNode(head, index):\n",
    "    count = 0\n",
    "    while(head and count<=index):\n",
    "        if count == index:\n",
    "            print(str(head.data))\n",
    "            break\n",
    "        head = head.next\n",
    "        count = count + 1\n",
    "        \n",
    "def ll(arr):\n",
    "    if len(arr)==0:\n",
    "        return None\n",
    "    head = Node(arr[0])\n",
    "    last = head\n",
    "    for data in arr[1:]:\n",
    "        last.next = Node(data)\n",
    "        last = last.next\n",
    "    return head\n",
    "\n",
    "# Main\n",
    "# Read the link list elements including -1\n",
    "arr=list(int(i) for i in input().strip().split(' '))\n",
    "# Create a Linked list after removing -1 from list\n",
    "l = ll(arr[:-1])\n",
    "i=int(input())\n",
    "node = ithNode(l, i)\n",
    "if node:\n",
    "    print(node.data)"
   ]
  },
  {
   "cell_type": "markdown",
   "metadata": {},
   "source": [
    "# Insert At Ith Position - Iteratively"
   ]
  },
  {
   "cell_type": "markdown",
   "metadata": {},
   "source": [
    "# Insert At Ith Position Code - Iteratively"
   ]
  },
  {
   "cell_type": "code",
   "execution_count": 4,
   "metadata": {},
   "outputs": [
    {
     "name": "stdout",
     "output_type": "stream",
     "text": [
      "1 2 3 4 5 -1\n",
      "1-> 2-> 3-> 4-> 5-> None\n",
      "1-> 2-> 6-> 3-> 4-> 5-> None\n",
      "9-> 1-> 2-> 6-> 3-> 4-> 5-> None\n",
      "9-> 1-> 2-> 6-> 3-> 4-> 5-> 10-> None\n"
     ]
    }
   ],
   "source": [
    "class Node:\n",
    "    def __init__(self,data):\n",
    "        self.data = data\n",
    "        self.next = None\n",
    "\n",
    "def length(head):\n",
    "    count = 0\n",
    "    while head:\n",
    "        count = count + 1\n",
    "        head = head.next\n",
    "    return count\n",
    "\n",
    "def insertAtI(head,i,data):\n",
    "    \n",
    "    if i<0 or i>length(head):\n",
    "        return head\n",
    "    \n",
    "    count = 0 \n",
    "    prev = None\n",
    "    curr = head\n",
    "    while count < i:\n",
    "        prev = curr\n",
    "        curr = curr.next\n",
    "        count = count + 1\n",
    "        \n",
    "    newNode = Node(data)\n",
    "    if prev is not None:\n",
    "        prev.next = newNode\n",
    "    else:\n",
    "        head = newNode\n",
    "    newNode.next = curr\n",
    "    return head\n",
    "    \n",
    "def printLL(head):\n",
    "\n",
    "    while head is not None:\n",
    "        print(str(head.data) + \"->\" , end = \" \")\n",
    "        head = head.next\n",
    "    print(\"None\")\n",
    "    return \n",
    "\n",
    "def takeInput():\n",
    "    \n",
    "    inputList = [int(ele) for ele in input().split()]\n",
    "    head = None\n",
    "    tail = None\n",
    "    for currData in inputList:\n",
    "        if currData == -1:\n",
    "            break\n",
    "        \n",
    "        newNode = Node(currData)\n",
    "        if head is None:\n",
    "            head = newNode\n",
    "            tail = newNode\n",
    "        else:\n",
    "            tail.next = newNode\n",
    "            tail = newNode\n",
    "            \n",
    "    return head\n",
    "    \n",
    "head = takeInput() \n",
    "printLL(head) \n",
    "head  = insertAtI(head,2,6)\n",
    "printLL(head)\n",
    "head  = insertAtI(head,0,9)\n",
    "printLL(head)\n",
    "head  = insertAtI(head,7,10)\n",
    "printLL(head)"
   ]
  },
  {
   "cell_type": "markdown",
   "metadata": {},
   "source": [
    "# Delete node\n",
    "Given a linked list and a position i, delete the node of ith position from Linked List iteratively.\n",
    "If position i is greater than length of LL, then you should return the same LL without any change.\n",
    "Indexing starts from 0. You don't need to print the elements, just delete the node and return the head of updated LL.\n",
    "#### Input format :\n",
    "Line 1 : Linked list elements (separated by space and terminated by -1)\n",
    "Line 2 : Integer i (position)\n",
    "#### Output format :\n",
    "Updated LL elements (separated by space)\n",
    "#### Sample Input 1 :\n",
    "3 4 5 2 6 1 9 -1\n",
    "3\n",
    "#### Sample Output 1 :\n",
    "3 4 5 6 1 9\n",
    "#### Sample Input 2 :\n",
    "3 4 5 2 6 1 9 -1<br>\n",
    "0\n",
    "#### Sample Output 2 :\n",
    "4 5 2 6 1 9"
   ]
  },
  {
   "cell_type": "code",
   "execution_count": 13,
   "metadata": {},
   "outputs": [
    {
     "name": "stdout",
     "output_type": "stream",
     "text": [
      "4 2 -5 15 -6 -1\n",
      "4\n",
      "length of LL :  5\n",
      "4 2 -5 15 \n"
     ]
    }
   ],
   "source": [
    "class Node:\n",
    "    def __init__(self, data):\n",
    "        self.data = data\n",
    "        self.next = None\n",
    "        \n",
    "def length(head):\n",
    "    count = 0\n",
    "    while head:\n",
    "        count = count + 1\n",
    "        head = head.next\n",
    "    print('length of LL : ',count)\n",
    "    return count\n",
    "\n",
    "def delete(head, i):\n",
    "    # A linked list and a position i, delete the node of ith position from\n",
    "    # Linked List iteratively. If position i is greater than length of LL, then\n",
    "    # you should return the same LL without any change. Indexing starts from 0.\n",
    "    # You don't need to print the elements, just delete the node and return the\n",
    "    # head of updated LL.\n",
    "    #############################\n",
    "    # PLEASE ADD YOUR CODE HERE #\n",
    "    #############################\n",
    "    if i<0 or i>=length(head):\n",
    "        return head\n",
    "    \n",
    "    count = 0 \n",
    "    prev = None\n",
    "    curr = head\n",
    "    Next = curr.next\n",
    "    if i == 0:\n",
    "        curr = curr.next\n",
    "        del head\n",
    "        return curr\n",
    "    while count < i:\n",
    "        prev = curr\n",
    "        curr = curr.next\n",
    "        Next = curr.next\n",
    "        count = count + 1\n",
    "    \n",
    "    prev.next = Next\n",
    "    del curr\n",
    "    return head\n",
    "\n",
    "def ll(arr):\n",
    "    if len(arr)==0:\n",
    "        return None\n",
    "    head = Node(arr[0])\n",
    "    last = head\n",
    "    for data in arr[1:]:\n",
    "        last.next = Node(data)\n",
    "        last = last.next\n",
    "    return head\n",
    "\n",
    "def printll(head):\n",
    "    while head:\n",
    "        print(head.data, end=' ')\n",
    "        head = head.next\n",
    "    print()\n",
    "\n",
    "# Main\n",
    "# Read the link list elements including -1\n",
    "arr=list(int(i) for i in input().strip().split(' '))\n",
    "# Create a Linked list after removing -1 from list\n",
    "l = ll(arr[:-1])\n",
    "i=int(input())\n",
    "l = delete(l, i)\n",
    "printll(l)"
   ]
  },
  {
   "cell_type": "markdown",
   "metadata": {},
   "source": [
    "# Length of LL (recursive)\n",
    "Given a linked list, find and return the length of input LL recursively.\n",
    "#### Input format :\n",
    "Linked list elements (separated by space and terminated by -1)\n",
    "#### Output format :\n",
    "Length of LL\n",
    "#### Sample Input :\n",
    "3 4 5 2 6 1 9 -1\n",
    "#### Sample Output :\n",
    "7"
   ]
  },
  {
   "cell_type": "code",
   "execution_count": 1,
   "metadata": {},
   "outputs": [
    {
     "name": "stdout",
     "output_type": "stream",
     "text": [
      "3 4 5 2 6 1 9 -1\n",
      "7\n"
     ]
    }
   ],
   "source": [
    "class Node:\n",
    "    def __init__(self, data):\n",
    "        self.data = data\n",
    "        self.next = None\n",
    "\n",
    "def lengthRecursive(head):\n",
    "    if head.next == None:\n",
    "        return 1 \n",
    "    return 1 + lengthRecursive(head.next)\n",
    "\n",
    "def ll(arr):\n",
    "    if len(arr)==0:\n",
    "        return None\n",
    "    head = Node(arr[0])\n",
    "    last = head\n",
    "    for data in arr[1:]:\n",
    "        last.next = Node(data)\n",
    "        last = last.next\n",
    "    return head\n",
    "\n",
    "# Main\n",
    "from sys import setrecursionlimit\n",
    "setrecursionlimit(11000)\n",
    "# Read the link list elements including -1\n",
    "arr=list(int(i) for i in input().strip().split(' '))\n",
    "# Create a Linked list after removing -1 from list\n",
    "l = ll(arr[:-1])\n",
    "len=lengthRecursive(l)\n",
    "print(len)"
   ]
  },
  {
   "cell_type": "markdown",
   "metadata": {},
   "source": [
    "# Insert At Ith Position - Recursively"
   ]
  },
  {
   "cell_type": "markdown",
   "metadata": {},
   "source": [
    "# Insert At ith Position Recursively (Code)"
   ]
  },
  {
   "cell_type": "code",
   "execution_count": 7,
   "metadata": {},
   "outputs": [
    {
     "name": "stdout",
     "output_type": "stream",
     "text": [
      "1 2 3 4 5 -1\n",
      "1-> 2-> 3-> 4-> 5-> None\n",
      "1-> 2-> 6-> 3-> 4-> 5-> None\n",
      "9-> 1-> 2-> 6-> 3-> 4-> 5-> None\n",
      "9-> 1-> 2-> 6-> 3-> 4-> 5-> 10-> None\n"
     ]
    }
   ],
   "source": [
    "class Node:\n",
    "    def __init__(self,data):\n",
    "        self.data = data\n",
    "        self.next = None\n",
    "\n",
    "def length(head):\n",
    "    count = 0\n",
    "    while head:\n",
    "        count = count + 1\n",
    "        head = head.next\n",
    "    return count\n",
    "\n",
    "\n",
    "def insertAtIR(head,i,data):\n",
    "    if i<0:\n",
    "        return head\n",
    "    \n",
    "    if i == 0:\n",
    "        newNode = Node(data)\n",
    "        newNode.next = head\n",
    "        return newNode\n",
    "    \n",
    "    if head is None:\n",
    "        return None\n",
    "    \n",
    "    smallHead = insertAtIR(head.next,i-1,data)\n",
    "    head.next = smallHead\n",
    "    return head    \n",
    "    \n",
    "def insertAtI(head,i,data):\n",
    "    \n",
    "    if i<0 or i>length(head):\n",
    "        return head\n",
    "    \n",
    "    count = 0 \n",
    "    prev = None\n",
    "    curr = head\n",
    "    while count < i:\n",
    "        prev = curr\n",
    "        curr = curr.next\n",
    "        count = count + 1\n",
    "        \n",
    "    newNode = Node(data)\n",
    "    if prev is not None:\n",
    "        prev.next = newNode\n",
    "    else:\n",
    "        head = newNode\n",
    "    newNode.next = curr\n",
    "    return head\n",
    "    \n",
    "def printLL(head):\n",
    "\n",
    "    while head is not None:\n",
    "        print(str(head.data) + \"->\" , end = \" \")\n",
    "        head = head.next\n",
    "    print(\"None\")\n",
    "    return \n",
    "\n",
    "def takeInput():\n",
    "    \n",
    "    inputList = [int(ele) for ele in input().split()]\n",
    "    head = None\n",
    "    tail = None\n",
    "    for currData in inputList:\n",
    "        if currData == -1:\n",
    "            break\n",
    "        \n",
    "        newNode = Node(currData)\n",
    "        if head is None:\n",
    "            head = newNode\n",
    "            tail = newNode\n",
    "        else:\n",
    "            tail.next = newNode\n",
    "            tail = newNode\n",
    "            \n",
    "    return head\n",
    "    \n",
    "head = takeInput() \n",
    "printLL(head) \n",
    "head  = insertAtIR(head,2,6)\n",
    "printLL(head)\n",
    "head  = insertAtIR(head,0,9)\n",
    "printLL(head)\n",
    "head  = insertAtIR(head,7,10)\n",
    "printLL(head)"
   ]
  },
  {
   "cell_type": "markdown",
   "metadata": {},
   "source": [
    "# Complexity Of Insertion"
   ]
  },
  {
   "cell_type": "markdown",
   "metadata": {},
   "source": [
    "# Delete node (recursive)\n",
    "Given a linked list and a position i, delete the node of ith position from Linked List recursively.\n",
    "If position i is greater than length of LL, then you should return the same LL without any change.\n",
    "Indexing starts from 0. You don't need to print the elements, just delete the node and return the head of updated LL.\n",
    "#### Input format :\n",
    "Line 1 : Linked list elements (separated by space and terminated by -1)\n",
    "Line 2 : Integer i (position)\n",
    "#### Output format :\n",
    "Updated LL elements (separated by space)\n",
    "#### Sample Input 1 :\n",
    "3 4 5 2 6 1 9 -1<br>\n",
    "3\n",
    "#### Sample Output 1 :\n",
    "3 4 5 6 1 9\n",
    "#### Sample Input 2 :\n",
    "3 4 5 2 6 1 9 -1<br>\n",
    "0\n",
    "#### Sample Output 2 :\n",
    "4 5 2 6 1 9"
   ]
  },
  {
   "cell_type": "code",
   "execution_count": 15,
   "metadata": {},
   "outputs": [
    {
     "name": "stdout",
     "output_type": "stream",
     "text": [
      "3 4 5 2 6 1 9 -1\n",
      "7\n",
      "3 4 5 2 6 1 9 \n"
     ]
    }
   ],
   "source": [
    "class Node:\n",
    "    def __init__(self, data):\n",
    "        self.data = data\n",
    "        self.next = None\n",
    "\n",
    "def deleteRec(head, i):\n",
    "    #  a linked list and a position i, delete the node of ith position from\n",
    "    # Linked List recursively. If position i is greater than length of LL,\n",
    "    # then:\n",
    "    # you should return the same LL without any change.\n",
    "    #############################\n",
    "    # PLEASE ADD YOUR CODE HERE #\n",
    "    #############################\n",
    "     if i<0:\n",
    "        return head\n",
    "    \n",
    "     if head is None:\n",
    "        return head\n",
    "    \n",
    "     if i == 0:\n",
    "        new_head = head.next\n",
    "        del head\n",
    "        return new_head\n",
    "    \n",
    "     smallHead = deleteRec(head.next,i-1)\n",
    "     head.next = smallHead\n",
    "     return head  \n",
    "\n",
    "def ll(arr):\n",
    "    if len(arr)==0:\n",
    "        return None\n",
    "    head = Node(arr[0])\n",
    "    last = head\n",
    "    for data in arr[1:]:\n",
    "        last.next = Node(data)\n",
    "        last = last.next\n",
    "    return head\n",
    "\n",
    "def printll(head):\n",
    "    while head:\n",
    "        print(head.data, end=' ')\n",
    "        head = head.next\n",
    "    print()\n",
    "\n",
    "# Main\n",
    "from sys import setrecursionlimit\n",
    "setrecursionlimit(11000)\n",
    "# Read the link list elements including -1\n",
    "arr=list(int(i) for i in input().strip().split(' '))\n",
    "# Create a Linked list after removing -1 from list\n",
    "l = ll(arr[:-1])\n",
    "i=int(input())\n",
    "l = deleteRec(l, i)\n",
    "printll(l)"
   ]
  },
  {
   "cell_type": "markdown",
   "metadata": {},
   "source": [
    "# {Questions}"
   ]
  },
  {
   "cell_type": "markdown",
   "metadata": {},
   "source": [
    "Q1.What will be the time complexity of searching an element in the linked list ?\n",
    "\n",
    "O(n) "
   ]
  },
  {
   "cell_type": "markdown",
   "metadata": {},
   "source": [
    "Q2.Add element at last\n",
    "Consider the Singly linked list having n elements. What will be the time taken to add an node at the end of linked list if is initially pointing to first node of the list.\n",
    "That is only head is given to you.\n",
    "\n",
    "O(n) "
   ]
  },
  {
   "cell_type": "markdown",
   "metadata": {},
   "source": [
    "Q3.Insert at 2nd position\n",
    "There is reference (or pointer) to first Node of the Linked List, then time required to insert element to second position is __________.<br>\n",
    "Indexing starts from 0.\n",
    "\n",
    "O(1) "
   ]
  },
  {
   "cell_type": "markdown",
   "metadata": {},
   "source": [
    "Q4.Operations in O(1)\n",
    "Given an unsorted singly Linked List, suppose you have reference (or pointer) to its head node only, which of the following operation can be implemented in O(1) time?<br>\n",
    "i)   Insertion at the front of the linked list<br>\n",
    "ii)  Insertion at the end of the linked list<br>\n",
    "iii) Deletion of the last node of the linked list<br>\n",
    "iv)  Deletion of the front node of the linked list\n",
    "\n",
    "I and IV"
   ]
  },
  {
   "cell_type": "markdown",
   "metadata": {},
   "source": [
    "Operations in O(1)\n",
    "Given an unsorted singly Linked List, suppose you have references (or pointer) to its head and tail nodes, which of the following operation can be implemented in O(1) time?<br>\n",
    "i)   Insertion at the front of the linked list<br>\n",
    "ii)  Insertion at the end of the linked list<br>\n",
    "iii) Deletion of the last node of the linked list<br>\n",
    "iv)  Deletion of the front node of the linked list<br>\n",
    "\n",
    "I,II and IV "
   ]
  },
  {
   "cell_type": "markdown",
   "metadata": {},
   "source": [
    "# [ASSIGNMENT]"
   ]
  },
  {
   "cell_type": "markdown",
   "metadata": {},
   "source": [
    "# Find a node in LL\n",
    "Given a linked list and an integer n you need to find and return index where n is present in the LL. Do this iteratively.\n",
    "Return -1 if n is not present in the LL.\n",
    "Indexing of nodes starts from 0.\n",
    "#### Input format :\n",
    "Line 1 : Linked list elements (separated by space and terminated by -1)\n",
    "Line 2 : Integer n \n",
    "#### Output format :\n",
    "Index\n",
    "#### Sample Input 1 :\n",
    "3 4 5 2 6 1 9 -1<br>\n",
    "5\n",
    "#### Sample Output 1 :\n",
    "2\n",
    "#### Sample Input 2 :\n",
    "3 4 5 2 6 1 9 -1<br>\n",
    "6\n",
    "#### Sample Output 2 :\n",
    "4"
   ]
  },
  {
   "cell_type": "code",
   "execution_count": 1,
   "metadata": {},
   "outputs": [
    {
     "name": "stdout",
     "output_type": "stream",
     "text": [
      "3 4 5 2 6 1 9 -1\n",
      "2\n",
      "3\n"
     ]
    }
   ],
   "source": [
    "class Node:\n",
    "    def __init__(self, data):\n",
    "        self.data = data\n",
    "        self.next = None\n",
    "\n",
    "def linearSearch(head, n):\n",
    "    #  Given a linked list and an integer n you need to find and return index\n",
    "    #  where n is present in the LL. Do this iteratively. Return -1 if n is not\n",
    "    #  present in the LL. Indexing of nodes starts from 0. \n",
    "    #############################\n",
    "    # PLEASE ADD YOUR CODE HERE #\n",
    "    #############################\n",
    "    curr = head\n",
    "    count = 0\n",
    "    while curr:\n",
    "        if curr.data == n:\n",
    "            return count\n",
    "            break\n",
    "        curr = curr.next\n",
    "        count = count + 1\n",
    "    return -1\n",
    "\n",
    "def ll(arr):\n",
    "    if len(arr)==0:\n",
    "        return None\n",
    "    head = Node(arr[0])\n",
    "    last = head\n",
    "    for data in arr[1:]:\n",
    "        last.next = Node(data)\n",
    "        last = last.next\n",
    "    return head\n",
    "\n",
    "# Main\n",
    "# Read the link list elements including -1\n",
    "arr=list(int(i) for i in input().strip().split(' '))\n",
    "# Create a Linked list after removing -1 from list\n",
    "l = ll(arr[:-1])\n",
    "data=int(input())\n",
    "index = linearSearch(l, data)\n",
    "print(index)"
   ]
  },
  {
   "cell_type": "markdown",
   "metadata": {},
   "source": [
    "# AppendLastNToFirst\n",
    "Given a linked list and an integer n, append the last n elements of the LL to front.\n",
    "Indexing starts from 0. You don't need to print the elements, just update the elements and return the head of updated LL.\n",
    "Assume given n will be smaller than length of LL.\n",
    "#### Input format :\n",
    "Line 1 : Linked list elements (separated by space and terminated by -1)`\n",
    "#### Sample Input 1 :\n",
    "1 2 3 4 5 -1<br>\n",
    "3\n",
    "#### Sample Output 1 :\n",
    "3 4 5 1 2"
   ]
  },
  {
   "cell_type": "code",
   "execution_count": 13,
   "metadata": {},
   "outputs": [
    {
     "name": "stdout",
     "output_type": "stream",
     "text": [
      "1 2 3 4 5 -1\n",
      "3\n",
      "3 4 5 1 2 \n"
     ]
    }
   ],
   "source": [
    "class Node:\n",
    "    def __init__(self, data):\n",
    "        self.data = data\n",
    "        self.next = None\n",
    "def length(head):\n",
    "    count = 0\n",
    "    while head:\n",
    "        count = count + 1\n",
    "        head = head.next\n",
    "    return count\n",
    "\n",
    "def AppendLastNToFirst(head, n):\n",
    "    curr = head\n",
    "    count = length(curr) - n\n",
    "    head2 = None\n",
    "    i=1\n",
    "    \n",
    "    # splitting the linked list\n",
    "    while curr is not None and i<=count:\n",
    "        if i == count:\n",
    "            head2 = curr.next\n",
    "            curr.next = None\n",
    "            break\n",
    "        curr = curr.next\n",
    "        i = i + 1\n",
    "    \n",
    "    #find tail and connect to the head    \n",
    "    tail = head2\n",
    "    while tail:\n",
    "        if tail.next == None:\n",
    "            tail.next = head\n",
    "            break\n",
    "        tail = tail.next\n",
    "        \n",
    "    return head2\n",
    "    \n",
    "def ll(arr):\n",
    "    if len(arr)==0:\n",
    "        return None\n",
    "    head = Node(arr[0])\n",
    "    last = head\n",
    "    for data in arr[1:]:\n",
    "        last.next = Node(data)\n",
    "        last = last.next\n",
    "    return head\n",
    "\n",
    "def printll(head):\n",
    "    while head:\n",
    "        print(head.data, end=' ')\n",
    "        head = head.next\n",
    "    print()\n",
    "\n",
    "# Main\n",
    "# Read the link list elements including -1\n",
    "arr=list(int(i) for i in input().strip().split(' '))\n",
    "# Create a Linked list after removing -1 from list\n",
    "l = ll(arr[:-1])\n",
    "n=int(input())\n",
    "l = AppendLastNToFirst(l, n)\n",
    "printll(l)"
   ]
  },
  {
   "cell_type": "markdown",
   "metadata": {},
   "source": [
    "# Eliminate duplicates from LL\n",
    "Given a sorted linked list (elements are sorted in ascending order). Eliminate duplicates from the given LL, such that output LL contains only unique elements.<br>\n",
    "You don't need to print the elements, just remove duplicates and return the head of updated LL.\n",
    "#### Input format : Linked list elements (separated by space and terminated by -1)\n",
    "#### Sample Input 1 :\n",
    "1 2 3 3 3 4 4 5 5 5 7 -1\n",
    "#### Sample Output 1 :\n",
    "1 2 3 4 5 7"
   ]
  },
  {
   "cell_type": "code",
   "execution_count": 16,
   "metadata": {},
   "outputs": [
    {
     "name": "stdout",
     "output_type": "stream",
     "text": [
      "1 2 3 3 3 4 4 5 5 5 7 -1\n",
      "1 2 3 4 5 7 \n"
     ]
    }
   ],
   "source": [
    "class Node:\n",
    "    def __init__(self, data):\n",
    "        self.data = data\n",
    "        self.next = None\n",
    "\n",
    "def eliminate_duplicate(head):\n",
    "    #  Given a sorted linked list (elements are sorted in ascending order).\n",
    "    #  Eliminate duplicates from the given LL, such that output LL contains only\n",
    "    #  unique elements.\n",
    "    #############################\n",
    "    # PLEASE ADD YOUR CODE HERE #\n",
    "    #############################\n",
    "    temp = head \n",
    "    if temp is None: \n",
    "        return\n",
    "    while temp.next is not None: \n",
    "        if temp.data == temp.next.data: \n",
    "            new = temp.next.next\n",
    "            temp.next = None\n",
    "            temp.next = new \n",
    "        else: \n",
    "            temp = temp.next\n",
    "    return head \n",
    "    \n",
    "def ll(arr):\n",
    "    if len(arr)==0:\n",
    "        return None\n",
    "    head = Node(arr[0])\n",
    "    last = head\n",
    "    for data in arr[1:]:\n",
    "        last.next = Node(data)\n",
    "        last = last.next\n",
    "    return head\n",
    "\n",
    "def printll(head):\n",
    "    while head:\n",
    "        print(head.data, end=' ')\n",
    "        head = head.next\n",
    "    print()\n",
    "\n",
    "# Main\n",
    "# Read the link list elements including -1\n",
    "arr=list(int(i) for i in input().strip().split(' '))\n",
    "# Create a Linked list after removing -1 from list\n",
    "l = ll(arr[:-1])\n",
    "l = eliminate_duplicate(l)\n",
    "printll(l)"
   ]
  },
  {
   "cell_type": "markdown",
   "metadata": {},
   "source": [
    "# Print reverse LinkedList\n",
    "Print a given linked list in reverse order. You need to print the tail first and head last. You can’t change any pointer in the linked list, just print it in reverse order.\n",
    "#### Input format : Linked List elements (separated by space and terminated by -1)\n",
    "\n",
    "#### Output format : Linked List elements in reverse order (separated by space)\n",
    "\n",
    "#### Sample Input 1 :\n",
    "1 2 3 4 5 -1\n",
    "#### Sample Output 1 :\n",
    "5 4 3 2 1\n",
    "#### Sample Input 2 :\n",
    "1 2 3 -1\n",
    "#### Sample Output 2 :\n",
    "3 2 1"
   ]
  },
  {
   "cell_type": "code",
   "execution_count": 27,
   "metadata": {},
   "outputs": [
    {
     "name": "stdout",
     "output_type": "stream",
     "text": [
      "1 2 3 4 5 -1\n",
      "5 4 3 2 1 "
     ]
    }
   ],
   "source": [
    "class Node:\n",
    "    def __init__(self, data):\n",
    "        self.data = data\n",
    "        self.next = None\n",
    "\n",
    "def print_linkedlist_spl(head):\n",
    "    #  Print a given linked list in reverse order. You need to print the tail\n",
    "    #  first and head last. You can’t change any pointer in the linked list, just\n",
    "    #  print it in reverse order.\n",
    "    #  GOOD PROBLEM for RECURSION\n",
    "    #############################\n",
    "    # PLEASE ADD YOUR CODE HERE #\n",
    "    #############################\n",
    "    if head == None:\n",
    "        return head\n",
    "    print_linkedlist_spl(head.next)\n",
    "    print(head.data,end = \" \")\n",
    "\n",
    "def ll(arr):\n",
    "    if len(arr)==0:\n",
    "        return None\n",
    "    head = Node(arr[0])\n",
    "    last = head\n",
    "    for data in arr[1:]:\n",
    "        last.next = Node(data)\n",
    "        last = last.next\n",
    "    return head\n",
    "\n",
    "# Main\n",
    "# Read the link list elements including -1\n",
    "from sys import setrecursionlimit\n",
    "setrecursionlimit(10000)\n",
    "arr=list(int(i) for i in input().strip().split(' '))\n",
    "# Create a Linked list after removing -1 from list\n",
    "l = ll(arr[:-1])\n",
    "print_linkedlist_spl(l)"
   ]
  },
  {
   "cell_type": "markdown",
   "metadata": {},
   "source": [
    "# Palindrome LinkedList\n",
    "Check if a given linked list is palindrome or not. Return true or false.<br>\n",
    "Indexing starts from 0.\n",
    "#### Input format : Linked list elements (separated by space and terminated by -1)`\n",
    "\n",
    "#### Sample Input 1 :\n",
    "9 2 3 3 2 9 -1\n",
    "#### Sample Output 1 :\n",
    "true\n",
    "#### Sample Input 2 :\n",
    "0 2 3 2 5 -1\n",
    "#### Sample Output 2 :\n",
    "false"
   ]
  },
  {
   "cell_type": "code",
   "execution_count": 29,
   "metadata": {},
   "outputs": [
    {
     "name": "stdout",
     "output_type": "stream",
     "text": [
      "9 2 3 3 2 9 -1\n",
      "true\n"
     ]
    }
   ],
   "source": [
    "class Node:\n",
    "    def __init__(self, data):\n",
    "        self.data = data\n",
    "        self.next = None\n",
    "\n",
    "def check_palindrome(l) :\n",
    "    #############################\n",
    "    # PLEASE ADD YOUR CODE HERE #\n",
    "    #############################\n",
    "    curr = l\n",
    "    prev = None\n",
    "    while l.next:\n",
    "        l.prev = prev\n",
    "        prev = l\n",
    "        l = l.next\n",
    "    tail = l\n",
    "    tail.prev = prev\n",
    "    while curr is not tail and curr.data == tail.data:\n",
    "        curr = curr.next\n",
    "        tail = tail.prev\n",
    "    if curr is tail:\n",
    "        return True\n",
    "    elif curr.data == tail.data:\n",
    "        return True\n",
    "    else:\n",
    "        return False\n",
    "\n",
    "def ll(arr):\n",
    "    if len(arr)==0:\n",
    "        return None\n",
    "    head = Node(arr[0])\n",
    "    last = head\n",
    "    for data in arr[1:]:\n",
    "        last.next = Node(data)\n",
    "        last = last.next\n",
    "    return head\n",
    "\n",
    "# Main\n",
    "# Read the link list elements including -1\n",
    "arr=list(int(i) for i in input().strip().split(' '))\n",
    "# Create a Linked list after removing -1 from list\n",
    "l = ll(arr[:-1])\n",
    "ans = check_palindrome(l)\n",
    "if ans:\n",
    "    print(\"true\")\n",
    "else:\n",
    "    print(\"false\")"
   ]
  }
 ],
 "metadata": {
  "kernelspec": {
   "display_name": "Python 3",
   "language": "python",
   "name": "python3"
  },
  "language_info": {
   "codemirror_mode": {
    "name": "ipython",
    "version": 3
   },
   "file_extension": ".py",
   "mimetype": "text/x-python",
   "name": "python",
   "nbconvert_exporter": "python",
   "pygments_lexer": "ipython3",
   "version": "3.7.3"
  }
 },
 "nbformat": 4,
 "nbformat_minor": 2
}
