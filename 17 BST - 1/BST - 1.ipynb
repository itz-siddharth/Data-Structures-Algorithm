{
 "cells": [
  {
   "cell_type": "markdown",
   "metadata": {},
   "source": [
    "# Intro To BST"
   ]
  },
  {
   "cell_type": "markdown",
   "metadata": {},
   "source": [
    "# Search Node In BST\n"
   ]
  },
  {
   "cell_type": "markdown",
   "metadata": {},
   "source": [
    "# Search In BST\n",
    "Given a BST and an integer k. Find if the integer k is present in given BST or not. Return the node with data k if it is present, return null otherwise.<br>\n",
    "Assume that BST contains all unique elements.<br>\n",
    "#### Input Format :\n",
    "Line 1 : Elements in level order form (separated by space)<br>\n",
    "(If any node does not have left or right child, take -1 in its place)<br>\n",
    "Line 2 : Integer k\n",
    "#### Output Format :\n",
    "Node with data k\n",
    "#### Sample Input 1 :\n",
    "8 5 10 2 6 -1 -1 -1 -1 -1 7 -1 -1<br>\n",
    "2\n",
    "#### Sample Output 1 :\n",
    "2\n",
    "#### Sample Input 2 :\n",
    "8 5 10 2 6 -1 -1 -1 -1 -1 7 -1 -1<br>\n",
    "12\n",
    "#### Sample Output 2 :\n",
    "(empty)"
   ]
  },
  {
   "cell_type": "code",
   "execution_count": 2,
   "metadata": {},
   "outputs": [
    {
     "name": "stdout",
     "output_type": "stream",
     "text": [
      "8 5 10 2 6 -1 -1 -1 -1 -1 7 -1 -1\n",
      "2\n",
      "2\n"
     ]
    }
   ],
   "source": [
    "import queue\n",
    "class BinaryTreeNode:\n",
    "    def __init__(self, data):\n",
    "        self.data = data\n",
    "        self.left = None\n",
    "        self.right = None\n",
    "\n",
    "def searchInBST(root, k):\n",
    "    #flag = False\n",
    "    if root == None:\n",
    "        return \n",
    "    if root.data == k:\n",
    "        print(k)\n",
    "        return \n",
    "    if root.data > k:\n",
    "        searchInBST(root.left, k)\n",
    "        \n",
    "    if root.data < k:\n",
    "        searchInBST(root.right,k)\n",
    "        \n",
    "\n",
    "def buildLevelTree(levelorder):\n",
    "    index = 0\n",
    "    length = len(levelorder)\n",
    "    if length<=0 or levelorder[0]==-1:\n",
    "        return None\n",
    "    root = BinaryTreeNode(levelorder[index])\n",
    "    index += 1\n",
    "    q = queue.Queue()\n",
    "    q.put(root)\n",
    "    while not q.empty():\n",
    "        currentNode = q.get()\n",
    "        leftChild = levelorder[index]\n",
    "        index += 1\n",
    "        if leftChild != -1:\n",
    "            leftNode = BinaryTreeNode(leftChild)\n",
    "            currentNode.left =leftNode\n",
    "            q.put(leftNode)\n",
    "        rightChild = levelorder[index]\n",
    "        index += 1\n",
    "        if rightChild != -1:\n",
    "            rightNode = BinaryTreeNode(rightChild)\n",
    "            currentNode.right =rightNode\n",
    "            q.put(rightNode)\n",
    "    return root\n",
    "\n",
    "# Main\n",
    "levelOrder = [int(i) for i in input().strip().split()]\n",
    "root = buildLevelTree(levelOrder)\n",
    "k=int(input())\n",
    "node=searchInBST(root, k)"
   ]
  },
  {
   "cell_type": "markdown",
   "metadata": {},
   "source": [
    "# Code: Search Node In BST"
   ]
  },
  {
   "cell_type": "markdown",
   "metadata": {},
   "source": [
    "#### BST Time Complexity\n",
    "The run time for traversing all the nodes of a binary search tree with n nodes and printing them in an order is<br>\n",
    "#### ANSWER - O(n)"
   ]
  },
  {
   "cell_type": "markdown",
   "metadata": {},
   "source": [
    "# Print Elements In Range K1 and K2\n"
   ]
  },
  {
   "cell_type": "markdown",
   "metadata": {},
   "source": [
    "# Elements Between K1 and K2\n",
    "Given a Binary Search Tree and two integers k1 and k2, find and print the elements which are in range k1 and k2 (both inclusive).<br>\n",
    "Print the elements in increasing order.<br>\n",
    "#### Input format :\n",
    "Line 1 : Elements in level order form (separated by space)<br>\n",
    "(If any node does not have left or right child, take -1 in its place)<br>\n",
    "Line 2 : Two Integers k1 and k2\n",
    "#### Output Format :\n",
    "Required elements (separated by space)\n",
    "#### Sample Input :\n",
    "8 5 10 2 6 -1 -1 -1 -1 -1 7 -1 -1<br>\n",
    "6 10\n",
    "#### Sample Output :\n",
    "6 7 8 10"
   ]
  },
  {
   "cell_type": "code",
   "execution_count": 4,
   "metadata": {},
   "outputs": [
    {
     "name": "stdout",
     "output_type": "stream",
     "text": [
      "8 5 10 2 6 -1 -1 -1 -1 -1 7 -1 -1\n",
      "6 10\n",
      "6 7 8 10 "
     ]
    }
   ],
   "source": [
    "import queue\n",
    "class BinaryTreeNode:\n",
    "    def __init__(self, data):\n",
    "        self.data = data\n",
    "        self.left = None\n",
    "        self.right = None\n",
    "\n",
    "def elementsInRangeK1K2(root, k1, k2):\n",
    "    # Given a Binary Search Tree and two integers k1 and k2, find and print the\n",
    "    # elements which are in range k1 and k2 (both inclusive). Print the elements\n",
    "    # in increasing order.\n",
    "    # Solution: Since the elemnts have to be printed in increasing oder we will\n",
    "    # use in-order traversal and print the node only if it lies between range\n",
    "    #############################\n",
    "    # PLEASE ADD YOUR CODE HERE #\n",
    "    #############################\n",
    "    if root == None:\n",
    "        return\n",
    "    if root.data >k2:\n",
    "        elementsInRangeK1K2(root.left , k1 , k2)    \n",
    "\n",
    "    elif root.data <k1:\n",
    "        elementsInRangeK1K2(root.right , k1 , k2)\n",
    "    else:\n",
    "        \n",
    "        elementsInRangeK1K2(root.left , k1 , k2)\n",
    "        print(root.data , end = \" \")\n",
    "        elementsInRangeK1K2(root.right , k1 , k2)\n",
    "\n",
    "def buildLevelTree(levelorder):\n",
    "    index = 0\n",
    "    length = len(levelorder)\n",
    "    if length<=0 or levelorder[0]==-1:\n",
    "        return None\n",
    "    root = BinaryTreeNode(levelorder[index])\n",
    "    index += 1\n",
    "    q = queue.Queue()\n",
    "    q.put(root)\n",
    "    while not q.empty():\n",
    "        currentNode = q.get()\n",
    "        leftChild = levelorder[index]\n",
    "        index += 1\n",
    "        if leftChild != -1:\n",
    "            leftNode = BinaryTreeNode(leftChild)\n",
    "            currentNode.left =leftNode\n",
    "            q.put(leftNode)\n",
    "        rightChild = levelorder[index]\n",
    "        index += 1\n",
    "        if rightChild != -1:\n",
    "            rightNode = BinaryTreeNode(rightChild)\n",
    "            currentNode.right =rightNode\n",
    "            q.put(rightNode)\n",
    "    return root\n",
    "\n",
    "# Main\n",
    "levelOrder = [int(i) for i in input().strip().split()]\n",
    "root = buildLevelTree(levelOrder)\n",
    "k1, k2 = (int(i) for i in input().strip().split())\n",
    "elementsInRangeK1K2(root, k1, k2)"
   ]
  },
  {
   "cell_type": "markdown",
   "metadata": {},
   "source": [
    "# Code : Print Elements In Range K1 and K2\n"
   ]
  },
  {
   "cell_type": "markdown",
   "metadata": {},
   "source": [
    "# Convert Sorted Array To BST\n"
   ]
  },
  {
   "cell_type": "markdown",
   "metadata": {},
   "source": [
    "# Construct BST\n",
    "Given a sorted integer array A of size n which contains all unique elements. You need to construct a balanced BST from this input array. Return the root of constructed BST.<br>\n",
    "Note : If array size is even, take first mid as root.\n",
    "#### Input format :\n",
    "Line 1 : Integer n (Size of array)<br>\n",
    "Line 2 : Array elements (separated by space)\n",
    "#### Output Format :\n",
    "BST elements (in pre order traversal, separated by space)\n",
    "#### Sample Input :\n",
    "7<br>\n",
    "1 2 3 4 5 6 7\n",
    "#### Sample Output :\n",
    "4 2 1 3 6 5 7 "
   ]
  },
  {
   "cell_type": "code",
   "execution_count": 6,
   "metadata": {},
   "outputs": [
    {
     "name": "stdout",
     "output_type": "stream",
     "text": [
      "7\n",
      "1 2 3 4 5 6 7\n",
      "4 2 1 3 6 5 7 "
     ]
    }
   ],
   "source": [
    "import queue\n",
    "class BinaryTreeNode:\n",
    "    def __init__(self, data):\n",
    "        self.data = data\n",
    "        self.left = None\n",
    "        self.right = None\n",
    "\n",
    "def constructBST(lst):\n",
    "    # Given a sorted integer array A of size n which contains all unique\n",
    "    # elements. You need to construct a balanced BST from this input array.\n",
    "    # Return the root of constructed BST. If array size is even, take first mid\n",
    "    # as root.\n",
    "    #############################\n",
    "    # PLEASE ADD YOUR CODE HERE #\n",
    "    #############################\n",
    "    if not lst:\n",
    "        return None\n",
    "    n = len(lst)\n",
    "    if n %2 ==0:\n",
    "        mid = (len(lst)//2) -1\n",
    "    else:\n",
    "        mid = len(lst)//2\n",
    "    root= BinaryTreeNode(lst[mid])\n",
    "    left = constructBST(lst[:mid])\n",
    "    right= constructBST(lst[mid+1:])\n",
    "    root.left = left\n",
    "    root.right = right\n",
    "    return root\n",
    "    \n",
    "\n",
    "def preOrder(root):\n",
    "    # Given a binary tree, print the preorder traversal of given tree. Pre-order\n",
    "    # traversal is: Root LeftChild RightChild\n",
    "    if root==None:\n",
    "        return\n",
    "    print(root.data, end=' ')\n",
    "    preOrder(root.left)\n",
    "    preOrder(root.right)\n",
    "\n",
    "# Main\n",
    "n=int(input())\n",
    "lst=[int(i) for i in input().strip().split()]\n",
    "root=constructBST(lst)\n",
    "preOrder(root)"
   ]
  },
  {
   "cell_type": "markdown",
   "metadata": {},
   "source": [
    "#### Traversal In BST\n",
    "#### Which type of traversal of binary search tree outputs the value in sorted order ?\n",
    "- ANSWER - In-order\n",
    " "
   ]
  },
  {
   "cell_type": "markdown",
   "metadata": {},
   "source": [
    "# Check Is BST?\n"
   ]
  },
  {
   "cell_type": "code",
   "execution_count": 1,
   "metadata": {},
   "outputs": [],
   "source": [
    "class BinaryTreeNode:\n",
    "    def __init__(self,data):\n",
    "        self.data = data\n",
    "        self.left = None\n",
    "        self.right = None\n",
    "\n",
    "import queue\n",
    "def takeLevelWiseTreeInput():\n",
    "    q = queue.Queue()\n",
    "    print(\"Enter Root\")\n",
    "    rootData = int(input())\n",
    "    if (rootData == -1):\n",
    "        return None\n",
    "    root = BinaryTreeNode(rootData)\n",
    "    q.put(root)\n",
    "    while(not(q.empty())):\n",
    "        current_node = q.get()\n",
    "        print(\"Enter left child of \", current_node.data)\n",
    "        leftChildData = int(input())\n",
    "        if leftChildData != -1:\n",
    "            leftChild = BinaryTreeNode(leftChildData)\n",
    "            current_node.left = leftChild\n",
    "            q.put(leftChild)\n",
    "            \n",
    "        print(\"Enter right child of \", current_node.data)\n",
    "        rightChildData = int(input())\n",
    "        if rightChildData != -1:\n",
    "            rightChild = BinaryTreeNode(rightChildData)\n",
    "            current_node.right = rightChild\n",
    "            q.put(rightChild)\n",
    "        \n",
    "    return root\n",
    "\n",
    "def printTreeDetailed(root):\n",
    "    if root == None:\n",
    "        return \n",
    "    print(root.data, end = ':')\n",
    "    if root.left != None:\n",
    "        print(\"L\",root.left.data, end = \",\")\n",
    "    if root.right != None:\n",
    "        print(\"R\",root.right.data, end = \"\")\n",
    "    print()\n",
    "    printTreeDetailed(root.left)\n",
    "    printTreeDetailed(root.right)"
   ]
  },
  {
   "cell_type": "code",
   "execution_count": 16,
   "metadata": {},
   "outputs": [],
   "source": [
    "def minTree(root):\n",
    "    if root == None:\n",
    "        return 100000\n",
    "    leftMin = minTree(root.left)\n",
    "    rightMin = minTree(root.right)\n",
    "    return min(leftMin,rightMin,root.data)"
   ]
  },
  {
   "cell_type": "code",
   "execution_count": 17,
   "metadata": {},
   "outputs": [],
   "source": [
    "def maxTree(root):\n",
    "    if root == None:\n",
    "        return -100000\n",
    "    leftMax = maxTree(root.left)\n",
    "    rightMax = maxTree(root.right)\n",
    "    return max(leftMax,rightMax,root.data)"
   ]
  },
  {
   "cell_type": "code",
   "execution_count": 21,
   "metadata": {},
   "outputs": [],
   "source": [
    "def isBST(root):\n",
    "    if root == None:\n",
    "        return True\n",
    "    \n",
    "    leftMax = maxTree(root.left)\n",
    "    rightMin = minTree(root.right)\n",
    "    if root.data > rightMin or root.data <= leftMax:\n",
    "        return False\n",
    "    \n",
    "    isLeftBST = isBST(root.left)\n",
    "    isRightBST = isBST(root.right)\n",
    "    return isLeftBST and isRightBST"
   ]
  },
  {
   "cell_type": "code",
   "execution_count": 22,
   "metadata": {},
   "outputs": [
    {
     "name": "stdout",
     "output_type": "stream",
     "text": [
      "Enter Root\n",
      "4\n",
      "Enter left child of  4\n",
      "2\n",
      "Enter right child of  4\n",
      "6\n",
      "Enter left child of  2\n",
      "1\n",
      "Enter right child of  2\n",
      "3\n",
      "Enter left child of  6\n",
      "5\n",
      "Enter right child of  6\n",
      "7\n",
      "Enter left child of  1\n",
      "-1\n",
      "Enter right child of  1\n",
      "-1\n",
      "Enter left child of  3\n",
      "-1\n",
      "Enter right child of  3\n",
      "-1\n",
      "Enter left child of  5\n",
      "-1\n",
      "Enter right child of  5\n",
      "-1\n",
      "Enter left child of  7\n",
      "-1\n",
      "Enter right child of  7\n",
      "-1\n",
      "4:L 2,R 6\n",
      "2:L 1,R 3\n",
      "1:\n",
      "3:\n",
      "6:L 5,R 7\n",
      "5:\n",
      "7:\n"
     ]
    },
    {
     "data": {
      "text/plain": [
       "True"
      ]
     },
     "execution_count": 22,
     "metadata": {},
     "output_type": "execute_result"
    }
   ],
   "source": [
    "root = takeLevelWiseTreeInput()\n",
    "printTreeDetailed(root)\n",
    "isBST(root)"
   ]
  },
  {
   "cell_type": "markdown",
   "metadata": {},
   "source": [
    "# Improved Solution For Check BST?\n"
   ]
  },
  {
   "cell_type": "code",
   "execution_count": 23,
   "metadata": {},
   "outputs": [],
   "source": [
    "def isBST2(root):\n",
    "    if root == None:\n",
    "        return 100000, -100000, True\n",
    "    \n",
    "    leftMin, leftMax, isLeftBST = isBST2(root.left)\n",
    "    rightMin, rightMax, isRightBST = isBST2(root.right)\n",
    "    \n",
    "    minimum = min(leftMin, rightMin, root.data)\n",
    "    maxmimum = max(leftMax, rightMax, root.data)\n",
    "    isTreeBST = True\n",
    "    if root.data <= leftMax or root.data > rightMin:\n",
    "        isTreeBST = False\n",
    "    if not(isLeftBST) or not(isRightBST):\n",
    "        isTreeBST = False\n",
    "        \n",
    "    return minimum, maxmimum, isTreeBST"
   ]
  },
  {
   "cell_type": "code",
   "execution_count": 24,
   "metadata": {},
   "outputs": [
    {
     "name": "stdout",
     "output_type": "stream",
     "text": [
      "Enter Root\n",
      "4\n",
      "Enter left child of  4\n",
      "2\n",
      "Enter right child of  4\n",
      "6\n",
      "Enter left child of  2\n",
      "1\n",
      "Enter right child of  2\n",
      "3\n",
      "Enter left child of  6\n",
      "5\n",
      "Enter right child of  6\n",
      "7\n",
      "Enter left child of  1\n",
      "-1\n",
      "Enter right child of  1\n",
      "-1\n",
      "Enter left child of  3\n",
      "-1\n",
      "Enter right child of  3\n",
      "-1\n",
      "Enter left child of  5\n",
      "-1\n",
      "Enter right child of  5\n",
      "-1\n",
      "Enter left child of  7\n",
      "-1\n",
      "Enter right child of  7\n",
      "-1\n",
      "4:L 2,R 6\n",
      "2:L 1,R 3\n",
      "1:\n",
      "3:\n",
      "6:L 5,R 7\n",
      "5:\n",
      "7:\n"
     ]
    },
    {
     "data": {
      "text/plain": [
       "(1, 7, True)"
      ]
     },
     "execution_count": 24,
     "metadata": {},
     "output_type": "execute_result"
    }
   ],
   "source": [
    "root = takeLevelWiseTreeInput()\n",
    "printTreeDetailed(root)\n",
    "isBST2(root)"
   ]
  },
  {
   "cell_type": "markdown",
   "metadata": {},
   "source": [
    "# Another Solution For Check BST?\n"
   ]
  },
  {
   "cell_type": "code",
   "execution_count": 7,
   "metadata": {},
   "outputs": [],
   "source": [
    "def isBST3(root, min_range, max_range):\n",
    "    if root == None:\n",
    "        return True\n",
    "    \n",
    "    if root.data < min_range or root.data > max_range:\n",
    "        return False\n",
    "    \n",
    "    isLeftWithinContraints = isBST3(root.left, min_range, root.data -1)\n",
    "    isRightWithinContraints = isBST3(root.right, root.data, max_range)\n",
    "    \n",
    "    return isLeftWithinContraints and isRightWithinContraints"
   ]
  },
  {
   "cell_type": "code",
   "execution_count": 8,
   "metadata": {},
   "outputs": [
    {
     "name": "stdout",
     "output_type": "stream",
     "text": [
      "Enter Root\n",
      "4\n",
      "Enter left child of  4\n",
      "2\n",
      "Enter right child of  4\n",
      "6\n",
      "Enter left child of  2\n",
      "1\n",
      "Enter right child of  2\n",
      "3\n",
      "Enter left child of  6\n",
      "5\n",
      "Enter right child of  6\n",
      "7\n",
      "Enter left child of  1\n",
      "-1\n",
      "Enter right child of  1\n",
      "-1\n",
      "Enter left child of  3\n",
      "-1\n",
      "Enter right child of  3\n",
      "-1\n",
      "Enter left child of  5\n",
      "-1\n",
      "Enter right child of  5\n",
      "-1\n",
      "Enter left child of  7\n",
      "-1\n",
      "Enter right child of  7\n",
      "-1\n",
      "4:L 2,R 6\n",
      "2:L 1,R 3\n",
      "1:\n",
      "3:\n",
      "6:L 5,R 7\n",
      "5:\n",
      "7:\n"
     ]
    },
    {
     "data": {
      "text/plain": [
       "True"
      ]
     },
     "execution_count": 8,
     "metadata": {},
     "output_type": "execute_result"
    }
   ],
   "source": [
    "root = takeLevelWiseTreeInput()\n",
    "printTreeDetailed(root)\n",
    "isBST3(root,-100000,100000)"
   ]
  }
 ],
 "metadata": {
  "kernelspec": {
   "display_name": "Python 3",
   "language": "python",
   "name": "python3"
  },
  "language_info": {
   "codemirror_mode": {
    "name": "ipython",
    "version": 3
   },
   "file_extension": ".py",
   "mimetype": "text/x-python",
   "name": "python",
   "nbconvert_exporter": "python",
   "pygments_lexer": "ipython3",
   "version": "3.7.3"
  }
 },
 "nbformat": 4,
 "nbformat_minor": 2
}
