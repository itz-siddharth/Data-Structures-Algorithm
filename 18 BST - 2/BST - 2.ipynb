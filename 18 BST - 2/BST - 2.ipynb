{
 "cells": [
  {
   "cell_type": "markdown",
   "metadata": {},
   "source": [
    "# Root To Node Path In Binary Tree\n"
   ]
  },
  {
   "cell_type": "markdown",
   "metadata": {},
   "source": [
    "# Find path in BST\n",
    "Given a BST and an integer k. Find and return the path from the node with data k and root (if a node with data k is present in given BST). Return null otherwise.<br>\n",
    "Assume that BST contains all unique elements.<br>\n",
    "#### Input Format :\n",
    "Line 1 : Elements in level order form (separated by space)<br>\n",
    "(If any node does not have left or right child, take -1 in its place)<br>\n",
    "Line 2 : Integer k\n",
    "#### Output Format :\n",
    "Path from node k to root\n",
    "#### Sample Input :\n",
    "8 5 10 2 6 -1 -1 -1 -1 -1 7 -1 -1<br>\n",
    "2\n",
    "#### Sample Output :\n",
    "2<br>\n",
    "5<br>\n",
    "8"
   ]
  },
  {
   "cell_type": "code",
   "execution_count": 3,
   "metadata": {},
   "outputs": [
    {
     "name": "stdout",
     "output_type": "stream",
     "text": [
      "8 5 10 2 6 -1 -1 -1 -1 -1 7 -1 -1\n",
      "2\n",
      "2\n",
      "5\n",
      "8\n"
     ]
    }
   ],
   "source": [
    "import queue\n",
    "class BinaryTreeNode:\n",
    "    def __init__(self, data):\n",
    "        self.data = data\n",
    "        self.left = None\n",
    "        self.right = None\n",
    "\n",
    "def findPathBST(root,data):\n",
    "    if not root:\n",
    "        return\n",
    "    if root.data==data:\n",
    "        l=[]\n",
    "        l.append(data)\n",
    "        return l\n",
    "    leftOutput=None\n",
    "    if root.left:\n",
    "        leftOutput=findPathBST(root.left,data)\n",
    "        if leftOutput:\n",
    "            leftOutput.append(root.data)\n",
    "            return leftOutput\n",
    "    if not leftOutput:\n",
    "        if root.right:\n",
    "            rightOutput=findPathBST(root.right,data)\n",
    "            if rightOutput:\n",
    "                rightOutput.append(root.data)\n",
    "                return rightOutput\n",
    "\n",
    "\n",
    "def buildLevelTree(levelorder):\n",
    "    index = 0\n",
    "    length = len(levelorder)\n",
    "    if length<=0 or levelorder[0]==-1:\n",
    "        return None\n",
    "    root = BinaryTreeNode(levelorder[index])\n",
    "    index += 1\n",
    "    q = queue.Queue()\n",
    "    q.put(root)\n",
    "    while not q.empty():\n",
    "        currentNode = q.get()\n",
    "        leftChild = levelorder[index]\n",
    "        index += 1\n",
    "        if leftChild != -1:\n",
    "            leftNode = BinaryTreeNode(leftChild)\n",
    "            currentNode.left =leftNode\n",
    "            q.put(leftNode)\n",
    "        rightChild = levelorder[index]\n",
    "        index += 1\n",
    "        if rightChild != -1:\n",
    "            rightNode = BinaryTreeNode(rightChild)\n",
    "            currentNode.right =rightNode\n",
    "            q.put(rightNode)\n",
    "    return root\n",
    "\n",
    "# Main\n",
    "levelOrder = [int(i) for i in input().strip().split()]\n",
    "root = buildLevelTree(levelOrder)\n",
    "data = int(input())\n",
    "path = findPathBST(root,data)\n",
    "if path is not None:\n",
    "    for ele in path:\n",
    "        print(ele)"
   ]
  },
  {
   "cell_type": "markdown",
   "metadata": {},
   "source": [
    "# Structure Of BST Class\n"
   ]
  },
  {
   "cell_type": "code",
   "execution_count": 1,
   "metadata": {},
   "outputs": [],
   "source": [
    "class BinaryTreeNode:\n",
    "    def __init__(self,data):\n",
    "        self.data = data\n",
    "        self.left = None\n",
    "        self.right = None"
   ]
  },
  {
   "cell_type": "code",
   "execution_count": 4,
   "metadata": {},
   "outputs": [],
   "source": [
    "class BST:\n",
    "    \n",
    "    def __init__(self):\n",
    "        self.root = None\n",
    "        self.numNodes = 0\n",
    "        \n",
    "    def printTree(self):\n",
    "        return\n",
    "    \n",
    "    def isPresent(self, data):\n",
    "        return False\n",
    "    \n",
    "    def insert(self, data):\n",
    "        return\n",
    "    \n",
    "    def deleteData(self, data):\n",
    "        return False\n",
    "    \n",
    "    def count(self):\n",
    "        return 0"
   ]
  },
  {
   "cell_type": "code",
   "execution_count": 3,
   "metadata": {},
   "outputs": [
    {
     "name": "stdout",
     "output_type": "stream",
     "text": [
      "False\n",
      "False\n",
      "False\n",
      "False\n",
      "0\n"
     ]
    }
   ],
   "source": [
    "b = BST()\n",
    "b.insert(10)\n",
    "b.insert(5)\n",
    "b.insert(12)\n",
    "print(b.isPresent(10))\n",
    "print(b.isPresent(7))\n",
    "print(b.deleteData(4))\n",
    "print(b.deleteData(10)) \n",
    "print(b.count())\n",
    "b.printTree()"
   ]
  },
  {
   "cell_type": "markdown",
   "metadata": {},
   "source": [
    "# BST Class - Search & Print"
   ]
  },
  {
   "cell_type": "code",
   "execution_count": 7,
   "metadata": {},
   "outputs": [],
   "source": [
    "class BinaryTreeNode:\n",
    "    def __init__(self,data):\n",
    "        self.data = data\n",
    "        self.left = None\n",
    "        self.right = None\n",
    "        \n",
    "class BST:\n",
    "    \n",
    "    def __init__(self):\n",
    "        self.root = None\n",
    "        self.numNodes = 0\n",
    "    \n",
    "    #HelperFunction\n",
    "    def printTreeHelper(self, root):\n",
    "        if root == None:\n",
    "            return \n",
    "        print(root.data, end = ':')\n",
    "        if root.left != None:\n",
    "            print(\"L\",root.left.data, end = \",\")\n",
    "        if root.right != None:\n",
    "            print(\"R\",root.right.data, end = \"\")\n",
    "        print()\n",
    "        printTreeHelper(root.left)\n",
    "        printTreeHelper(root.right)\n",
    "    \n",
    "    def printTree(self):\n",
    "        return printTreeHelper(self.root)\n",
    "    \n",
    "    def isPresentHepler(self, root, data):\n",
    "        if root == None:\n",
    "            return False\n",
    "        \n",
    "        if root.data == data:\n",
    "            return True\n",
    "        \n",
    "        if root.data > data:\n",
    "            #call on left\n",
    "            return isPresentHepler(root.left, data)\n",
    "        else:\n",
    "            #call on right\n",
    "            return isPresentHepler(root.right, data)\n",
    "        \n",
    "    def isPresent(self, data):\n",
    "        return isPresentHepler(self.root, root, data)\n",
    "    \n",
    "    def insert(self, data):\n",
    "        return \n",
    "    \n",
    "    def deleteData(self, data):\n",
    "        return False\n",
    "    \n",
    "    def count(self):\n",
    "        return 0"
   ]
  },
  {
   "cell_type": "markdown",
   "metadata": {},
   "source": [
    "# BST Class\n",
    "Implement the BST class which includes following functions -<br>\n",
    "#### 1. search\n",
    "Given an element, find if that is present in BSt or not. Return true or false.\n",
    "#### 2. insert -\n",
    "Given an element, insert that element in the BST at the correct position. Assume unique elements will be given.\n",
    "#### 3. delete -\n",
    "Given an element, remove that element from the BST. If the element which is to be deleted has both children, replace that with the minimum element from right sub-tree.\n",
    "#### 4. printTree (recursive) -\n",
    "Print the BST in ithe following format -<br>\n",
    "For printing a node with data N, you need to follow the exact format -<br>\n",
    "#### N:L:x,R:y<br>\n",
    "wherer, N is data of any node present in the binary tree. x and y are the values of left and right child of node N. Print the children only if it is not null.\n",
    "<br>\n",
    "There is no space in between.\n",
    "<br>\n",
    "You need to print all nodes in the recursive format in different lines.<br>\n",
    "#### Note : main function is given for your reference which we are using internally to test the class."
   ]
  },
  {
   "cell_type": "code",
   "execution_count": 13,
   "metadata": {},
   "outputs": [
    {
     "name": "stdout",
     "output_type": "stream",
     "text": [
      "1 20 1 40 1 10 1 30 1 70 1 15 1 65 1 35 1 25 3 40 2 40 3 40 3 65 -1\n",
      "true\n",
      "false\n",
      "true\n",
      "20:L:10,R:65\n",
      "10:R:15\n",
      "15:\n",
      "65:L:30,R:70\n",
      "30:L:25,R:35\n",
      "25:\n",
      "35:\n",
      "70:\n"
     ]
    }
   ],
   "source": [
    "class BinaryTreeNode:\n",
    "    def __init__(self, data):\n",
    "        self.data = data\n",
    "        self.left = None\n",
    "        self.right = None\n",
    "class BST:\n",
    "    \n",
    "    def __init__(self):\n",
    "        self.root = None\n",
    "        self.numNodes = 0\n",
    "    \n",
    "    def printTreeHelper(self, root):\n",
    "        if root == None:\n",
    "            return\n",
    "        print(root.data, end = \":\")\n",
    "        if root.left != None:\n",
    "            print(\"L:\",end='')\n",
    "            print(root.left.data,end=',')\n",
    "        if root.right != None:\n",
    "            print(\"R:\",end='')\n",
    "            print(root.right.data,end='')\n",
    "        print()\n",
    "        self.printTreeHelper(root.left)\n",
    "        self.printTreeHelper(root.right)\n",
    "    \n",
    "    def printTree(self):\n",
    "        self.printTreeHelper(self.root)\n",
    "    \n",
    "    def searchtreehelper(self,root,data):\n",
    "        if root==None:\n",
    "            return False\n",
    "        if root.data==data:\n",
    "            return True\n",
    "        if root.data>data:\n",
    "            return self.searchtreehelper(root.left,data)\n",
    "        else:\n",
    "            return self.searchtreehelper(root.right,data)\n",
    "    def min(self,root):\n",
    "        if root==None:\n",
    "            return 100000\n",
    "        if root.left==None:\n",
    "            return root.data\n",
    "        return self.min(root.left)\n",
    "        \n",
    "    def search(self, data):\n",
    "    #Implement this function here\n",
    "        return self.searchtreehelper(self.root,data)\n",
    "    def inserthelper(self,root,data):\n",
    "        if root==None:\n",
    "            node=BinaryTreeNode(data)\n",
    "            return node\n",
    "        if root.data>data:\n",
    "            root.left=self.inserthelper(root.left,data)\n",
    "            return root\n",
    "        else:\n",
    "            root.right=self.inserthelper(root.right,data)\n",
    "            return root\n",
    "    def insert(self, data):\n",
    "        self.numNodes+=1\n",
    "        \n",
    "        self.root= self.inserthelper(self.root,data)\n",
    "    #Implement this function here\n",
    "    def deletehelper(self,root,data):\n",
    "        if root==None:\n",
    "            return false,None\n",
    "        if root.data<data:\n",
    "            deleted,newright=self.deletehelper(root.right,data)\n",
    "            root.right=newright\n",
    "            return deleted,root\n",
    "        if root.data>data:\n",
    "            deleted,newleft=self.deletehelper(root.left,data)\n",
    "            root.left=newleft\n",
    "            return deleted,root\n",
    "        if root.left==None and root.right==None:\n",
    "            return True,None\n",
    "        if root.left==None:\n",
    "            return True,root.right\n",
    "        if root.right==None:\n",
    "            return True,root.left\n",
    "        replacement=self.min(root.right)\n",
    "        root.data=replacement\n",
    "        deleted,newright=self.deletehelper(root.right,replacement)\n",
    "        root.right=newright\n",
    "        return True,root\n",
    "    \n",
    "        \n",
    "        \n",
    "    def delete(self, data):\n",
    "        deleted,newroot=self.deletehelper(self.root,data)\n",
    "        if deleted:\n",
    "            self.numNodes-=1\n",
    "        self.root=newroot\n",
    "        return deleted\n",
    "    \n",
    "    def count(self):\n",
    "        return self.numNodes\n",
    "    #Implement this function here\n",
    "    \n",
    "    \n",
    "b = BST()\n",
    "li = [int(ele) for ele in input().split()]\n",
    "i = 0\n",
    "while(i < (len(li) )):\n",
    "    choice = li[i]\n",
    "    if choice == 1:\n",
    "        data = li[i+1]\n",
    "        b.insert(data)\n",
    "        i+=2\n",
    "    elif choice == 2:\n",
    "        data = li[i+1]\n",
    "        b.delete(data)\n",
    "        i+=2\n",
    "    elif choice == 3:\n",
    "        data = li[i+1]\n",
    "        ans = b.search(data)\n",
    "        if ans is True:\n",
    "            print('true')\n",
    "        else:\n",
    "            print('false')\n",
    "        i+=2\n",
    "    else:\n",
    "        b.printTree()\n",
    "        i+=1"
   ]
  },
  {
   "cell_type": "markdown",
   "metadata": {},
   "source": [
    "# Insert In BST"
   ]
  },
  {
   "cell_type": "markdown",
   "metadata": {},
   "source": [
    "#### Which one of the following is the tightest upper bound that represents the time complexity of inserting an object into a binary search tree of n nodes?\n",
    "#### Answer-\n",
    "- O(n) "
   ]
  },
  {
   "cell_type": "markdown",
   "metadata": {},
   "source": [
    "# Delete In BST"
   ]
  },
  {
   "cell_type": "markdown",
   "metadata": {},
   "source": [
    "# Delete In BST - Code"
   ]
  },
  {
   "cell_type": "markdown",
   "metadata": {},
   "source": [
    "#### Insertion/Deletion In BST\n",
    "What are the worst-case complexities of insertion and deletion of a key in a binary search tree?\n",
    "#### Answer - \n",
    "- θ (n ) for both insertion and deletion \n"
   ]
  },
  {
   "cell_type": "markdown",
   "metadata": {},
   "source": [
    "# Time Complexity Of BST Functions"
   ]
  },
  {
   "cell_type": "markdown",
   "metadata": {},
   "source": [
    "# Balanced BST"
   ]
  },
  {
   "cell_type": "code",
   "execution_count": null,
   "metadata": {},
   "outputs": [],
   "source": []
  }
 ],
 "metadata": {
  "kernelspec": {
   "display_name": "Python 3",
   "language": "python",
   "name": "python3"
  },
  "language_info": {
   "codemirror_mode": {
    "name": "ipython",
    "version": 3
   },
   "file_extension": ".py",
   "mimetype": "text/x-python",
   "name": "python",
   "nbconvert_exporter": "python",
   "pygments_lexer": "ipython3",
   "version": "3.7.3"
  }
 },
 "nbformat": 4,
 "nbformat_minor": 2
}
