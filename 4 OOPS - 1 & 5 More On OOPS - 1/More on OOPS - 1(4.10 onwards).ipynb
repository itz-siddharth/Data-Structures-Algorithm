{
 "cells": [
  {
   "cell_type": "markdown",
   "metadata": {},
   "source": [
    "# Instance Methods"
   ]
  },
  {
   "cell_type": "markdown",
   "metadata": {},
   "source": [
    "# Fraction Class 1"
   ]
  },
  {
   "cell_type": "code",
   "execution_count": 3,
   "metadata": {},
   "outputs": [
    {
     "data": {
      "text/plain": [
       "{'num': 2, 'den': 3}"
      ]
     },
     "execution_count": 3,
     "metadata": {},
     "output_type": "execute_result"
    }
   ],
   "source": [
    "class Fraction:\n",
    "    \n",
    "    def __init__(self,num = 0, den = 0):\n",
    "        self.num = num\n",
    "        self.den = den\n",
    "        \n",
    "f = Fraction(2,3)\n",
    "f.__dict__"
   ]
  },
  {
   "cell_type": "code",
   "execution_count": 4,
   "metadata": {},
   "outputs": [
    {
     "data": {
      "text/plain": [
       "{'num': 0, 'den': 0}"
      ]
     },
     "execution_count": 4,
     "metadata": {},
     "output_type": "execute_result"
    }
   ],
   "source": [
    "f2 = Fraction()\n",
    "f2.__dict__"
   ]
  },
  {
   "cell_type": "code",
   "execution_count": 5,
   "metadata": {},
   "outputs": [
    {
     "data": {
      "text/plain": [
       "{'num': 3, 'den': 0}"
      ]
     },
     "execution_count": 5,
     "metadata": {},
     "output_type": "execute_result"
    }
   ],
   "source": [
    "f3 = Fraction(3)\n",
    "f3.__dict__"
   ]
  },
  {
   "cell_type": "markdown",
   "metadata": {},
   "source": [
    "# Fraction Class - 2 ( print(), simplify() )"
   ]
  },
  {
   "cell_type": "code",
   "execution_count": 6,
   "metadata": {},
   "outputs": [],
   "source": [
    "class Fraction:\n",
    "    \n",
    "    def __init__(self,num = 0, den = 0):\n",
    "        \n",
    "        if den == 0:\n",
    "            #Throw error\n",
    "            den = 1\n",
    "            \n",
    "        self.num = num\n",
    "        self.den = den\n",
    "        \n",
    "    \n",
    "    def print(self):\n",
    "        if self.num == 0:\n",
    "            print(0)\n",
    "        elif self.den == 1:\n",
    "            print(self.num)\n",
    "        else:\n",
    "            print(self.num,'/',self.den)\n",
    "            \n",
    "    def simplify(self):\n",
    "        if self.num == 0:\n",
    "            self.den = 1\n",
    "            return\n",
    "        current = min(self.num,self.den)\n",
    "        while current > 1:\n",
    "            if self.num%current == 0 and self.den%current == 0:\n",
    "                break\n",
    "            current-=1\n",
    "            \n",
    "        self.num = self.num//current\n",
    "        self.den = self.den//current     "
   ]
  },
  {
   "cell_type": "code",
   "execution_count": 7,
   "metadata": {},
   "outputs": [
    {
     "name": "stdout",
     "output_type": "stream",
     "text": [
      "0\n",
      "0\n"
     ]
    }
   ],
   "source": [
    "f = Fraction()\n",
    "f.print()\n",
    "f.simplify()\n",
    "f.print()"
   ]
  },
  {
   "cell_type": "code",
   "execution_count": 8,
   "metadata": {},
   "outputs": [
    {
     "name": "stdout",
     "output_type": "stream",
     "text": [
      "2\n",
      "2\n"
     ]
    }
   ],
   "source": [
    "f = Fraction(2,1)\n",
    "f.print()\n",
    "f.simplify()\n",
    "f.print()"
   ]
  },
  {
   "cell_type": "code",
   "execution_count": 10,
   "metadata": {},
   "outputs": [
    {
     "name": "stdout",
     "output_type": "stream",
     "text": [
      "14 / 6\n",
      "7 / 3\n"
     ]
    }
   ],
   "source": [
    "f = Fraction(14,6)\n",
    "f.print()\n",
    "f.simplify()\n",
    "f.print()"
   ]
  },
  {
   "cell_type": "code",
   "execution_count": 12,
   "metadata": {},
   "outputs": [
    {
     "name": "stdout",
     "output_type": "stream",
     "text": [
      "14 / 5\n",
      "14 / 5\n"
     ]
    }
   ],
   "source": [
    "f = Fraction(14,5)\n",
    "f.print()\n",
    "f.simplify()\n",
    "f.print()"
   ]
  },
  {
   "cell_type": "code",
   "execution_count": 14,
   "metadata": {},
   "outputs": [
    {
     "name": "stdout",
     "output_type": "stream",
     "text": [
      "0\n",
      "0\n"
     ]
    }
   ],
   "source": [
    "f = Fraction(0,5)\n",
    "f.print()\n",
    "f.simplify()\n",
    "f.print()"
   ]
  },
  {
   "cell_type": "code",
   "execution_count": 16,
   "metadata": {},
   "outputs": [
    {
     "name": "stdout",
     "output_type": "stream",
     "text": [
      "14\n",
      "14\n"
     ]
    }
   ],
   "source": [
    "f = Fraction(14,0)\n",
    "f.print()\n",
    "f.simplify()\n",
    "f.print()"
   ]
  },
  {
   "cell_type": "markdown",
   "metadata": {},
   "source": [
    "# Fraction Class - 3 ( add(), multiply() )"
   ]
  },
  {
   "cell_type": "code",
   "execution_count": 17,
   "metadata": {},
   "outputs": [],
   "source": [
    "class Fraction:\n",
    "    \n",
    "    def __init__(self,num = 0, den = 0):\n",
    "        \n",
    "        if den == 0:\n",
    "            #Throw error\n",
    "            den = 1\n",
    "            \n",
    "        self.num = num\n",
    "        self.den = den\n",
    "        \n",
    "    \n",
    "    def print(self):\n",
    "        if self.num == 0:\n",
    "            print(0)\n",
    "        elif self.den == 1:\n",
    "            print(self.num)\n",
    "        else:\n",
    "            print(self.num,'/',self.den)\n",
    "            \n",
    "    def simplify(self):\n",
    "        if self.num == 0:\n",
    "            self.den = 1\n",
    "            return\n",
    "        current = min(self.num,self.den)\n",
    "        while current > 1:\n",
    "            if self.num%current == 0 and self.den%current == 0:\n",
    "                break\n",
    "            current-=1\n",
    "            \n",
    "        self.num = self.num//current\n",
    "        self.den = self.den//current     \n",
    "        \n",
    "        \n",
    "    def add(self,otherFraction):\n",
    "        newNum = otherFraction.den*self.num + otherFraction.num*self.den\n",
    "        newDen = otherFraction.den * self.den\n",
    "    \n",
    "        self.num = newNum\n",
    "        self.den = newDen\n",
    "        self.simplify()\n",
    "    \n",
    "    def multiply(self,otherFraction):\n",
    "        newNum = otherFraction.num * self.num\n",
    "        newDen = otherFraction.den * self.den\n",
    "    \n",
    "        self.num = newNum\n",
    "        self.den = newDen\n",
    "        self.simplify()"
   ]
  },
  {
   "cell_type": "code",
   "execution_count": 19,
   "metadata": {},
   "outputs": [
    {
     "name": "stdout",
     "output_type": "stream",
     "text": [
      "1\n"
     ]
    }
   ],
   "source": [
    "f1 = Fraction(2,3)\n",
    "f2 = Fraction(1,3)\n",
    "f1.add(f2)\n",
    "f1.print()"
   ]
  },
  {
   "cell_type": "code",
   "execution_count": 20,
   "metadata": {},
   "outputs": [
    {
     "name": "stdout",
     "output_type": "stream",
     "text": [
      "11 / 15\n"
     ]
    }
   ],
   "source": [
    "f1 = Fraction(2,5)\n",
    "f2 = Fraction(1,3)\n",
    "f1.add(f2)\n",
    "f1.print()"
   ]
  },
  {
   "cell_type": "code",
   "execution_count": 21,
   "metadata": {},
   "outputs": [
    {
     "name": "stdout",
     "output_type": "stream",
     "text": [
      "7 / 12\n"
     ]
    }
   ],
   "source": [
    "f1 = Fraction(4,6)\n",
    "f2 = Fraction(7,8)\n",
    "f1.multiply(f2)\n",
    "f1.print()"
   ]
  },
  {
   "cell_type": "code",
   "execution_count": 22,
   "metadata": {},
   "outputs": [
    {
     "name": "stdout",
     "output_type": "stream",
     "text": [
      "2 / 15\n"
     ]
    }
   ],
   "source": [
    "f1 = Fraction(2,3)\n",
    "f2 = Fraction(1,5)\n",
    "f1.multiply(f2)\n",
    "f1.print()"
   ]
  },
  {
   "cell_type": "markdown",
   "metadata": {},
   "source": [
    "# Complex Number Class"
   ]
  },
  {
   "cell_type": "markdown",
   "metadata": {},
   "source": [
    "## Complex Number\n",
    "A ComplexNumber class contains two data members : one is real part (R) and other is imaginary (I) (both integer).<br>\n",
    "Implement the Complex numbers class that contains following functions -\n",
    "#### 1. constructor<br>\n",
    "You need to create the appropriate constructor.\n",
    "#### 2. plus -<br>\n",
    "This function adds two given complex numbers and updates the first complex number.<br>\n",
    "e.g.\n",
    "if C1 = 4 + i5 and C2 = 3 +i1<br>\n",
    "C1.plus(C2) results in: <br>\n",
    "C1 = 7 + i6 and C2 = 3 + i1<br>\n",
    "#### 3. multiply -<br>\n",
    "This function multiplies two given complex numbers and updates the first complex number.<br>\n",
    "e.g.\n",
    "C1 = 4 + i5 and C2 = 1 + i2<br>\n",
    "C1.multiply(C2) results in: <br>\n",
    "C1 = -6 + i13 and C2 = 1 + i2<br>\n",
    "#### 4. print -<br>\n",
    "This function prints the given complex number in the following format :<br>\n",
    "a + ib<br>\n",
    "Note : There is space before and after '+' (plus sign) and no space between 'i' (iota symbol) and b.<br>\n",
    "#### Input Format :<br>\n",
    "Line 1 : Two integers - real and imaginary part of 1st complex number<br>\n",
    "Line 2 : Two integers - real and imaginary part of 2nd complex number<br>\n",
    "Line 3 : An integer representing choice (1 or 2) (1 represents plus function will be called and 2 represents multiply function will be called)<br>\n",
    "#### Sample Input 1 :\n",
    "4 5<br>\n",
    "6 7<br>\n",
    "1<br>\n",
    "#### Sample Output 1 :\n",
    "10 + i12<br>\n",
    "#### Sample Input 2 :\n",
    "4 5<br>\n",
    "6 7<br>\n",
    "2<br>\n",
    "#### Sample Output 2 :\n",
    "-11 + i58<br>"
   ]
  },
  {
   "cell_type": "code",
   "execution_count": 41,
   "metadata": {},
   "outputs": [],
   "source": [
    "class ComplexNumber:\n",
    "    \n",
    "    def __init__(self,real = 0, img = 0):\n",
    "            \n",
    "        self.real = real\n",
    "        self.img = img\n",
    "        \n",
    "    \n",
    "    def print(self):\n",
    "        if self.img == 0:\n",
    "            print(self.real,'+ i',self.img)\n",
    "        else:\n",
    "            print(self.real,'+ i',self.img)\n",
    "            \n",
    "    def add(self,othercomplexnumber):\n",
    "        newreal = self.real + othercomplexnumber.real\n",
    "        newimg = self.img + othercomplexnumber.img\n",
    "    \n",
    "        self.real = newreal\n",
    "        self.img = newimg\n",
    "        \n",
    "        \n",
    "    def multiply(self,othercomplexnumber):\n",
    "        newreal = (self.real*othercomplexnumber.real) - (self.img*othercomplexnumber.img)\n",
    "        newimg = (self.real*othercomplexnumber.img) + (self.img*othercomplexnumber.real)\n",
    "        \n",
    "        self.real = newreal\n",
    "        self.img = newimg"
   ]
  },
  {
   "cell_type": "code",
   "execution_count": 42,
   "metadata": {},
   "outputs": [
    {
     "name": "stdout",
     "output_type": "stream",
     "text": [
      "3 + i 3\n"
     ]
    }
   ],
   "source": [
    "c1 = ComplexNumber(1,1)\n",
    "c2 = ComplexNumber(2,2)\n",
    "c1.add(c2)\n",
    "c1.print()"
   ]
  },
  {
   "cell_type": "code",
   "execution_count": 43,
   "metadata": {},
   "outputs": [
    {
     "name": "stdout",
     "output_type": "stream",
     "text": [
      "0 + i 4\n"
     ]
    }
   ],
   "source": [
    "c1 = ComplexNumber(1,1)\n",
    "c2 = ComplexNumber(2,2)\n",
    "c1.multiply(c2)\n",
    "c1.print()"
   ]
  },
  {
   "cell_type": "markdown",
   "metadata": {},
   "source": [
    "# Full Complex Number program"
   ]
  },
  {
   "cell_type": "code",
   "execution_count": 44,
   "metadata": {},
   "outputs": [
    {
     "name": "stdout",
     "output_type": "stream",
     "text": [
      "4 5\n",
      "6 7\n",
      "2\n",
      "-11 + i58\n"
     ]
    }
   ],
   "source": [
    "class ComplexNumber:\n",
    "    \n",
    "    def __init__(self,real = 0, img = 0):\n",
    "            \n",
    "        self.real = real\n",
    "        self.img = img\n",
    "        \n",
    "    \n",
    "    def print(self):\n",
    "        if self.img == 0:\n",
    "            print(self.real,'+ i',end =\"\")\n",
    "            print(self.img)\n",
    "        else:\n",
    "            print(self.real,'+ i',end =\"\")\n",
    "            print(self.img)\n",
    "            \n",
    "    def add(self,othercomplexnumber):\n",
    "        newreal = self.real + othercomplexnumber.real\n",
    "        newimg = self.img + othercomplexnumber.img\n",
    "    \n",
    "        self.real = newreal\n",
    "        self.img = newimg\n",
    "        \n",
    "        \n",
    "    def multiply(self,othercomplexnumber):\n",
    "        newreal = (self.real*othercomplexnumber.real) - (self.img*othercomplexnumber.img)\n",
    "        newimg = (self.real*othercomplexnumber.img) + (self.img*othercomplexnumber.real)\n",
    "        \n",
    "        self.real = newreal\n",
    "        self.img = newimg\n",
    "\n",
    "str=input().split()\n",
    "real1,img1=int(str[0]),int(str[1])\n",
    "c1 = ComplexNumber(int(str[0]),int(str[1]))\n",
    "str2=input().split()\n",
    "real2,img2=int(str2[0]),int(str2[1])\n",
    "\n",
    "n = int(input())\n",
    "if n == 1:\n",
    "    c1 = ComplexNumber(real1,img1)\n",
    "    c2 = ComplexNumber(real2,img2)\n",
    "    c1.add(c2)\n",
    "    c1.print()\n",
    "    \n",
    "elif n == 2:\n",
    "    c1 = ComplexNumber(real1,img1)\n",
    "    c2 = ComplexNumber(real2,img2)\n",
    "    c1.multiply(c2)\n",
    "    c1.print()"
   ]
  }
 ],
 "metadata": {
  "kernelspec": {
   "display_name": "Python 3",
   "language": "python",
   "name": "python3"
  },
  "language_info": {
   "codemirror_mode": {
    "name": "ipython",
    "version": 3
   },
   "file_extension": ".py",
   "mimetype": "text/x-python",
   "name": "python",
   "nbconvert_exporter": "python",
   "pygments_lexer": "ipython3",
   "version": "3.7.3"
  }
 },
 "nbformat": 4,
 "nbformat_minor": 2
}
