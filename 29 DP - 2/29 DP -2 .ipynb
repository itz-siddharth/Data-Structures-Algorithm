{
 "cells": [
  {
   "cell_type": "markdown",
   "metadata": {},
   "source": [
    "# Minimum Cost Path"
   ]
  },
  {
   "cell_type": "markdown",
   "metadata": {},
   "source": [
    "# Min Cost Path Problem\n",
    "Given an integer matrix of size m*n, you need to find out the value of minimum cost to reach from <br>\n",
    "the cell (0, 0) to (m-1, n-1).<br>\n",
    "From a cell (i, j), you can move in three directions : (i+1, j), (i, j+1) and (i+1, j+1).<br>\n",
    "Cost of a path is defined as the sum of values of each cell through which path passes.<br>\n",
    "#### Input Format :\n",
    "Line 1 : Two integers, m and n<br>\n",
    "Next m lines : n integers of each row (separated by space)\n",
    "#### Output Format :\n",
    "Minimum cost\n",
    "#### Constraints :\n",
    "1 <= m, n <= 20\n",
    "#### Sample Input 1 :\n",
    "3 4<br>\n",
    "3 4 1 2<br>\n",
    "2 1 8 9<br>\n",
    "4 7 8 1<br>\n",
    "#### Sample Output 1 :\n",
    "13"
   ]
  },
  {
   "cell_type": "code",
   "execution_count": 1,
   "metadata": {},
   "outputs": [
    {
     "name": "stdout",
     "output_type": "stream",
     "text": [
      "3 4\n",
      "3 4 1 2\n",
      "2 1 8 9 \n",
      "4 7 8 1\n",
      "13\n"
     ]
    }
   ],
   "source": [
    "import sys\n",
    "\n",
    "def MCP_iter(cost, n, m):\n",
    "    \n",
    "    dp = [[sys.maxsize for j in range(m+1)] for i in range(n+1)]\n",
    "    \n",
    "    for i in range(n-1, -1, -1):\n",
    "        for j in range(m-1, -1, -1):\n",
    "            if i == n-1 and j == m-1 :\n",
    "                dp[i][j] = cost[i][j]\n",
    "            else:\n",
    "                ans1 = dp[i+1][j]\n",
    "                ans2 = dp[i][j+1]\n",
    "                ans3 = dp[i+1][j+1]\n",
    "                \n",
    "                dp[i][j] = cost[i][j] + min(ans1, ans2, ans3)\n",
    "                \n",
    "    return dp[0][0]\n",
    "\n",
    "\n",
    "\n",
    "n, m = [int(i) for i in input().strip().split()]\n",
    "cost = []\n",
    "for i in range(n):\n",
    "    row = [int(i) for i in input().strip().split()]\n",
    "    cost.append(row)\n",
    "    \n",
    "ans = MCP_iter(cost, n, m)\n",
    "print(ans)"
   ]
  },
  {
   "cell_type": "markdown",
   "metadata": {},
   "source": [
    "# MinCost Recursively"
   ]
  },
  {
   "cell_type": "markdown",
   "metadata": {},
   "source": [
    "# MinCost Memoization"
   ]
  },
  {
   "cell_type": "markdown",
   "metadata": {},
   "source": [
    "# MinCost Iteratively"
   ]
  },
  {
   "cell_type": "markdown",
   "metadata": {},
   "source": [
    "# Bottom Up And Top Down Approach"
   ]
  },
  {
   "cell_type": "markdown",
   "metadata": {},
   "source": [
    "# Longest Common Subsequence"
   ]
  },
  {
   "cell_type": "markdown",
   "metadata": {},
   "source": [
    "# LCS - Problem\n",
    "Given 2 strings of S1 and S2 with lengths m and n respectively, find the length of longest common subsequence.<br>\n",
    "A subsequence of a string S whose length is n, is a string containing characters in same relative order as they are present in S, but not necessarily contiguous. Subsequences contain all the strings of length varying from 0 to n. E.g. subsequences of string \"abc\" are - \"\",a,b,c,ab,bc,ac,abc.<br>\n",
    "#### Input Format :\n",
    "Line 1 : String S1<br>\n",
    "Line 2 : String s2\n",
    "#### Output Format :\n",
    "Line 1 : Length of lcs\n",
    "#### Sample Input :\n",
    "adebc<br>\n",
    "dcadb\n",
    "#### Sample Output :\n",
    "3"
   ]
  },
  {
   "cell_type": "code",
   "execution_count": null,
   "metadata": {},
   "outputs": [],
   "source": [
    "def lcsDP(s1, s2):\n",
    "#Implement Your Code Here\n",
    "    pass\n",
    "\n",
    "s1 =input().strip()\n",
    "s2 =input().strip()\n",
    "print(lcsDP(s1, s2))"
   ]
  },
  {
   "cell_type": "code",
   "execution_count": 2,
   "metadata": {},
   "outputs": [
    {
     "name": "stdout",
     "output_type": "stream",
     "text": [
      "adebc\n",
      "dcadb\n",
      "3\n"
     ]
    }
   ],
   "source": [
    "def lcs_iter(str1, str2):\n",
    "    n = len(str1)\n",
    "    m = len(str2)\n",
    "    \n",
    "    dp = [[0 for _ in range(m+1)] for _ in range(n+1)]\n",
    "    \n",
    "    for i in range(n-1, -1, -1):\n",
    "        for j in range(m-1, -1, -1):\n",
    "            \n",
    "            if str1[i] == str2[j]:\n",
    "                dp[i][j] = 1 + dp[i+1][j+1]\n",
    "            else:\n",
    "                dp[i][j] = max(dp[i+1][j], dp[i][j+1])\n",
    "    return dp[0][0]\n",
    "\n",
    "\n",
    "s1 =input().strip()\n",
    "s2 =input().strip()\n",
    "print(lcs_iter(s1, s2))"
   ]
  },
  {
   "cell_type": "markdown",
   "metadata": {},
   "source": [
    "# 0 1 Knapsack - Problem\n",
    "A thief robbing a store and can carry a maximal weight of W into his knapsack. There are N items and ith item weigh wi and is value vi. What is the maximum value V, that thief can take ?<br>\n",
    "#### Input Format :\n",
    "Line 1 : N i.e. number of items <br>\n",
    "Line 2 : N Integers i.e. weights of items separated by space<br>\n",
    "Line 3 : N Integers i.e. values of items separated by space<br>\n",
    "Line 4 : Integer W i.e. maximum weight thief can carry<br>\n",
    "#### Output Format :\n",
    "Line 1 : Maximum value V\n",
    "#### Constraints\n",
    "1 <= N <= 20<br>\n",
    "1<= wi <= 100<br>\n",
    "1 <= vi <= 100<br>\n",
    "#### Sample Input 1 :\n",
    "4<br>\n",
    "1 2 4 5<br>\n",
    "5 4 8 6<br>\n",
    "5<br>\n",
    "#### Sample Output :\n",
    "13"
   ]
  },
  {
   "cell_type": "code",
   "execution_count": null,
   "metadata": {},
   "outputs": [],
   "source": [
    "def knapsackBF(weights, values, maxWeight):\n",
    "    #Implement Your Code Here\n",
    "    pass\n",
    "\n",
    "from sys import setrecursionlimit\n",
    "setrecursionlimit(11000)\n",
    "n=int(input())\n",
    "weights=list(int(i) for i in input().strip().split(' '))\n",
    "values=list(int(i) for i in input().strip().split(' '))\n",
    "maxWeight=int(input())\n",
    "print(knapsackBF(weights, values, maxWeight))"
   ]
  },
  {
   "cell_type": "code",
   "execution_count": 3,
   "metadata": {},
   "outputs": [
    {
     "name": "stdout",
     "output_type": "stream",
     "text": [
      "4\n",
      "1 2 4 5\n",
      "5 2 8 6\n",
      "5\n",
      "13\n"
     ]
    }
   ],
   "source": [
    "def KS_iter_TD(wt, val, W):\n",
    "    n = len(val)\n",
    "    dp = [[0 for _ in range(W+1)] for _ in range(n+1)]\n",
    "    \n",
    "    for i in range(1, n+1):\n",
    "        for j in range(1, W+1):\n",
    "            \n",
    "            if j < wt[i-1]:\n",
    "                ans = dp[i-1][j]\n",
    "            else:\n",
    "                ans1 = val[i-1] + dp[i-1][j-wt[i-1]] #including that weight\n",
    "                ans2 = dp[i-1][j] # excluding that weight\n",
    "                ans = max(ans1, ans2)\n",
    "            dp[i][j] = ans\n",
    "            \n",
    "    return dp[n][W]\n",
    "\n",
    "\n",
    "from sys import setrecursionlimit\n",
    "setrecursionlimit(11000)\n",
    "n=int(input())\n",
    "weights=list(int(i) for i in input().strip().split(' '))\n",
    "values=list(int(i) for i in input().strip().split(' '))\n",
    "maxWeight=int(input())\n",
    "print(KS_iter_TD(weights, values, maxWeight))"
   ]
  },
  {
   "cell_type": "markdown",
   "metadata": {},
   "source": [
    "# Matrix Chain Multiplication\n",
    "Given a chain of matrices A1, A2, A3,.....An, you have to figure out the most efficient way to multiply these matrices i.e. determine where to place parentheses to minimise the number of multiplications.<br>\n",
    "You will be given an array p[] of size n + 1. Dimension of matrix Ai is p[i - 1]*p[i]. You need to find minimum number of multiplications needed to multiply the chain.<br>\n",
    "#### Input Format :\n",
    "Line 1 : Integer n i.e. number of matrices<br>\n",
    "Line 2 : n + 1 integers i.e. elements of array p[] <br>\n",
    "#### Output Format :\n",
    "Line 1 : Minimum number of multiplication needed\n",
    "#### Constraints :\n",
    "1 <= n <= 100\n",
    "#### Sample Input 1 :\n",
    "3<br>\n",
    "10 15 20 25\n",
    "#### Sample Output :\n",
    "8000\n",
    "#### Sample Output Explanation :\n",
    "There are two ways to multiply the chain - A1*(A2*A3) or (A1*A2)*A3.<br>\n",
    "If multiply in order A1*(A2*A3) then number of multiplications required are 15000.<br>\n",
    "If multiply in order (A1*A2)*A3 then number of multiplications required are 8000.<br>\n",
    "Thus minimum number of multiplications required are 8000"
   ]
  },
  {
   "cell_type": "code",
   "execution_count": 4,
   "metadata": {},
   "outputs": [
    {
     "name": "stdout",
     "output_type": "stream",
     "text": [
      "3\n",
      "10 15 20 25\n",
      "8000\n"
     ]
    }
   ],
   "source": [
    "import sys \n",
    "\n",
    "# Matrix Ai has dimension p[i-1] x p[i] for i = 1..n \n",
    "def MatrixChainOrder(p, n): \n",
    "\t# For simplicity of the program, one extra row and one \n",
    "\t# extra column are allocated in m[][]. 0th row and 0th \n",
    "\t# column of m[][] are not used \n",
    "\tm = [[0 for x in range(n)] for x in range(n)] \n",
    "\n",
    "\t# m[i,j] = Minimum number of scalar multiplications needed \n",
    "\t# to compute the matrix A[i]A[i+1]...A[j] = A[i..j] where \n",
    "\t# dimension of A[i] is p[i-1] x p[i] \n",
    "\n",
    "\t# cost is zero when multiplying one matrix. \n",
    "\tfor i in range(1, n): \n",
    "\t\tm[i][i] = 0\n",
    "\n",
    "\t# L is chain length. \n",
    "\tfor L in range(2, n): \n",
    "\t\tfor i in range(1, n-L+1): \n",
    "\t\t\tj = i+L-1\n",
    "\t\t\tm[i][j] = sys.maxsize \n",
    "\t\t\tfor k in range(i, j): \n",
    "\n",
    "\t\t\t\t# q = cost/scalar multiplications \n",
    "\t\t\t\tq = m[i][k] + m[k+1][j] + p[i-1]*p[k]*p[j] \n",
    "\t\t\t\tif q < m[i][j]: \n",
    "\t\t\t\t\tm[i][j] = q \n",
    "\n",
    "\treturn m[1][n-1] \n",
    "\n",
    "\n",
    "n = int(input())\n",
    "arr = [int(i) for i in input().strip().split()]\n",
    "\n",
    "ans = MatrixChainOrder(arr, len(arr))\n",
    "print(ans)"
   ]
  }
 ],
 "metadata": {
  "kernelspec": {
   "display_name": "Python 3",
   "language": "python",
   "name": "python3"
  },
  "language_info": {
   "codemirror_mode": {
    "name": "ipython",
    "version": 3
   },
   "file_extension": ".py",
   "mimetype": "text/x-python",
   "name": "python",
   "nbconvert_exporter": "python",
   "pygments_lexer": "ipython3",
   "version": "3.7.3"
  }
 },
 "nbformat": 4,
 "nbformat_minor": 2
}
