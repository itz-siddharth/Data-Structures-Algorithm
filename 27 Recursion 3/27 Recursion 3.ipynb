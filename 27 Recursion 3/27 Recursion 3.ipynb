{
 "cells": [
  {
   "cell_type": "markdown",
   "metadata": {},
   "source": [
    "# Return Subsequences\n",
    "Given a string (lets say of length n), return all the subsequences of the given string.<br>\n",
    "Subsequences contain all the strings of length varying from 0 to n. But the order of characters should remain same as in the input string.\n",
    "#### Note : The order of subsequences are not important.\n",
    "#### Sample Input:\n",
    "abc\n",
    "##### Sample Output:\n",
    "\"\" (the double quotes just signifies an empty string, don't worry about the quotes)<br>\n",
    "c <br>\n",
    "b <br>\n",
    "bc <br>\n",
    "a <br>\n",
    "ac <br>\n",
    "ab <br>\n",
    "abc "
   ]
  },
  {
   "cell_type": "code",
   "execution_count": null,
   "metadata": {},
   "outputs": [],
   "source": [
    "def subsequences(string):\n",
    "    #Implement Your Code Here\n",
    "    pass\n",
    "\n",
    "\n",
    "string = input()\n",
    "ans = subsequences(string)\n",
    "for ele in ans:\n",
    "    print(ele)"
   ]
  },
  {
   "cell_type": "code",
   "execution_count": 1,
   "metadata": {},
   "outputs": [
    {
     "name": "stdout",
     "output_type": "stream",
     "text": [
      "abc\n",
      "\n",
      "c\n",
      "b\n",
      "bc\n",
      "a\n",
      "ac\n",
      "ab\n",
      "abc\n"
     ]
    }
   ],
   "source": [
    "def print_All_Subsequences(string, output):\n",
    "    if len(string) == 0:\n",
    "        print(output)\n",
    "        return\n",
    "    print_All_Subsequences(string[1:], output)\n",
    "    print_All_Subsequences(string[1:], output+string[0])\n",
    "\n",
    "\n",
    "inp = input()\n",
    "print_All_Subsequences(inp, \"\")"
   ]
  },
  {
   "cell_type": "markdown",
   "metadata": {},
   "source": [
    "# Return Keypad\n",
    "Given an integer n, using phone keypad find out all the possible strings that can be made using digits of input n.<br>\n",
    "#### Note : The order of strings are not important.\n",
    "#### Input Format :\n",
    "Integer n\n",
    "#### Output Format :\n",
    "All possible strings in different lines\n",
    "#### Constraints :\n",
    "1 <= n <= 10^6\n",
    "#### Sample Input:\n",
    "23\n",
    "#### Sample Output:\n",
    "ad<br>\n",
    "ae<br>\n",
    "af<br>\n",
    "bd<br>\n",
    "be<br>\n",
    "bf<br>\n",
    "cd<br>\n",
    "ce<br>\n",
    "cf"
   ]
  },
  {
   "cell_type": "code",
   "execution_count": null,
   "metadata": {},
   "outputs": [],
   "source": [
    "def keypad(n):\n",
    "    #Implement Your Code Here\n",
    "    pass\n",
    "\n",
    "n = int(input())\n",
    "ans = keypad(n)\n",
    "for s in ans:\n",
    "    print(s)"
   ]
  },
  {
   "cell_type": "code",
   "execution_count": 2,
   "metadata": {},
   "outputs": [
    {
     "name": "stdout",
     "output_type": "stream",
     "text": [
      "23\n",
      "ad\n",
      "ae\n",
      "af\n",
      "bd\n",
      "be\n",
      "bf\n",
      "cd\n",
      "ce\n",
      "cf\n"
     ]
    }
   ],
   "source": [
    "keypad_combinations = {\n",
    "    0 : \"\", \n",
    "    1 : \"\", \n",
    "    2: \"abc\",\n",
    "    3 : \"def\",\n",
    "    4 : \"ghi\",\n",
    "    5 : \"jkl\",\n",
    "    6 : \"mno\",\n",
    "    7 : \"pqrs\",\n",
    "    8 : \"tuv\",\n",
    "    9 : \"wxyz\"\n",
    "}\n",
    "\n",
    "\n",
    "def keypad(n):\n",
    "    if n==0:\n",
    "        output = []\n",
    "        output.append(\"\")\n",
    "        return output\n",
    "    \n",
    "    smallerNumber = n//10\n",
    "    lastDigit = n%10\n",
    "    \n",
    "    smallerOutput = keypad(smallerNumber)\n",
    "    optionsForLastDigit = keypad_combinations[lastDigit]\n",
    "    output = []\n",
    "    \n",
    "    for s in smallerOutput:\n",
    "        for c in optionsForLastDigit:\n",
    "            option = s+c\n",
    "            output.append(option)\n",
    "            \n",
    "    return output\n",
    "\n",
    "n = int(input())\n",
    "ans = keypad(n)\n",
    "for i in ans:\n",
    "    print(i)"
   ]
  },
  {
   "cell_type": "markdown",
   "metadata": {},
   "source": [
    "# Print Subsequences\n",
    "Given a string (lets say of length n), print all the subsequences of the given string.<br>\n",
    "Subsequences contain all the strings of length varying from 0 to n. But the order of characters should remain same as in the input string.<br>\n",
    "#### Note : The order of subsequences are not important. Print every subsequence in new line.\n",
    "#### Sample Input:\n",
    "abc\n",
    "#### Sample Output:\n",
    "\"\" (the double quotes just signifies an empty string, don't worry about the quotes)<br>\n",
    "c <br>\n",
    "b <br>\n",
    "bc <br>\n",
    "a <br>\n",
    "ac <br>\n",
    "ab <br>\n",
    "abc "
   ]
  },
  {
   "cell_type": "code",
   "execution_count": null,
   "metadata": {},
   "outputs": [],
   "source": [
    "def printSubsequences(string):\n",
    "    #Implement Your Code Here\n",
    "    pass\n",
    "\n",
    "string = input()\n",
    "printSubsequences(string)"
   ]
  },
  {
   "cell_type": "code",
   "execution_count": 3,
   "metadata": {},
   "outputs": [
    {
     "name": "stdout",
     "output_type": "stream",
     "text": [
      "abc\n",
      "\n",
      "c\n",
      "b\n",
      "bc\n",
      "a\n",
      "ac\n",
      "ab\n",
      "abc\n"
     ]
    }
   ],
   "source": [
    "def print_All_Subsequences(string, output):\n",
    "    if len(string) == 0:\n",
    "        print(output)\n",
    "        return\n",
    "    print_All_Subsequences(string[1:], output)\n",
    "    print_All_Subsequences(string[1:], output+string[0])\n",
    "\n",
    "\n",
    "inp = input()\n",
    "print_All_Subsequences(inp, \"\")"
   ]
  },
  {
   "cell_type": "markdown",
   "metadata": {},
   "source": [
    "# Print Keypad\n",
    "Given an integer n, using phone keypad find out and print all the possible strings that can be made using digits of input n.\n",
    "#### Note : The order of strings are not important. Just print different strings in new lines.\n",
    "#### Input Format :\n",
    "Integer n\n",
    "#### Output Format :\n",
    "All possible strings in different lines\n",
    "#### Constraints :\n",
    "1 <= n <= 10^6\n",
    "#### Sample Input:\n",
    "23\n",
    "#### Sample Output:\n",
    "ad<br>\n",
    "ae<br>\n",
    "af<br>\n",
    "bd<br>\n",
    "be<br>\n",
    "bf<br>\n",
    "cd<br>\n",
    "ce<br>\n",
    "cf<br>"
   ]
  },
  {
   "cell_type": "code",
   "execution_count": 4,
   "metadata": {},
   "outputs": [
    {
     "name": "stdout",
     "output_type": "stream",
     "text": [
      "23\n",
      "ad\n",
      "ae\n",
      "af\n",
      "bd\n",
      "be\n",
      "bf\n",
      "cd\n",
      "ce\n",
      "cf\n"
     ]
    }
   ],
   "source": [
    "keypad_combinations = {\n",
    "    0 : \"\", \n",
    "    1 : \"\", \n",
    "    2: \"abc\",\n",
    "    3 : \"def\",\n",
    "    4 : \"ghi\",\n",
    "    5 : \"jkl\",\n",
    "    6 : \"mno\",\n",
    "    7 : \"pqrs\",\n",
    "    8 : \"tuv\",\n",
    "    9 : \"wxyz\"\n",
    "}\n",
    "\n",
    "\n",
    "def keypad(n):\n",
    "    if n==0:\n",
    "        output = []\n",
    "        output.append(\"\")\n",
    "        return output\n",
    "    \n",
    "    smallerNumber = n//10\n",
    "    lastDigit = n%10\n",
    "    \n",
    "    smallerOutput = keypad(smallerNumber)\n",
    "    optionsForLastDigit = keypad_combinations[lastDigit]\n",
    "    output = []\n",
    "    \n",
    "    for s in smallerOutput:\n",
    "        for c in optionsForLastDigit:\n",
    "            option = s+c\n",
    "            output.append(option)\n",
    "            \n",
    "    return output\n",
    "\n",
    "n = int(input())\n",
    "ans = keypad(n)\n",
    "for i in ans:\n",
    "    print(i)"
   ]
  },
  {
   "cell_type": "markdown",
   "metadata": {},
   "source": [
    "# [ASSIGNMENT]"
   ]
  },
  {
   "cell_type": "markdown",
   "metadata": {},
   "source": [
    "# Return subsets sum to K\n",
    "Given an array A of size n and an integer K, return all subsets of A which sum to K.<br>\n",
    "Subsets are of length varying from 0 to n, that contain elements of the array. But the order of elements should remain same as in the input array.\n",
    "#### Note : The order of subsets are not important.\n",
    "#### Input format :\n",
    "Line 1 : Integer n, Size of input array<br>\n",
    "Line 2 : Array elements separated by space<br>\n",
    "Line 3 : K \n",
    "#### Constraints :\n",
    "1 <= n <= 20\n",
    "#### Sample Input :\n",
    "9 <br>\n",
    "5 12 3 17 1 18 15 3 17 <br>\n",
    "6\n",
    "#### Sample Output :\n",
    "3 3<br>\n",
    "5 1"
   ]
  },
  {
   "cell_type": "code",
   "execution_count": 5,
   "metadata": {},
   "outputs": [
    {
     "name": "stdout",
     "output_type": "stream",
     "text": [
      "9\n",
      "5 12 3 17 1 18 15 3 17\n",
      "6\n",
      "5 1\n",
      "3 3\n"
     ]
    }
   ],
   "source": [
    "def subsetSumK(arr, k):\n",
    "    n = len(arr)\n",
    "    if(n==1):\n",
    "        if(arr[0] == k):\n",
    "            output = [[k]]\n",
    "            return output\n",
    "        else:\n",
    "            output = []\n",
    "            return output\n",
    "        \n",
    "    output1 = subsetSumK(arr[:-1], k)\n",
    "    output2 = subsetSumK(arr[:-1], k-arr[-1])\n",
    "    for lst in output2:\n",
    "        lst.append(arr[-1])\n",
    "    if arr[-1] == k:\n",
    "        output2.append([k])\n",
    "    return output1+output2\n",
    "\n",
    "n = int(input())\n",
    "arr = [int(i) for i in input().strip().split()]\n",
    "k = int(input())\n",
    "output = subsetSumK(arr, k)\n",
    "for lst in output:\n",
    "    print(*lst)"
   ]
  },
  {
   "cell_type": "markdown",
   "metadata": {},
   "source": [
    "# Return subset of an array\n",
    "Send Feedback\n",
    "Given an integer array (of length n), find and return all the subsets of input array.\n",
    "Subsets are of length varying from 0 to n, that contain elements of the array. But the order of elements should remain same as in the input array.\n",
    "Note : The order of subsets are not important.\n",
    "Input format :\n",
    "\n",
    "Line 1 : Size of array\n",
    "\n",
    "Line 2 : Array elements (separated by space)\n",
    "\n",
    "Sample Input:\n",
    "3\n",
    "15 20 12\n",
    "Sample Output:\n",
    "[] (this just represents an empty array, don't worry about the square brackets)\n",
    "12 \n",
    "20 \n",
    "20 12 \n",
    "15 \n",
    "15 12 \n",
    "15 20 \n",
    "15 20 12 "
   ]
  },
  {
   "cell_type": "code",
   "execution_count": null,
   "metadata": {},
   "outputs": [],
   "source": [
    "/***\n",
    "You need to save all the subsets in the given 2D output array. And return the number of subsets(i.e. number of rows filled in output) from the given function.\n",
    "\n",
    "In ith row of output array, 1st column contains length of the ith subset. And from 1st column actual subset follows.\n",
    "For eg. Input : {1, 2}, then output should contain \n",
    "\t{{0}, \t\t// Length of this subset is 0\n",
    "\t{1, 2},\t\t// Length of this subset is 1\n",
    "\t{1, 1},\t\t// Length of this subset is also 1\n",
    "\t{2, 1, 2}}\t// Length of this subset is 2\n",
    "\n",
    "Don’t print the subsets, just save them in output.\n",
    "***/\n",
    "\n",
    "int subset(int input[], int n, int output[][20]) {\n",
    "    // Write your code here\n",
    "\n",
    "}\n"
   ]
  },
  {
   "cell_type": "code",
   "execution_count": 10,
   "metadata": {},
   "outputs": [
    {
     "ename": "SyntaxError",
     "evalue": "invalid syntax (<ipython-input-10-2c2613c5bc24>, line 1)",
     "output_type": "error",
     "traceback": [
      "\u001b[1;36m  File \u001b[1;32m\"<ipython-input-10-2c2613c5bc24>\"\u001b[1;36m, line \u001b[1;32m1\u001b[0m\n\u001b[1;33m    int subset(int input[], int n, int si, int output[][20]){\u001b[0m\n\u001b[1;37m             ^\u001b[0m\n\u001b[1;31mSyntaxError\u001b[0m\u001b[1;31m:\u001b[0m invalid syntax\n"
     ]
    }
   ],
   "source": [
    "####C++ code\n",
    "int subset(int input[], int n, int si, int output[][20]){\n",
    "  if(si==n){\n",
    "    output[0][0]=0;\n",
    "    return 1;\n",
    "  }\n",
    "  int y = subset(input, n, si+1, output);\n",
    "  \n",
    "  for(int i=0;i<y;i++){\n",
    "    output[i+y][0]=output[i][0]+1;\n",
    "    output[i+y][1]=input[si];\n",
    "    for(int j=1;j<=output[i][0];j++){\n",
    "      output[i+y][j+1]=output[i][j];\n",
    "    }\n",
    "  }\n",
    "  return 2*y;\n",
    "}\n",
    "\n",
    "int subset(int input[], int n, int output[][20]) {\n",
    "    // Write your code here\n",
    "  \n",
    "  return subset(input, n, 0, output);\n",
    "\n",
    "}"
   ]
  },
  {
   "cell_type": "markdown",
   "metadata": {},
   "source": [
    "# Return Permutations of a String\n",
    "Given a string, find and return all the possible permutations of the input string.\n",
    "#### Note : The order of permutations are not important.\n",
    "#### Sample Input :\n",
    "abc\n",
    "#### Sample Output :\n",
    "abc<br>\n",
    "acb<br>\n",
    "bac<br>\n",
    "bca<br>\n",
    "cab<br>\n",
    "cba"
   ]
  },
  {
   "cell_type": "code",
   "execution_count": 9,
   "metadata": {},
   "outputs": [
    {
     "name": "stdout",
     "output_type": "stream",
     "text": [
      "abc\n",
      "abc\n",
      "acb\n",
      "bac\n",
      "bca\n",
      "cab\n",
      "cba\n"
     ]
    }
   ],
   "source": [
    "def permutations(s):\n",
    "    l = []\n",
    "    length = len(s)\n",
    "    if length is 1:\n",
    "        return [s]\n",
    "    for i in range(0, length):\n",
    "        p = permutations(s[0:i]+s[i+1:])\n",
    "        for perm in p:\n",
    "            l.append(s[i]+perm)\n",
    "            \n",
    "    return l\n",
    "\n",
    "\n",
    "string = input()\n",
    "ans = permutations(string)\n",
    "for s in ans:\n",
    "    print(s)"
   ]
  },
  {
   "cell_type": "markdown",
   "metadata": {},
   "source": [
    "# Print Subsets of Array\n",
    "Given an integer array (of length n), find and print all the subsets of input array.<br>\n",
    "Subsets are of length varying from 0 to n, that contain elements of the array. But the order of elements should remain same as in the input array.<br>\n",
    "#### Note : The order of subsets are not important. Just print the subsets in different lines.\n",
    "#### Input format :\n",
    "Line 1 : Integer n, Size of array<br>\n",
    "Line 2 : Array elements (separated by space)\n",
    "#### Constraints :\n",
    "1 <= n <= 15\n",
    "#### Sample Input:\n",
    "3<br>\n",
    "15 20 12\n",
    "#### Sample Output:\n",
    "[] (this just represents an empty array, don't worry about the square brackets)<br>\n",
    "12 <br>\n",
    "20 <br>\n",
    "20 12 <br>\n",
    "15 <br>\n",
    "15 12 <br>\n",
    "15 20 <br>\n",
    "15 20 12 "
   ]
  },
  {
   "cell_type": "code",
   "execution_count": 13,
   "metadata": {},
   "outputs": [
    {
     "ename": "SyntaxError",
     "evalue": "invalid syntax (<ipython-input-13-3bc10db96a25>, line 1)",
     "output_type": "error",
     "traceback": [
      "\u001b[1;36m  File \u001b[1;32m\"<ipython-input-13-3bc10db96a25>\"\u001b[1;36m, line \u001b[1;32m1\u001b[0m\n\u001b[1;33m    void help( int input[], int si, int size, int output[], int osize):\u001b[0m\n\u001b[1;37m            ^\u001b[0m\n\u001b[1;31mSyntaxError\u001b[0m\u001b[1;31m:\u001b[0m invalid syntax\n"
     ]
    }
   ],
   "source": [
    "void help( int input[], int si, int size, int output[], int osize)\n",
    "{\n",
    "  if(si == size){\n",
    "    for(int i=0;i<osize;i++){\n",
    "      cout<<output[i]<<\" \";\n",
    "    }\n",
    "    cout<<endl;\n",
    "      return;\n",
    "  }\n",
    "  \n",
    "  int a[40], a1=0;\n",
    "  help(input, si+1, size, output, osize);\n",
    "  \n",
    "  int i;\n",
    "  for(i=0;i<osize;i++){\n",
    "    a[i] = output[i];\n",
    "  }\n",
    "  a[i]=input[si];\n",
    "  help(input, si+1, size, a, osize+1);\n",
    "}\n",
    "\n",
    "void printSubsetsOfArray(int input[], int size) {\n",
    "\t// Write your code here\n",
    "  \n",
    "  int output[1000];\n",
    "  return help(input, 0, size, output, 0);\n",
    "}"
   ]
  },
  {
   "cell_type": "markdown",
   "metadata": {},
   "source": [
    "# Print Subset Sum to K\n",
    "Given an array A and an integer K, print all subsets of A which sum to K.<br>\n",
    "Subsets are of length varying from 0 to n, that contain elements of the array. But the order of elements should remain same as in the input array.<br>\n",
    "#### Note : The order of subsets are not important. Just print them in different lines.\n",
    "#### Input format :\n",
    "Line 1 : Size of input array<br>\n",
    "Line 2 : Array elements separated by space<br>\n",
    "Line 3 : K \n",
    "#### Sample Input:\n",
    "9 <br>\n",
    "5 12 3 17 1 18 15 3 17 <br>\n",
    "6\n",
    "#### Sample Output:\n",
    "3 3<br>\n",
    "5 1"
   ]
  },
  {
   "cell_type": "code",
   "execution_count": null,
   "metadata": {},
   "outputs": [],
   "source": [
    "void sum(int input[], int si, int size, int output[], int osize, int k){\n",
    "  if(si==size){\n",
    "    if(k==0){\n",
    "      for(int i=0;i<osize;i++){\n",
    "        cout<<output[i]<<\" \";\n",
    "      }\n",
    "      cout<<endl;\n",
    "    }\n",
    "    return;\n",
    "  }\n",
    "  \n",
    "  int a[1000], b[1000], size1=0, size2=0;\n",
    "  sum(input, si+1, size, output, osize, k);\n",
    "  if(k>0){\n",
    "    int i;\n",
    "    for(i=0;i<osize;i++){\n",
    "      b[i]=output[i];\n",
    "    }\n",
    "    b[i]=input[si];\n",
    "    sum(input, si+1, size, b, osize+1, k-input[si]);\n",
    "  }\n",
    "}\n",
    "\n",
    "void printSubsetSumToK(int input[], int size, int k) {\n",
    "    // Write your code here\n",
    "  int output[1000];\n",
    "  sum(input, 0, size, output, 0, k);\n",
    "}"
   ]
  },
  {
   "cell_type": "markdown",
   "metadata": {},
   "source": [
    "# Print Permutations of a String\n",
    "Given a string, find and print all the possible permutations of the input string.\n",
    "#### Note : The order of permutations are not important. Just print them in different lines.\n",
    "#### Sample Input :\n",
    "abc\n",
    "#### Sample Output :\n",
    "abc<br>\n",
    "acb<br>\n",
    "bac<br>\n",
    "bca<br>\n",
    "cab<br>\n",
    "cba<br>"
   ]
  },
  {
   "cell_type": "code",
   "execution_count": null,
   "metadata": {},
   "outputs": [],
   "source": [
    "def printPermutations(string):\n",
    "    #Implement Your Code Here\n",
    "    pass\n",
    "\n",
    "string = input()\n",
    "printPermutations(string)"
   ]
  },
  {
   "cell_type": "code",
   "execution_count": null,
   "metadata": {},
   "outputs": [],
   "source": [
    "#include <iostream>\n",
    "#include <string>\n",
    "using namespace std;\n",
    "\n",
    "void help(string input, string output){\n",
    "  if(input.length()==0){\n",
    "    cout<<output<<endl;\n",
    "    return;\n",
    "  }\n",
    "  \n",
    "  for(int i=0;i<=output.length();i++){\n",
    "    help(input.substr(1), output.substr(0,i)+input[0]+output.substr(i));\n",
    "  }\n",
    "}\n",
    "\n",
    "\n",
    "\n",
    "void printPermutations(string input){\n",
    "\n",
    "    \t/* Don't write main() function.\n",
    "\t * Don't read input, it is passed as function argument.\n",
    "\t * Print output as specified in the question\n",
    "\t*/\n",
    "  help(input,\"\");\n",
    "  return;\n",
    "}\n",
    "\n",
    "\n",
    "\n"
   ]
  }
 ],
 "metadata": {
  "kernelspec": {
   "display_name": "Python 3",
   "language": "python",
   "name": "python3"
  },
  "language_info": {
   "codemirror_mode": {
    "name": "ipython",
    "version": 3
   },
   "file_extension": ".py",
   "mimetype": "text/x-python",
   "name": "python",
   "nbconvert_exporter": "python",
   "pygments_lexer": "ipython3",
   "version": "3.7.3"
  }
 },
 "nbformat": 4,
 "nbformat_minor": 2
}
