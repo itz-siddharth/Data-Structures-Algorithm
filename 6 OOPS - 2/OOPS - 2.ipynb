{
 "cells": [
  {
   "cell_type": "markdown",
   "metadata": {},
   "source": [
    "# Inheritance , Basics of inheritance"
   ]
  },
  {
   "cell_type": "code",
   "execution_count": 1,
   "metadata": {},
   "outputs": [
    {
     "name": "stdout",
     "output_type": "stream",
     "text": [
      "Color :  red\n",
      "MaxSpeed :  15\n",
      "NumGears :  3\n",
      "IsConvertible :  False\n"
     ]
    }
   ],
   "source": [
    "class Vehicle:\n",
    "    def __init__(self,color,maxSpeed):\n",
    "        self.color = color\n",
    "        self.maxSpeed = maxSpeed\n",
    "        \n",
    "class Car(Vehicle):\n",
    "    \n",
    "    def __init__(self,color,maxSpeed,numGears,isConvertible):\n",
    "        \n",
    "        super().__init__(color,maxSpeed)\n",
    "        self.numGears = numGears\n",
    "        self.isConvertible = isConvertible\n",
    "        \n",
    "    def printCar(self):\n",
    "        print(\"Color : \", self.color)\n",
    "        print(\"MaxSpeed : \", self.maxSpeed)\n",
    "        print(\"NumGears : \", self.numGears)\n",
    "        print(\"IsConvertible : \", self.isConvertible)\n",
    "        \n",
    "c = Car(\"red\",15,3,False)\n",
    "c.printCar()"
   ]
  },
  {
   "cell_type": "markdown",
   "metadata": {},
   "source": [
    "# Inheritance And Private Members"
   ]
  },
  {
   "cell_type": "code",
   "execution_count": 2,
   "metadata": {},
   "outputs": [
    {
     "name": "stdout",
     "output_type": "stream",
     "text": [
      "Color :  red\n",
      "MaxSpeed :  15\n",
      "NumGears :  3\n",
      "IsConvertible :  False\n"
     ]
    }
   ],
   "source": [
    "class Vehicle:\n",
    "    def __init__(self,color,maxSpeed):\n",
    "        self.color = color\n",
    "        self.__maxSpeed = maxSpeed\n",
    "        \n",
    "    def getmaxSpeed(self):\n",
    "        return self.__maxSpeed\n",
    "    \n",
    "    def setmaxSpeed(self,maxSpeed):\n",
    "        self.__maxSpeed = maxSpeed\n",
    "        \n",
    "class Car(Vehicle):\n",
    "    \n",
    "    def __init__(self,color,maxSpeed,numGears,isConvertible):\n",
    "        \n",
    "        super().__init__(color,maxSpeed)\n",
    "        self.numGears = numGears\n",
    "        self.isConvertible = isConvertible\n",
    "        \n",
    "    def printCar(self):\n",
    "        print(\"Color : \", self.color)\n",
    "        print(\"MaxSpeed : \", self.getmaxSpeed())\n",
    "        print(\"NumGears : \", self.numGears)\n",
    "        print(\"IsConvertible : \", self.isConvertible)\n",
    "        \n",
    "c = Car(\"red\",15,3,False)\n",
    "c.printCar()"
   ]
  },
  {
   "cell_type": "markdown",
   "metadata": {},
   "source": [
    "# Inheritance - Continue"
   ]
  },
  {
   "cell_type": "code",
   "execution_count": 3,
   "metadata": {},
   "outputs": [
    {
     "name": "stdout",
     "output_type": "stream",
     "text": [
      "Color :  red\n",
      "MaxSpeed :  15\n",
      "NumGears :  3\n",
      "IsConvertible :  False\n"
     ]
    }
   ],
   "source": [
    "class Vehicle:\n",
    "    def __init__(self,color,maxSpeed):\n",
    "        self.color = color\n",
    "        self.__maxSpeed = maxSpeed\n",
    "        \n",
    "    def getmaxSpeed(self):\n",
    "        return self.__maxSpeed\n",
    "    \n",
    "    def setmaxSpeed(self,maxSpeed):\n",
    "        self.__maxSpeed = maxSpeed\n",
    "        \n",
    "    def print(self):\n",
    "        print(\"Color : \", self.color)\n",
    "        print(\"MaxSpeed : \", self.__maxSpeed)\n",
    "        \n",
    "        \n",
    "class Car(Vehicle):\n",
    "    \n",
    "    def __init__(self,color,maxSpeed,numGears,isConvertible):\n",
    "        \n",
    "        super().__init__(color,maxSpeed)\n",
    "        self.numGears = numGears\n",
    "        self.isConvertible = isConvertible\n",
    "        \n",
    "    def printCar(self):\n",
    "        #super().print() can also be used\n",
    "        self.print()\n",
    "        #this can be used as the child class inheret the properties of the parent class\n",
    "        print(\"NumGears : \", self.numGears)\n",
    "        print(\"IsConvertible : \", self.isConvertible)\n",
    "        \n",
    "c = Car(\"red\",15,3,False)\n",
    "c.printCar()"
   ]
  },
  {
   "cell_type": "markdown",
   "metadata": {},
   "source": [
    "# Polymorphism"
   ]
  },
  {
   "cell_type": "code",
   "execution_count": 5,
   "metadata": {},
   "outputs": [
    {
     "name": "stdout",
     "output_type": "stream",
     "text": [
      "Color :  red\n",
      "MaxSpeed :  15\n",
      "NumGears :  3\n",
      "IsConvertible :  False\n"
     ]
    }
   ],
   "source": [
    "class Vehicle:\n",
    "    def __init__(self,color,maxSpeed):\n",
    "        self.color = color\n",
    "        self.__maxSpeed = maxSpeed\n",
    "        \n",
    "    def getmaxSpeed(self):\n",
    "        return self.__maxSpeed\n",
    "    \n",
    "    def setmaxSpeed(self,maxSpeed):\n",
    "        self.__maxSpeed = maxSpeed\n",
    "        \n",
    "    def print(self):\n",
    "        print(\"Color : \", self.color)\n",
    "        print(\"MaxSpeed : \", self.__maxSpeed)\n",
    "        \n",
    "        \n",
    "class Car(Vehicle):\n",
    "    \n",
    "    def __init__(self,color,maxSpeed,numGears,isConvertible):\n",
    "        \n",
    "        super().__init__(color,maxSpeed)\n",
    "        self.numGears = numGears\n",
    "        self.isConvertible = isConvertible\n",
    "        \n",
    "    def print(self):\n",
    "        super().print() \n",
    "        #self.print() will give Recursion Error\n",
    "        #this can be used as the child class inheret the properties of the parent class\n",
    "        print(\"NumGears : \", self.numGears)\n",
    "        print(\"IsConvertible : \", self.isConvertible)\n",
    "        \n",
    "c = Car(\"red\",15,3,False)\n",
    "c.print()"
   ]
  },
  {
   "cell_type": "markdown",
   "metadata": {},
   "source": [
    "# Protected Members"
   ]
  },
  {
   "cell_type": "code",
   "execution_count": 1,
   "metadata": {},
   "outputs": [
    {
     "name": "stdout",
     "output_type": "stream",
     "text": [
      "Color : red\n",
      "MaxSpeed : 18\n",
      "\n",
      "15\n"
     ]
    }
   ],
   "source": [
    "class Vehicle:\n",
    "\n",
    "\tdef __init__(self,color,maxSpeed):\n",
    "\t\tself.color = color\n",
    "\t\tself._maxSpeed = maxSpeed\n",
    "\n",
    "\t@classmethod\n",
    "\tdef getMaxSpeed(cls):\n",
    "\t\treturn 15\n",
    "\n",
    "\tdef setMaxSpeed(self,maxSpeed):\n",
    "\t\tself._maxSpeed = maxSpeed\n",
    "\n",
    "\tdef print(self):\n",
    "\t\tprint(\"Color :\" ,self.color)\n",
    "\t\tprint(\"MaxSpeed :\",self._maxSpeed)\n",
    "\n",
    "class Car(Vehicle):\n",
    "\n",
    "\tdef __init__(self,color,maxSpeed,numGears,isConvertible):\n",
    "\n",
    "\t\tsuper().__init__(color,maxSpeed)\n",
    "\t\tself.numGears = numGears\n",
    "\t\tself.isConvertible = isConvertible\n",
    "\n",
    "\tdef print(self):\n",
    "\t\t# super().print()\n",
    "\t\tprint(\"Color :\" ,self.color)\n",
    "\t\tprint(\"MaxSpeed :\",self._maxSpeed)\n",
    "\t\tprint(\"NumGears :\",self.numGears)\n",
    "\t\tprint(\"IsConvertible :\", self.isConvertible)\n",
    "\n",
    "\n",
    "# c = Car(\"red\",15,3,False)\n",
    "# c.print()\n",
    "#print()\n",
    "v = Vehicle(\"red\",18)\n",
    "v.print()\n",
    "print()\n",
    "v._maxSpeed = 19\n",
    "get = v.getMaxSpeed()\n",
    "print(get)"
   ]
  },
  {
   "cell_type": "markdown",
   "metadata": {},
   "source": [
    "# Object Class"
   ]
  },
  {
   "cell_type": "code",
   "execution_count": 1,
   "metadata": {},
   "outputs": [
    {
     "name": "stdout",
     "output_type": "stream",
     "text": [
      "This is a Circle class which takes radius as an argument.\n"
     ]
    }
   ],
   "source": [
    "class Circle(object):\n",
    "\n",
    "\tdef __init__(self,radius):\n",
    "\t\tself.__radius = radius\n",
    "\n",
    "\tdef __str__(self):\n",
    "\t\treturn \"This is a Circle class which takes radius as an argument.\"\n",
    "\n",
    "c = Circle(3)\n",
    "print(c)"
   ]
  },
  {
   "cell_type": "markdown",
   "metadata": {},
   "source": [
    "# Multiple Inheritance"
   ]
  },
  {
   "cell_type": "code",
   "execution_count": 5,
   "metadata": {},
   "outputs": [
    {
     "name": "stdout",
     "output_type": "stream",
     "text": [
      "Name of child is Ajay\n",
      "[<class '__main__.Child'>, <class '__main__.Mother'>, <class '__main__.Father'>, <class 'object'>]\n"
     ]
    }
   ],
   "source": [
    "class Mother:\n",
    "\n",
    "\tdef __init__(self):\n",
    "\t\tself.name = \"Manju\"\n",
    "\t\tsuper().__init__()\n",
    "\n",
    "\tdef print(self):\n",
    "\n",
    "\t\tprint(\"Print Of Mother called\")\n",
    "\n",
    "class Father:\n",
    "\n",
    "\tdef __init__(self):\n",
    "\t\tself.name = \"Ajay\"\n",
    "\t\tsuper().__init__()\n",
    "\tdef print(self):\n",
    "\n",
    "\t\tprint(\"Print Of Father called\")\n",
    "\n",
    "class Child(Mother,Father):\n",
    "\n",
    "\tdef __init__(self):\n",
    "\t\tsuper().__init__()\n",
    "\n",
    "\tdef print(self):\n",
    "\t\tprint(\"Name of child is\", self.name)\n",
    "\n",
    "c = Child()\n",
    "c.print()\n",
    "print(Child.mro())"
   ]
  },
  {
   "cell_type": "markdown",
   "metadata": {},
   "source": [
    "# Method Resolution Order"
   ]
  },
  {
   "cell_type": "markdown",
   "metadata": {},
   "source": [
    "class X: pass<br>\n",
    "class Y: pass<br>\n",
    "class Z:pass<br>\n",
    "class A(X,Y):pass<br>\n",
    "class B(Y,Z):pass<br>\n",
    "class Child(B,A,Y):pass<br>\n",
    "\n",
    "What will be the Method Resolution Order of C?<br>\n",
    "C > B > Z > A > X > Y "
   ]
  },
  {
   "cell_type": "markdown",
   "metadata": {},
   "source": [
    "# Operator Overloading"
   ]
  },
  {
   "cell_type": "code",
   "execution_count": 16,
   "metadata": {},
   "outputs": [
    {
     "name": "stdout",
     "output_type": "stream",
     "text": [
      "This point is at (4,6)\n",
      "False\n"
     ]
    }
   ],
   "source": [
    "import math\n",
    "class Point:\n",
    "\n",
    "\tdef __init__(self,x,y):\n",
    "\t\tself.__x = x\n",
    "\t\tself.__y = y\n",
    "\n",
    "\n",
    "\tdef __str__(self):\n",
    "\n",
    "\t\treturn \"This point is at (\" + str(self.__x) + \",\" + str(self.__y) + \")\"\n",
    "\n",
    "\tdef __add__(self,point_object):\n",
    "\t\treturn Point(self.__x + point_object.__x,self.__y + point_object.__y)\n",
    "\n",
    "\tdef __lt__(self,point_object):\n",
    "\t\treturn math.sqrt(self.__x**2 + self.__y**2) < math.sqrt(point_object.__x**2 + point_object.__y**2)\n",
    "\n",
    "\n",
    "p1 = Point(1,2)\n",
    "p2 = Point(3,4)\n",
    "p3 = p1 + p2\n",
    "print(p3)\n",
    "print(p2<p1)"
   ]
  },
  {
   "cell_type": "markdown",
   "metadata": {},
   "source": [
    "# Predict The Output"
   ]
  },
  {
   "cell_type": "code",
   "execution_count": 4,
   "metadata": {},
   "outputs": [
    {
     "ename": "AttributeError",
     "evalue": "'Car' object has no attribute 'color'",
     "output_type": "error",
     "traceback": [
      "\u001b[1;31m---------------------------------------------------------------------------\u001b[0m",
      "\u001b[1;31mAttributeError\u001b[0m                            Traceback (most recent call last)",
      "\u001b[1;32m<ipython-input-4-941b8493acd7>\u001b[0m in \u001b[0;36m<module>\u001b[1;34m\u001b[0m\n\u001b[0;32m      6\u001b[0m          \u001b[0mself\u001b[0m\u001b[1;33m.\u001b[0m\u001b[0mnumGears\u001b[0m \u001b[1;33m=\u001b[0m \u001b[0mnumGears\u001b[0m\u001b[1;33m\u001b[0m\u001b[1;33m\u001b[0m\u001b[0m\n\u001b[0;32m      7\u001b[0m \u001b[0mc\u001b[0m\u001b[1;33m=\u001b[0m \u001b[0mCar\u001b[0m\u001b[1;33m(\u001b[0m\u001b[1;34m\"black\"\u001b[0m\u001b[1;33m,\u001b[0m\u001b[1;36m5\u001b[0m\u001b[1;33m)\u001b[0m\u001b[1;33m\u001b[0m\u001b[1;33m\u001b[0m\u001b[0m\n\u001b[1;32m----> 8\u001b[1;33m \u001b[0mprint\u001b[0m\u001b[1;33m(\u001b[0m\u001b[0mc\u001b[0m\u001b[1;33m.\u001b[0m\u001b[0mcolor\u001b[0m\u001b[1;33m)\u001b[0m\u001b[1;33m\u001b[0m\u001b[1;33m\u001b[0m\u001b[0m\n\u001b[0m",
      "\u001b[1;31mAttributeError\u001b[0m: 'Car' object has no attribute 'color'"
     ]
    }
   ],
   "source": [
    "class Vehicle:\n",
    "     def __init__(self,color):\n",
    "         self.color = color\n",
    "class Car(Vehicle):\n",
    "     def __init__(self,color,numGears):\n",
    "         self.numGears = numGears\n",
    "c= Car(\"black\",5)\n",
    "print(c.color)"
   ]
  },
  {
   "cell_type": "code",
   "execution_count": 5,
   "metadata": {},
   "outputs": [
    {
     "name": "stdout",
     "output_type": "stream",
     "text": [
      "black\n"
     ]
    }
   ],
   "source": [
    "class Vehicle:\n",
    "    def __init__(self,color):\n",
    "        self.color = color\n",
    "class Car(Vehicle):\n",
    "    def __init__(self,color,numGears):\n",
    "        super().__init__(color)\n",
    "        self.numGears = numGears\n",
    "c= Car(\"black\",5)\n",
    "print(c.color)"
   ]
  },
  {
   "cell_type": "code",
   "execution_count": 6,
   "metadata": {},
   "outputs": [
    {
     "ename": "AttributeError",
     "evalue": "'Car' object has no attribute '_Car__color'",
     "output_type": "error",
     "traceback": [
      "\u001b[1;31m---------------------------------------------------------------------------\u001b[0m",
      "\u001b[1;31mAttributeError\u001b[0m                            Traceback (most recent call last)",
      "\u001b[1;32m<ipython-input-6-2d8f5adeacab>\u001b[0m in \u001b[0;36m<module>\u001b[1;34m\u001b[0m\n\u001b[0;32m     10\u001b[0m         \u001b[0mprint\u001b[0m\u001b[1;33m(\u001b[0m\u001b[0mc\u001b[0m\u001b[1;33m.\u001b[0m\u001b[0mnumGears\u001b[0m\u001b[1;33m)\u001b[0m\u001b[1;33m\u001b[0m\u001b[1;33m\u001b[0m\u001b[0m\n\u001b[0;32m     11\u001b[0m \u001b[0mc\u001b[0m \u001b[1;33m=\u001b[0m \u001b[0mCar\u001b[0m\u001b[1;33m(\u001b[0m\u001b[1;34m\"black\"\u001b[0m\u001b[1;33m,\u001b[0m\u001b[1;36m5\u001b[0m\u001b[1;33m)\u001b[0m\u001b[1;33m\u001b[0m\u001b[1;33m\u001b[0m\u001b[0m\n\u001b[1;32m---> 12\u001b[1;33m \u001b[0mc\u001b[0m\u001b[1;33m.\u001b[0m\u001b[0mprintCar\u001b[0m\u001b[1;33m(\u001b[0m\u001b[1;33m)\u001b[0m\u001b[1;33m\u001b[0m\u001b[1;33m\u001b[0m\u001b[0m\n\u001b[0m",
      "\u001b[1;32m<ipython-input-6-2d8f5adeacab>\u001b[0m in \u001b[0;36mprintCar\u001b[1;34m(self)\u001b[0m\n\u001b[0;32m      7\u001b[0m         \u001b[0mself\u001b[0m\u001b[1;33m.\u001b[0m\u001b[0mnumGears\u001b[0m \u001b[1;33m=\u001b[0m \u001b[0mnumGears\u001b[0m\u001b[1;33m\u001b[0m\u001b[1;33m\u001b[0m\u001b[0m\n\u001b[0;32m      8\u001b[0m     \u001b[1;32mdef\u001b[0m \u001b[0mprintCar\u001b[0m\u001b[1;33m(\u001b[0m\u001b[0mself\u001b[0m\u001b[1;33m)\u001b[0m\u001b[1;33m:\u001b[0m\u001b[1;33m\u001b[0m\u001b[1;33m\u001b[0m\u001b[0m\n\u001b[1;32m----> 9\u001b[1;33m         \u001b[0mprint\u001b[0m\u001b[1;33m(\u001b[0m\u001b[0mc\u001b[0m\u001b[1;33m.\u001b[0m\u001b[0m__color\u001b[0m\u001b[1;33m,\u001b[0m\u001b[0mend\u001b[0m\u001b[1;33m=\u001b[0m\u001b[1;34m\" \"\u001b[0m\u001b[1;33m)\u001b[0m\u001b[1;33m\u001b[0m\u001b[1;33m\u001b[0m\u001b[0m\n\u001b[0m\u001b[0;32m     10\u001b[0m         \u001b[0mprint\u001b[0m\u001b[1;33m(\u001b[0m\u001b[0mc\u001b[0m\u001b[1;33m.\u001b[0m\u001b[0mnumGears\u001b[0m\u001b[1;33m)\u001b[0m\u001b[1;33m\u001b[0m\u001b[1;33m\u001b[0m\u001b[0m\n\u001b[0;32m     11\u001b[0m \u001b[0mc\u001b[0m \u001b[1;33m=\u001b[0m \u001b[0mCar\u001b[0m\u001b[1;33m(\u001b[0m\u001b[1;34m\"black\"\u001b[0m\u001b[1;33m,\u001b[0m\u001b[1;36m5\u001b[0m\u001b[1;33m)\u001b[0m\u001b[1;33m\u001b[0m\u001b[1;33m\u001b[0m\u001b[0m\n",
      "\u001b[1;31mAttributeError\u001b[0m: 'Car' object has no attribute '_Car__color'"
     ]
    }
   ],
   "source": [
    "class Vehicle:\n",
    "     def __init__(self,color):\n",
    "         self.__color = color\n",
    "class Car(Vehicle):\n",
    "    def __init__(self,color,numGears):\n",
    "        super().__init__(color)\n",
    "        self.numGears = numGears\n",
    "    def printCar(self):\n",
    "        print(c.__color,end=\" \")\n",
    "        print(c.numGears)\n",
    "c = Car(\"black\",5)\n",
    "c.printCar()"
   ]
  },
  {
   "cell_type": "code",
   "execution_count": 30,
   "metadata": {},
   "outputs": [
    {
     "name": "stdout",
     "output_type": "stream",
     "text": [
      "black 5\n"
     ]
    }
   ],
   "source": [
    "class Vehicle:\n",
    "    def __init__(self,color):\n",
    "        self.color = color\n",
    "    def print(self):\n",
    "        print(c.color,end=\"\")\n",
    "class Car(Vehicle):\n",
    "    def __init__(self,color,numGears):\n",
    "        super().__init__(color)\n",
    "        self.numGears = numGears\n",
    "    def print(self):\n",
    "       print(c.color,end=\" \" )\n",
    "       print(c.numGears)\n",
    "c = Car(\"black\",5)\n",
    "c.print()"
   ]
  },
  {
   "cell_type": "code",
   "execution_count": 31,
   "metadata": {},
   "outputs": [
    {
     "ename": "RecursionError",
     "evalue": "maximum recursion depth exceeded",
     "output_type": "error",
     "traceback": [
      "\u001b[1;31m---------------------------------------------------------------------------\u001b[0m",
      "\u001b[1;31mRecursionError\u001b[0m                            Traceback (most recent call last)",
      "\u001b[1;32m<ipython-input-31-ebd1fcda7928>\u001b[0m in \u001b[0;36m<module>\u001b[1;34m\u001b[0m\n\u001b[0;32m     12\u001b[0m         \u001b[0mprint\u001b[0m\u001b[1;33m(\u001b[0m\u001b[0mc\u001b[0m\u001b[1;33m.\u001b[0m\u001b[0mnumGears\u001b[0m\u001b[1;33m)\u001b[0m\u001b[1;33m\u001b[0m\u001b[1;33m\u001b[0m\u001b[0m\n\u001b[0;32m     13\u001b[0m \u001b[0mc\u001b[0m \u001b[1;33m=\u001b[0m \u001b[0mCar\u001b[0m\u001b[1;33m(\u001b[0m\u001b[1;34m\"black\"\u001b[0m\u001b[1;33m,\u001b[0m\u001b[1;36m5\u001b[0m\u001b[1;33m)\u001b[0m\u001b[1;33m\u001b[0m\u001b[1;33m\u001b[0m\u001b[0m\n\u001b[1;32m---> 14\u001b[1;33m \u001b[0mc\u001b[0m\u001b[1;33m.\u001b[0m\u001b[0mprint\u001b[0m\u001b[1;33m(\u001b[0m\u001b[1;33m)\u001b[0m\u001b[1;33m\u001b[0m\u001b[1;33m\u001b[0m\u001b[0m\n\u001b[0m",
      "\u001b[1;32m<ipython-input-31-ebd1fcda7928>\u001b[0m in \u001b[0;36mprint\u001b[1;34m(self)\u001b[0m\n\u001b[0;32m      9\u001b[0m         \u001b[0mself\u001b[0m\u001b[1;33m.\u001b[0m\u001b[0mnumGears\u001b[0m \u001b[1;33m=\u001b[0m \u001b[0mnumGears\u001b[0m\u001b[1;33m\u001b[0m\u001b[1;33m\u001b[0m\u001b[0m\n\u001b[0;32m     10\u001b[0m     \u001b[1;32mdef\u001b[0m \u001b[0mprint\u001b[0m\u001b[1;33m(\u001b[0m\u001b[0mself\u001b[0m\u001b[1;33m)\u001b[0m\u001b[1;33m:\u001b[0m\u001b[1;33m\u001b[0m\u001b[1;33m\u001b[0m\u001b[0m\n\u001b[1;32m---> 11\u001b[1;33m         \u001b[0mself\u001b[0m\u001b[1;33m.\u001b[0m\u001b[0mprint\u001b[0m\u001b[1;33m(\u001b[0m\u001b[1;33m)\u001b[0m\u001b[1;33m\u001b[0m\u001b[1;33m\u001b[0m\u001b[0m\n\u001b[0m\u001b[0;32m     12\u001b[0m         \u001b[0mprint\u001b[0m\u001b[1;33m(\u001b[0m\u001b[0mc\u001b[0m\u001b[1;33m.\u001b[0m\u001b[0mnumGears\u001b[0m\u001b[1;33m)\u001b[0m\u001b[1;33m\u001b[0m\u001b[1;33m\u001b[0m\u001b[0m\n\u001b[0;32m     13\u001b[0m \u001b[0mc\u001b[0m \u001b[1;33m=\u001b[0m \u001b[0mCar\u001b[0m\u001b[1;33m(\u001b[0m\u001b[1;34m\"black\"\u001b[0m\u001b[1;33m,\u001b[0m\u001b[1;36m5\u001b[0m\u001b[1;33m)\u001b[0m\u001b[1;33m\u001b[0m\u001b[1;33m\u001b[0m\u001b[0m\n",
      "... last 1 frames repeated, from the frame below ...\n",
      "\u001b[1;32m<ipython-input-31-ebd1fcda7928>\u001b[0m in \u001b[0;36mprint\u001b[1;34m(self)\u001b[0m\n\u001b[0;32m      9\u001b[0m         \u001b[0mself\u001b[0m\u001b[1;33m.\u001b[0m\u001b[0mnumGears\u001b[0m \u001b[1;33m=\u001b[0m \u001b[0mnumGears\u001b[0m\u001b[1;33m\u001b[0m\u001b[1;33m\u001b[0m\u001b[0m\n\u001b[0;32m     10\u001b[0m     \u001b[1;32mdef\u001b[0m \u001b[0mprint\u001b[0m\u001b[1;33m(\u001b[0m\u001b[0mself\u001b[0m\u001b[1;33m)\u001b[0m\u001b[1;33m:\u001b[0m\u001b[1;33m\u001b[0m\u001b[1;33m\u001b[0m\u001b[0m\n\u001b[1;32m---> 11\u001b[1;33m         \u001b[0mself\u001b[0m\u001b[1;33m.\u001b[0m\u001b[0mprint\u001b[0m\u001b[1;33m(\u001b[0m\u001b[1;33m)\u001b[0m\u001b[1;33m\u001b[0m\u001b[1;33m\u001b[0m\u001b[0m\n\u001b[0m\u001b[0;32m     12\u001b[0m         \u001b[0mprint\u001b[0m\u001b[1;33m(\u001b[0m\u001b[0mc\u001b[0m\u001b[1;33m.\u001b[0m\u001b[0mnumGears\u001b[0m\u001b[1;33m)\u001b[0m\u001b[1;33m\u001b[0m\u001b[1;33m\u001b[0m\u001b[0m\n\u001b[0;32m     13\u001b[0m \u001b[0mc\u001b[0m \u001b[1;33m=\u001b[0m \u001b[0mCar\u001b[0m\u001b[1;33m(\u001b[0m\u001b[1;34m\"black\"\u001b[0m\u001b[1;33m,\u001b[0m\u001b[1;36m5\u001b[0m\u001b[1;33m)\u001b[0m\u001b[1;33m\u001b[0m\u001b[1;33m\u001b[0m\u001b[0m\n",
      "\u001b[1;31mRecursionError\u001b[0m: maximum recursion depth exceeded"
     ]
    }
   ],
   "source": [
    "class Vehicle:\n",
    "    def __init__(self,color):\n",
    "        self.color = color\n",
    "    def print(self):\n",
    "        print(c.color,end=\" \")\n",
    "class Car(Vehicle):\n",
    "    def __init__(self,color,numGears):\n",
    "        super().__init__(color)\n",
    "        self.numGears = numGears\n",
    "    def print(self):\n",
    "        self.print()\n",
    "        print(c.numGears)\n",
    "c = Car(\"black\",5)\n",
    "c.print()"
   ]
  },
  {
   "cell_type": "code",
   "execution_count": 4,
   "metadata": {},
   "outputs": [
    {
     "name": "stdout",
     "output_type": "stream",
     "text": [
      "This is a Circle Class\n"
     ]
    }
   ],
   "source": [
    "class Circle(object):\n",
    "    def __str__(self):\n",
    "        return \"This is a Circle Class\"\n",
    "c = Circle()\n",
    "print(c)"
   ]
  },
  {
   "cell_type": "code",
   "execution_count": 7,
   "metadata": {},
   "outputs": [
    {
     "name": "stdout",
     "output_type": "stream",
     "text": [
      "init of B called\n"
     ]
    }
   ],
   "source": [
    "class A:\n",
    "\n",
    "    def __init__(self):\n",
    "        print(\"init of A called\")\n",
    "class B:\n",
    "    def __init__(self):\n",
    "        print(\"init of B called\")\n",
    "\n",
    "class C(B,A):\n",
    "    def __init__(self):\n",
    "        super().__init__()\n",
    "\n",
    "c = C()"
   ]
  }
 ],
 "metadata": {
  "kernelspec": {
   "display_name": "Python 3",
   "language": "python",
   "name": "python3"
  },
  "language_info": {
   "codemirror_mode": {
    "name": "ipython",
    "version": 3
   },
   "file_extension": ".py",
   "mimetype": "text/x-python",
   "name": "python",
   "nbconvert_exporter": "python",
   "pygments_lexer": "ipython3",
   "version": "3.7.3"
  }
 },
 "nbformat": 4,
 "nbformat_minor": 2
}
