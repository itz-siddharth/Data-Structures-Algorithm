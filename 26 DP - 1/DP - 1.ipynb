{
 "cells": [
  {
   "cell_type": "markdown",
   "metadata": {},
   "source": [
    "# Min Steps To 1\n",
    "Given a positive integer n, find the minimum number of steps s, that takes n to 1. You can perform any one of the following 3 steps.<br>\n",
    "1.) Subtract 1 from it. (n= n - ­1) ,<br>\n",
    "2.) If its divisible by 2, divide by 2.( if n%2==0, then n= n/2 ) ,<br>\n",
    "3.) If its divisible by 3, divide by 3. (if n%3 == 0, then n = n / 3 ). <br>\n",
    "The time complexity of your code should be O(n).<br>\n",
    "#### Input format :\n",
    "Line 1 : A single integer i.e. n\n",
    "#### Output format :\n",
    "Line 1 : Single integer i.e number of steps\n",
    "#### Constraints :\n",
    "1 <= n <= 10^5\n",
    "#### Sample Input 1 :\n",
    "4\n",
    "#### Sample Output 1 :\n",
    "2 \n",
    "### Sample Output 1 Explanation :\n",
    "For n = 4<br>\n",
    "Step 1 : n = 4/2 = 2<br>\n",
    "Step 2 : n = 2/2 = 1<br>\n",
    "#### Sample Input 2 :\n",
    "7\n",
    "#### Sample Output 2 :\n",
    "3\n",
    "#### Sample Output 2 Explanation :\n",
    "For n = 7<br>\n",
    "Step 1 : n = 7 ­ - 1 = 6<br>\n",
    "Step 2 : n = 6 / 3 = 2<br>\n",
    "Step 3 : n = 2 / 2 = 1"
   ]
  },
  {
   "cell_type": "code",
   "execution_count": 2,
   "metadata": {},
   "outputs": [
    {
     "name": "stdout",
     "output_type": "stream",
     "text": [
      "10\n",
      "3\n"
     ]
    }
   ],
   "source": [
    "def minStepsTo1IDPiter(n):\n",
    "    store=[0 for i in range(n+1)]\n",
    "    store[1]=0\n",
    "    i=1\n",
    "    while i<=n:\n",
    "        i=int(i)\n",
    "        ans1,ans2,ans3=100000,100000,100000\n",
    "        ans1=1+store[i-1]\n",
    "        if i%2==0:\n",
    "            ans2=1+store[int(i/2)]\n",
    "        if i%3==0:\n",
    "            ans3=1+store[int(i/3)]\n",
    "        store[i]=min(ans1,ans2,ans3)\n",
    "        i+=1\n",
    "    print(store[n]-1)\n",
    "inp=int(input())\n",
    "minStepsTo1IDPiter(inp)"
   ]
  },
  {
   "cell_type": "markdown",
   "metadata": {},
   "source": [
    "# Minimum Number Of Squares\n",
    "A number can always be represented as a sum of squares of other numbers. Note that 1 is a square and we can always break a number as<br> [(1 * 1) + (1 * 1) + (1 * 1) + …]. Given a number n, find the minimum number of squares that sum to n.<br>\n",
    "#### Input format:\n",
    " The first and only line of input contains an integer N (1 <= N <= 10000)\n",
    "#### Constraints:\n",
    " Time Limit: 1 seconds\n",
    "#### Output format:\n",
    "The first and only line of output contains the minimum number if squares that sum to n.\n",
    "##### Sample Test Cases:\n",
    "##### Sample Input 1:\n",
    "100\n",
    "#### Sample Output 1:\n",
    "1\n",
    "#### Explanation:\n",
    "We can write 100 as 10^2 also, 100 can be written as (5^2) + (5^2) + (5^2) + (5^2), but this representation requires 4 squares. So, in this case, the expected answer would be 1, that is, 10^2."
   ]
  },
  {
   "cell_type": "code",
   "execution_count": 4,
   "metadata": {},
   "outputs": [
    {
     "name": "stdout",
     "output_type": "stream",
     "text": [
      "13\n",
      "2\n"
     ]
    }
   ],
   "source": [
    "import sys\n",
    "import math\n",
    "\n",
    "def minStepsTo1iter(n):\n",
    "    step2count=[-1 for i in range(n+1)]\n",
    "    step2count[0]=0\n",
    "    i=1\n",
    "    while i<=n:\n",
    "        curr=sys.maxsize\n",
    "        j=1\n",
    "        while j<=math.sqrt(i):\n",
    "            ans=1+step2count[i-j*j]\n",
    "            curr=min(ans,curr)\n",
    "            j+=1\n",
    "        step2count[i]=curr\n",
    "        i+=1\n",
    "    return step2count[n]\n",
    "\n",
    "n = int(input())\n",
    "ans = minStepsTo1iter(n)\n",
    "print(ans)"
   ]
  },
  {
   "cell_type": "markdown",
   "metadata": {},
   "source": [
    "# Longest Increasing Subsequence\n",
    "Given an array with N elements, you need to find the length of the longest subsequence of a given sequence such that all elements of the subsequence are sorted in strictly increasing order.\n",
    "#### Input Format\n",
    "Line 1 : An integer N <br>\n",
    "Line 2 : Elements of arrays separated by spaces\n",
    "#### Output Format\n",
    "Line 1 : Length of longest subsequence\n",
    "#### Input Constraints\n",
    "1 <= n <= 10^3\n",
    "#### Sample Input :\n",
    "6<br>\n",
    "5 4 11 1 16 8\n",
    "#### Sample Output 1 :\n",
    "3\n",
    "##### Sample Output Explanation\n",
    "Length of longest subsequence is 3 i.e. (5,11,16) or (4,11,16).\n",
    "#### Sample Input 2:\n",
    "3<br>\n",
    "1 2 2<br>\n",
    "#### Sample Output 2 :\n",
    "2"
   ]
  },
  {
   "cell_type": "code",
   "execution_count": 5,
   "metadata": {},
   "outputs": [
    {
     "name": "stdout",
     "output_type": "stream",
     "text": [
      "248\n",
      "1138 3340 442 3752 2639 4312 1 3525 223 2036 243 3195 4622 2533 4748 4824 4259 2394 4450 481 597 3574 3734 3486 4043 2716 3727 3735 2761 1911 1827 847 3732 2967 3857 96 4417 682 2157 2976 4412 2301 4351 1982 4545 352 3469 2724 993 4288 633 714 4107 2947 1501 279 804 4630 2252 3878 591 4755 4953 1716 3511 2388 801 3989 3534 1661 2846 1245 3257 2023 2500 2330 43 2517 1364 4159 125 4770 1612 3046 558 2221 4474 3672 4328 4140 2161 3854 1371 2402 3898 1143 2738 1582 1619 961 1638 3880 258 398 3643 4591 1518 2034 3907 1303 3450 3127 1852 794 1171 2325 3405 1630 1576 3574 2542 2804 1952 299 2588 4366 3990 1999 3451 4876 813 360 3714 2707 276 2630 1327 3645 2991 1518 3434 1009 3230 3077 4734 1488 96 2112 4665 236 158 3436 1608 2292 1008 1908 2242 4307 3061 4548 1194 662 4297 4203 99 1492 4508 1148 1236 1859 2084 1757 4003 1266 2293 1856 2548 996 1551 1657 62 3299 2155 4255 4351 1283 1535 473 546 1466 4166 4519 6 2353 2894 2283 4748 2058 4569 2306 4011 957 2594 3435 3902 1593 1157 2903 2402 2558 2708 4130 412 895 1494 4837 4930 3618 1755 3175 2887 3341 4559 2425 3654 602 2090 3513 4752 1448 2612 3988 3808 2994 3275 2365 414 2200 1363 2702 4093 3852 2618 1093 4270 2780 2750 3305 \n",
      "30\n"
     ]
    }
   ],
   "source": [
    "import sys\n",
    "sys.setrecursionlimit(10000)\n",
    "\n",
    "def lis(li,n):\n",
    "    dp=[[0 for j in range(2)]for i in range(n+1)]\n",
    "    dp[n]=0\n",
    "    curr_j=-1\n",
    "    for i in range(n-1,-1,-1):\n",
    "        including_max=1\n",
    "        for j in range(i+1,n):\n",
    "            if li[j]>li[i]:\n",
    "                including_max=max(including_max,1+dp[j][0])\n",
    "            dp[i][0]=including_max\n",
    "            excluding_max=dp[i+1][1]\n",
    "            overallmax=max(including_max,excluding_max)\n",
    "            dp[i][1]=overallmax\n",
    "    return dp[0][1]\n",
    "\n",
    "n=int(input())\n",
    "li=[int(i) for i in input().split()]\n",
    "print(lis(li,n))"
   ]
  }
 ],
 "metadata": {
  "kernelspec": {
   "display_name": "Python 3",
   "language": "python",
   "name": "python3"
  },
  "language_info": {
   "codemirror_mode": {
    "name": "ipython",
    "version": 3
   },
   "file_extension": ".py",
   "mimetype": "text/x-python",
   "name": "python",
   "nbconvert_exporter": "python",
   "pygments_lexer": "ipython3",
   "version": "3.7.3"
  }
 },
 "nbformat": 4,
 "nbformat_minor": 2
}
