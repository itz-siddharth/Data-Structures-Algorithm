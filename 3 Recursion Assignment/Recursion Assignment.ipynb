{
 "cells": [
  {
   "cell_type": "markdown",
   "metadata": {},
   "source": [
    "# Geometric Sum\n",
    "Given k, find the geometric sum i.e.\n",
    "1 + 1/2 + 1/4 + 1/8 + ... + 1/(2^k) <br>\n",
    "using recursion. Return the answer.\n",
    "#### Sample Input :\n",
    "3\n",
    "#### Sample Output :\n",
    "1.875"
   ]
  },
  {
   "cell_type": "code",
   "execution_count": 1,
   "metadata": {},
   "outputs": [
    {
     "name": "stdout",
     "output_type": "stream",
     "text": [
      "3\n",
      "1.87500\n"
     ]
    }
   ],
   "source": [
    "import sys\n",
    "sys.setrecursionlimit(1000)\n",
    "def find(k):\n",
    "    if k == 0:\n",
    "        return 1\n",
    "    return 1 + 0.5*(find(k-1))\n",
    "\n",
    "k = int(input())\n",
    "print('%.5f' %find(k))"
   ]
  },
  {
   "cell_type": "markdown",
   "metadata": {},
   "source": [
    "# Check Palindrome (recursive)\n",
    "Check if a given String S is palindrome or not (using recursion). Return true or false.\n",
    "#### Input Format :\n",
    "String S\n",
    "#### Output Format :\n",
    "true or false\n",
    "#### Sample Input 1 :\n",
    "racecar\n",
    "#### Sample Output 1:\n",
    "true\n",
    "#### Sample Input 2 :\n",
    "ninja\n",
    "#### Sample Output 2:\n",
    "false"
   ]
  },
  {
   "cell_type": "code",
   "execution_count": 1,
   "metadata": {},
   "outputs": [
    {
     "name": "stdout",
     "output_type": "stream",
     "text": [
      "ninja\n",
      "false\n"
     ]
    }
   ],
   "source": [
    "def check(a):\n",
    "    l=len(a)\n",
    "    \n",
    "    if l == 0 or l == 1:\n",
    "        return True\n",
    "    if a[0] != a[l-1]:\n",
    "        return False\n",
    "    return check(a[1:l-1])\n",
    "\n",
    "n = input()\n",
    "c = check(n)\n",
    "if c:\n",
    "    print(\"true\")\n",
    "else:\n",
    "    print(\"false\")"
   ]
  },
  {
   "cell_type": "markdown",
   "metadata": {},
   "source": [
    "# Sum of digits (recursive)\n",
    "Write a recursive function that returns the sum of the digits of a given integer.\n",
    "#### Sample Input :\n",
    "12345\n",
    "#### Sample Output :\n",
    "15"
   ]
  },
  {
   "cell_type": "code",
   "execution_count": 3,
   "metadata": {},
   "outputs": [
    {
     "name": "stdout",
     "output_type": "stream",
     "text": [
      "12345\n",
      "15\n"
     ]
    }
   ],
   "source": [
    "def sum_of_digits(num):\n",
    "    if num == 0:\n",
    "        return 0\n",
    "    return (num % 10 + sum_of_digits(int(num / 10))) \n",
    "\n",
    "sum = 0\n",
    "num=int(input())\n",
    "print(sum_of_digits(num))"
   ]
  },
  {
   "cell_type": "markdown",
   "metadata": {},
   "source": [
    "# Multiplication (Recursive)\n",
    "Given two integers m & n, calculate and return their multiplication using recursion. You can only use subtraction and addition for your calculation. No other operators are allowed.\n",
    "#### Input format : m and n (in different lines)\n",
    "\n",
    "#### Sample Input :\n",
    "3 \n",
    "5\n",
    "#### Sample Output -\n",
    "15"
   ]
  },
  {
   "cell_type": "code",
   "execution_count": 1,
   "metadata": {},
   "outputs": [
    {
     "name": "stdout",
     "output_type": "stream",
     "text": [
      "5\n",
      "10\n",
      "50\n"
     ]
    }
   ],
   "source": [
    "def product(a,b):\n",
    "    if(a<b):\n",
    "        return product(b,a)\n",
    "    elif(b!=0):\n",
    "        return(a+product(a,b-1))\n",
    "    else:\n",
    "        return 0\n",
    "a=int(input())\n",
    "b=int(input())\n",
    "print(product(a,b))"
   ]
  },
  {
   "cell_type": "markdown",
   "metadata": {},
   "source": [
    "# Count Zeros\n",
    "Given an integer n, count and return the number of zeros that are present in the given integer using recursion.\n",
    "#### Input Format :\n",
    "Integer n\n",
    "#### Output Format :\n",
    "No. of 0s\n",
    "#### Sample Input :\n",
    "10204\n",
    "#### Sample Output\n",
    "2"
   ]
  },
  {
   "cell_type": "code",
   "execution_count": 2,
   "metadata": {},
   "outputs": [
    {
     "name": "stdout",
     "output_type": "stream",
     "text": [
      "101\n",
      "1\n"
     ]
    }
   ],
   "source": [
    "def Zeroes(num):\n",
    "    \n",
    "    if num == 0:\n",
    "        return 0\n",
    "    if num%10 == 0:\n",
    "        return 1 + Zeroes(num//10)\n",
    "    else:\n",
    "        return Zeroes(num//10)\n",
    "    \n",
    "num = int(input())\n",
    "print(Zeroes(num))"
   ]
  },
  {
   "cell_type": "markdown",
   "metadata": {},
   "source": [
    "# String to Integer\n",
    "Write a recursive function to convert a given string into the number it represents. That is input will be a numeric string that contains only numbers, you need to convert the string into corresponding integer and return the answer.\n",
    "#### Input format :\n",
    "Numeric string (string, Eg. \"1234\")\n",
    "#### Output format :\n",
    "Corresponding integer (int, Eg. 1234)\n",
    "####  Input 1 :\n",
    "1231\n",
    "#### Sample Output 1:\n",
    "1231\n",
    "#### Sample Input 2 :\n",
    "12567\n",
    "#### Sample Output 2 :\n",
    "12567"
   ]
  },
  {
   "cell_type": "code",
   "execution_count": 23,
   "metadata": {},
   "outputs": [
    {
     "name": "stdout",
     "output_type": "stream",
     "text": [
      "10231\n",
      "<class 'str'>\n",
      "10231\n",
      "<class 'int'>\n"
     ]
    }
   ],
   "source": [
    "def strToInt(s, acc):\n",
    "    if not s:\n",
    "        return acc\n",
    "    return strToInt(s[1:], 10 * acc + ord(s[0]) - 48)\n",
    "\n",
    "s = input()\n",
    "print(type(s))\n",
    "ans = strToInt(s,0)\n",
    "print(ans)\n",
    "print(type(ans))"
   ]
  },
  {
   "cell_type": "markdown",
   "metadata": {},
   "source": [
    "# Pair star\n",
    "Given a string, compute recursively a new string where identical chars that are adjacent in the original string are separated from each other by a \"*\".\n",
    "#### Sample Input 1 :\n",
    "hello\n",
    "#### Sample Output 1:\n",
    "hel*lo\n",
    "#### Sample Input 2 :\n",
    "xxyy\n",
    "#### Sample Output 2:\n",
    "x*xy*y\n",
    "#### Sample Input 3 :\n",
    "aaaa\n",
    "#### Sample Output 3:\n",
    "a*a*a*a"
   ]
  },
  {
   "cell_type": "code",
   "execution_count": 25,
   "metadata": {},
   "outputs": [
    {
     "name": "stdout",
     "output_type": "stream",
     "text": [
      "xxyy\n",
      "x*xy*y\n"
     ]
    }
   ],
   "source": [
    "def pairStar(Input, Output, i = 0) : \n",
    "      \n",
    "    # Append current character  \n",
    "    Output = Output + Input[i] \n",
    "  \n",
    "    # If we reached last character  \n",
    "    if (i == len(Input) - 1) : \n",
    "        print(Output) \n",
    "        return\n",
    "  \n",
    "    # If next character is same,  \n",
    "    # append '*'  \n",
    "    if (Input[i] == Input[i + 1]) :  \n",
    "        Output = Output + '*'  \n",
    "  \n",
    "    pairStar(Input, Output, i + 1)\n",
    "       \n",
    "str = input()\n",
    "pairStar(str,'')"
   ]
  },
  {
   "cell_type": "markdown",
   "metadata": {},
   "source": [
    "# Check AB\n",
    "Suppose you have a string made up of only 'a' and 'b'. Write a recursive function that checks if the string was generated using the following rules:<br>\n",
    "a. The string begins with an 'a'<br>\n",
    "b. Each 'a' is followed by nothing or an 'a' or \"bb\"<br>\n",
    "c. Each \"bb\" is followed by nothing or an 'a'<br>\n",
    "If all the rules are followed by the given string, return true otherwise return false.\n",
    "#### Sample Input:\n",
    "abb\n",
    "#### Sample Output:\n",
    "true"
   ]
  },
  {
   "cell_type": "code",
   "execution_count": 3,
   "metadata": {},
   "outputs": [
    {
     "name": "stdout",
     "output_type": "stream",
     "text": [
      "abb\n",
      "true\n"
     ]
    }
   ],
   "source": [
    "def checkAB(str):\n",
    "    if len(str) == 0 or len(str) == 1:\n",
    "        return True\n",
    "    \n",
    "    if str[0] == 'a':\n",
    "        if str[1] == 'a':\n",
    "            small_output = checkAB(str[1:])\n",
    "            return small_output\n",
    "        if str[1] == 'b' and str[2] == 'b':\n",
    "            small_output = checkAB(str[3:])\n",
    "            return small_output\n",
    "    else:\n",
    "        return False\n",
    "\n",
    "str=input()\n",
    "if checkAB(str):\n",
    "    print('true')\n",
    "else:\n",
    "    print('false')"
   ]
  },
  {
   "cell_type": "markdown",
   "metadata": {},
   "source": [
    "# Staircase\n",
    "A child is running up a staircase with N steps, and can hop either 1 step, 2 steps or 3 steps at a time.<br>Implement a method to count how many possible ways the child can run up to the stairs. You need to return number of possible ways W.\n",
    "#### Input format :\n",
    "Line 1 : Integer N (No. of steps) \n",
    "#### Output Format :\n",
    "Line 1 : Integer W i.e. Number of possible ways\n",
    "#### Constraint :\n",
    "(1 <= N <= 30)\n",
    "#### Sample Input 1:\n",
    "4\n",
    "#### Sample Output :\n",
    "7"
   ]
  },
  {
   "cell_type": "code",
   "execution_count": 2,
   "metadata": {},
   "outputs": [
    {
     "name": "stdout",
     "output_type": "stream",
     "text": [
      "4\n",
      "7\n"
     ]
    }
   ],
   "source": [
    "import sys\n",
    "sys.setrecursionlimit(10000)\n",
    "def find(n):\n",
    "    if n<=2:\n",
    "        return n\n",
    "    if n==3:\n",
    "        return 4\n",
    "    else:\n",
    "        return find(n-3)+find(n-2)+find(n-1)\n",
    "    \n",
    "n=int(input())\n",
    "print(find(n))"
   ]
  }
 ],
 "metadata": {
  "kernelspec": {
   "display_name": "Python 3",
   "language": "python",
   "name": "python3"
  },
  "language_info": {
   "codemirror_mode": {
    "name": "ipython",
    "version": 3
   },
   "file_extension": ".py",
   "mimetype": "text/x-python",
   "name": "python",
   "nbconvert_exporter": "python",
   "pygments_lexer": "ipython3",
   "version": "3.7.3"
  }
 },
 "nbformat": 4,
 "nbformat_minor": 2
}
