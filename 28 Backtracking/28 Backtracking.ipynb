{
 "cells": [
  {
   "cell_type": "markdown",
   "metadata": {},
   "source": [
    "# Intro To Backtracking"
   ]
  },
  {
   "cell_type": "markdown",
   "metadata": {},
   "source": [
    "# Rat In A Maze"
   ]
  },
  {
   "cell_type": "markdown",
   "metadata": {},
   "source": [
    "# N-Queen Explain"
   ]
  },
  {
   "cell_type": "markdown",
   "metadata": {},
   "source": [
    "# N-Queens\n",
    "Send Feedback\n",
    "You are given N, and for a given N x N chessboard, find a way to place N queens such that no queen can attack any other queen on the chess board. A queen can be killed when it lies in the same row, or same column, or the same diagonal of any of the other queens. You have to print all such configurations.\n",
    "Input Format :\n",
    "Line 1 : Integer N\n",
    "Output Format :\n",
    "One Line for every board configuration. \n",
    "Every line will have N*N board elements printed row wise and are separated by space\n",
    "Note : Don't print anything if there isn't any valid configuration.\n",
    "Constraints :\n",
    "1<=N<=10\n",
    "Sample Input 1:\n",
    "4\n",
    "Sample Output 1 :\n",
    "0 1 0 0 0 0 0 1 1 0 0 0 0 0 1 0 \n",
    "0 0 1 0 1 0 0 0 0 0 0 1 0 1 0 0 "
   ]
  },
  {
   "cell_type": "code",
   "execution_count": 2,
   "metadata": {},
   "outputs": [
    {
     "name": "stdout",
     "output_type": "stream",
     "text": [
      "4\n",
      "0 1 0 0 0 0 0 1 1 0 0 0 0 0 1 0 \n",
      "0 0 1 0 1 0 0 0 0 0 0 1 0 1 0 0 \n"
     ]
    }
   ],
   "source": [
    "def isSafe(row, col, n, board):\n",
    "    \n",
    "    # Vertical Direction\n",
    "    i = row-1\n",
    "    while i>=0:\n",
    "        if board[i][col] == 1:\n",
    "            return False\n",
    "        i-=1\n",
    "        \n",
    "    # Left Diagonal Direction\n",
    "    i = row-1\n",
    "    j = col-1\n",
    "    while i>=0 and j>=0:\n",
    "        if board[i][j] == 1:\n",
    "            return False\n",
    "        i-=1\n",
    "        j-=1\n",
    "        \n",
    "    # Right Diagonal Direction\n",
    "    i = row-1\n",
    "    j = col+1\n",
    "    while i>=0 and j<n:\n",
    "        if board[i][j] == 1:\n",
    "            return False\n",
    "        i-=1\n",
    "        j+=1\n",
    "        \n",
    "    return True\n",
    "\n",
    "def printPathsHelper(row, n, board):\n",
    "    \n",
    "    if row == n:\n",
    "        for i in range(n):\n",
    "            for j in range(n):\n",
    "                print(board[i][j], end = \" \")\n",
    "        print()\n",
    "        return\n",
    "    \n",
    "    for col in range(n):\n",
    "        if isSafe(row, col, n, board) is True:\n",
    "            board[row][col] = 1\n",
    "            printPathsHelper(row+1, n, board)\n",
    "            board[row][col] = 0\n",
    "    return\n",
    "\n",
    "def nQueen(n):\n",
    "    board = [[0 for _ in range(n)] for _ in range(n)]\n",
    "    printPathsHelper(0, n, board)\n",
    "    \n",
    "\n",
    "n = int(input())\n",
    "nQueen(n)"
   ]
  },
  {
   "cell_type": "markdown",
   "metadata": {},
   "source": [
    "# N Queen Code"
   ]
  },
  {
   "cell_type": "markdown",
   "metadata": {},
   "source": [
    "# Sudoku Solver\n",
    "Send Feedback\n",
    "Given a 9*9 sudoku board, in which some entries are filled and others are 0 (0 indicates that the cell is empty), you need to find out whether the Sudoku puzzle can be solved or not i.e. return true or false.\n",
    "Input Format :\n",
    "9 Lines where ith line contains ith row elements separated by space\n",
    "Output Format :\n",
    " true or false\n",
    "Sample Input :\n",
    "9 0 0 0 2 0 7 5 0 \n",
    "6 0 0 0 5 0 0 4 0 \n",
    "0 2 0 4 0 0 0 1 0 \n",
    "2 0 8 0 0 0 0 0 0 \n",
    "0 7 0 5 0 9 0 6 0 \n",
    "0 0 0 0 0 0 4 0 1 \n",
    "0 1 0 0 0 5 0 8 0 \n",
    "0 9 0 0 7 0 0 0 4 \n",
    "0 8 2 0 4 0 0 0 6\n",
    "Sample Output :\n",
    "true"
   ]
  },
  {
   "cell_type": "code",
   "execution_count": null,
   "metadata": {},
   "outputs": [],
   "source": [
    "def solveSudoku(board):\n",
    "    #Implement Your Code Here\n",
    "    pass\n",
    "\n",
    "board = [[ int(ele) for ele in input().split() ]for i in range(9)]\n",
    "ans = solveSudoku(board)\n",
    "if ans is True:\n",
    "    print('true')\n",
    "else:\n",
    "    print('false')"
   ]
  },
  {
   "cell_type": "code",
   "execution_count": null,
   "metadata": {},
   "outputs": [],
   "source": [
    "def isBoxSafe(row, col, num, board):\n",
    "    rowstart = row - row%3\n",
    "    colstart = col - col%3\n",
    "    \n",
    "    for i in range(rowstart, rowstart+3):\n",
    "        for j in range(colstart, colstart+3):\n",
    "            if board[i][j] == num:\n",
    "                return False\n",
    "    return True\n",
    "\n",
    "def isColSafe(col, num, board):\n",
    "    for i in range(8):\n",
    "        if board[i][col] == num:\n",
    "            return False\n",
    "        \n",
    "    return True\n",
    "\n",
    "def isRowSafe(row, num, board):\n",
    "    for i in range(8):\n",
    "        if board[row][i] == num:\n",
    "            return False\n",
    "        \n",
    "    return True\n",
    "\n",
    "def canPlaceNum(row, col, num, board):\n",
    "    if not isRowSafe(row, num, board):\n",
    "        return False\n",
    "    if not isColSafe(col, num, board):\n",
    "        return False\n",
    "    if not isBoxSafe(row, col, num, board):\n",
    "        return False\n",
    "    \n",
    "    return True\n",
    "\n",
    "def solveSudoku(board):\n",
    "    row, col = -1, -1\n",
    "    isEmpty = False\n",
    "    \n",
    "    for i in range(9):\n",
    "        for j in range(9):\n",
    "            if board[i][j] == 0:\n",
    "                row = i\n",
    "                col = j\n",
    "                isEmpty = True\n",
    "                break\n",
    "            \n",
    "        if isEmpty:\n",
    "            break\n",
    "            \n",
    "    if row == -1:\n",
    "        return True\n",
    "    \n",
    "    for num in range(1, 10):\n",
    "        if canPlaceNum(row, col, num, board):\n",
    "            board[row][col] = num\n",
    "            if(solveSudoku(board)):\n",
    "                return True\n",
    "            else:\n",
    "                board[row][col] = 0\n",
    "                \n",
    "    return False\n",
    "    \n",
    "\n",
    "board = [[ int(ele) for ele in input().split() ]for i in range(9)]\n",
    "ans = solveSudoku(board)\n",
    "if ans is True:\n",
    "    print('true')\n",
    "else:\n",
    "    print('false')"
   ]
  }
 ],
 "metadata": {
  "kernelspec": {
   "display_name": "Python 3",
   "language": "python",
   "name": "python3"
  },
  "language_info": {
   "codemirror_mode": {
    "name": "ipython",
    "version": 3
   },
   "file_extension": ".py",
   "mimetype": "text/x-python",
   "name": "python",
   "nbconvert_exporter": "python",
   "pygments_lexer": "ipython3",
   "version": "3.7.3"
  }
 },
 "nbformat": 4,
 "nbformat_minor": 2
}
