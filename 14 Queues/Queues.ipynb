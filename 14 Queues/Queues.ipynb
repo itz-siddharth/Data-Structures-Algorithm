{
 "cells": [
  {
   "cell_type": "markdown",
   "metadata": {},
   "source": [
    "# Intro To Queues"
   ]
  },
  {
   "cell_type": "markdown",
   "metadata": {},
   "source": [
    "#### A queue is a ?<br>\n",
    "ANS = FIFO (First In First Out) list "
   ]
  },
  {
   "cell_type": "markdown",
   "metadata": {},
   "source": [
    "#### If the elements “p”, “q”, “r” and “s” are placed in a queue and are deleted one at a time, <br>in what order will they be removed?\n",
    "\n",
    "ANS = pqrs \n"
   ]
  },
  {
   "cell_type": "markdown",
   "metadata": {},
   "source": [
    "# Queue Using Array - Explain"
   ]
  },
  {
   "cell_type": "markdown",
   "metadata": {},
   "source": [
    "# Queue Using Array - Code\n"
   ]
  },
  {
   "cell_type": "code",
   "execution_count": 34,
   "metadata": {},
   "outputs": [
    {
     "name": "stdout",
     "output_type": "stream",
     "text": [
      "1\n",
      "2\n",
      "3\n",
      "4\n",
      "-1\n"
     ]
    }
   ],
   "source": [
    "class QueueUsingArray:\n",
    "    \n",
    "    def __init__(self):\n",
    "        self.__arr = []\n",
    "        self.__count = 0\n",
    "        self.__front = 0\n",
    "    \n",
    "    def enqueue(self,data):\n",
    "        self.__arr.append(data)\n",
    "        self.__count += 1\n",
    "        \n",
    "    def dequeue(self):\n",
    "        \n",
    "        if self.__count == 0:\n",
    "            return - 1\n",
    "        \n",
    "        element = self.__arr[self.__front]\n",
    "        self.__front += 1\n",
    "        self.__count -= 1\n",
    "        return element\n",
    "    \n",
    "    def front(self):\n",
    "        if self.__count == 0:\n",
    "            return -1\n",
    "        return self.__arr[self.__front]\n",
    "    \n",
    "    def size(self):\n",
    "        return self.__count\n",
    "    \n",
    "    def isEmpty(self):\n",
    "        return self.size() == 0\n",
    "    \n",
    "\n",
    "q = QueueUsingArray()\n",
    "q.enqueue(1)\n",
    "q.enqueue(2)\n",
    "q.enqueue(3)\n",
    "q.enqueue(4)\n",
    "while (q.isEmpty() is False):\n",
    "    print(q.front())\n",
    "    q.dequeue()\n",
    "    \n",
    "print(q.dequeue())"
   ]
  },
  {
   "cell_type": "markdown",
   "metadata": {},
   "source": [
    "# Queue Using LL - Explain"
   ]
  },
  {
   "cell_type": "markdown",
   "metadata": {},
   "source": [
    "# Queue Using LL - Code"
   ]
  },
  {
   "cell_type": "code",
   "execution_count": 40,
   "metadata": {},
   "outputs": [
    {
     "name": "stdout",
     "output_type": "stream",
     "text": [
      "1\n",
      "2\n",
      "3\n",
      "4\n",
      "Hey! Queue is Empty\n"
     ]
    }
   ],
   "source": [
    "class Node:\n",
    "    def __init__(self,initData):\n",
    "        self.data = initData\n",
    "        self.next = None\n",
    "        \n",
    "class Queue:\n",
    "    \n",
    "    def __init__(self):\n",
    "        self.__head = None\n",
    "        self.__tail = None\n",
    "        self.__count = 0 \n",
    "        \n",
    "    def enqueue(self,element):\n",
    "        newNode = Node(element)\n",
    "        if self.__head is None:\n",
    "            self.__head = newNode\n",
    "        else:\n",
    "            self.__tail.next = newNode\n",
    "        self.__tail = newNode\n",
    "        self.__count = self.__count + 1\n",
    "        \n",
    "    def dequeue(self):\n",
    "        if self.__head is None:\n",
    "            print(\"Hey! Queue is Empty\")\n",
    "            return\n",
    "        data = self.__head.data\n",
    "        self.__head = self.__head.next\n",
    "        self.__count = self.__count - 1\n",
    "        return data\n",
    "    \n",
    "    def size(self):\n",
    "        return self.__count\n",
    "    \n",
    "    def isEmpty(self):\n",
    "        return self.size() == 0\n",
    "    \n",
    "    def front(self):\n",
    "        if self.__head is None:\n",
    "            print(\"Hey! Queue is Empty\")\n",
    "            return\n",
    "        data = self.__head.data\n",
    "        return data\n",
    "    \n",
    "q = Queue()\n",
    "q.enqueue(1)\n",
    "q.enqueue(2)\n",
    "q.enqueue(3)\n",
    "q.enqueue(4)\n",
    "while (q.isEmpty() is False):\n",
    "    print(q.dequeue())\n",
    "    \n",
    "q.front()"
   ]
  },
  {
   "cell_type": "markdown",
   "metadata": {},
   "source": [
    "# Queue Using LL\n",
    "You need to implement a Queue class using linked list.<br>\n",
    "All the required data members should be private.<br>\n",
    "Implement the following public functions :<br>\n",
    "#### 1. Constructor -\n",
    "Initialises the data members.\n",
    "#### 2. enqueue :\n",
    "This function should take one argument of type T and has return type void. This function should insert an element in the queue. Time complexity should be O(1).\n",
    "#### 3. dequeue :\n",
    "This function takes no input arguments and has return type T. This should removes the first element which is entered and return that element as an answer. Time complexity should be O(1).\n",
    "#### 4.. front :\n",
    "This function takes no input arguments and has return type T. This should return the first element which is entered and return that element as an answer. Time complexity should be O(1).\n",
    "#### 5. size :\n",
    "Return the size of stack i.e. count of elements which are present ins stack right now. Time complexity should be O(1).\n",
    "#### 6. isEmpty :\n",
    "Checks if the queue is empty or not. Return true or false.\n"
   ]
  },
  {
   "cell_type": "code",
   "execution_count": null,
   "metadata": {},
   "outputs": [],
   "source": [
    "\n",
    "class Node:\n",
    "    def __init__(self,data):\n",
    "        self.data = data\n",
    "        self.next = None\n",
    "        \n",
    "class QueueUsingLL:\n",
    "  \n",
    "### Implement These Functions Here    \n",
    "    def __init__(self):\n",
    "        self.__head = None\n",
    "        self.__tail = None\n",
    "        self.__count = 0 \n",
    "        \n",
    "    def enqueue(self,element):\n",
    "        newNode = Node(element)\n",
    "        if self.__head is None:\n",
    "            self.__head = newNode\n",
    "        else:\n",
    "            self.__tail.next = newNode\n",
    "        self.__tail = newNode\n",
    "        self.__count = self.__count + 1\n",
    "        \n",
    "        \n",
    "    def dequeue(self):\n",
    "        if self.__head is None:\n",
    "            print(\"Hey! Queue is Empty\")\n",
    "            return\n",
    "        data = self.__head.data\n",
    "        self.__head = self.__head.next\n",
    "        self.__count = self.__count - 1\n",
    "        return data\n",
    "        \n",
    "    \n",
    "    def front(self):\n",
    "        if self.__head is None:\n",
    "            print(\"Hey! Queue is Empty\")\n",
    "            return\n",
    "        data = self.__head.data\n",
    "        return data\n",
    "        \n",
    "        \n",
    "    def isEmpty(self): \n",
    "        return self.getsize() == 0       \n",
    "    \n",
    "    \n",
    "    def getSize(self):\n",
    "        return self.__count\n",
    "\n",
    "    \n",
    "q = QueueUsingLL()\n",
    "li = [int(ele) for ele in input().split()]\n",
    "i=0\n",
    "while i<len(li):\n",
    "    choice = li[i]\n",
    "    if choice == -1:\n",
    "        break\n",
    "    elif choice == 1:\n",
    "        q.enqueue(li[i+1])\n",
    "        i+=1\n",
    "    elif choice == 2:\n",
    "        ans = q.dequeue()\n",
    "        if ans!=0:\n",
    "            print(ans)\n",
    "        else:\n",
    "            print(-1)\n",
    "    elif choice == 3:\n",
    "        ans = q.front()\n",
    "        if ans!=0:\n",
    "            print(ans)\n",
    "        else:\n",
    "            print(-1)\n",
    "    elif choice == 4:\n",
    "        print(q.getSize())\n",
    "    elif choice == 5:\n",
    "        if(q.isEmpty()):\n",
    "            print('true')\n",
    "        else:\n",
    "            print('false')\n",
    "    i+=1"
   ]
  },
  {
   "cell_type": "markdown",
   "metadata": {},
   "source": [
    "#### Insert Element\n",
    "In linked list implementation of a queue, where does a new element be inserted?<br>\n",
    "ANS = At the tail of the linked list "
   ]
  },
  {
   "cell_type": "markdown",
   "metadata": {},
   "source": [
    "#### Worst Case\n",
    "In linked list implementation of queue, if only front pointer is maintained,<br> which of the following operation take worst case time (i.e. O(n) )?<br>\n",
    "ANS = Insertion from rear "
   ]
  },
  {
   "cell_type": "markdown",
   "metadata": {},
   "source": [
    "# Inbuilt Stacks & Queues"
   ]
  },
  {
   "cell_type": "markdown",
   "metadata": {},
   "source": [
    "# Queue Using Two Stacks"
   ]
  },
  {
   "cell_type": "markdown",
   "metadata": {},
   "source": [
    "# Queue Using Two Stacks - Code"
   ]
  },
  {
   "cell_type": "code",
   "execution_count": 48,
   "metadata": {},
   "outputs": [
    {
     "name": "stdout",
     "output_type": "stream",
     "text": [
      "1\n",
      "2\n",
      "3\n",
      "4\n"
     ]
    }
   ],
   "source": [
    "class QueueUsingTwoStacks:\n",
    "    \n",
    "    def __init__(self):\n",
    "        self.__s1 = []\n",
    "        self.__s2 = []\n",
    "    \n",
    "    def enqueue(self,data):\n",
    "        #(O(n)) operation\n",
    "        while(len(self.__s1) != 0):\n",
    "            self.__s2.append(self.__s1.pop())\n",
    "        self.__s1.append(data)\n",
    "        while(len(self.__s2) != 0):\n",
    "            self.__s1.append(self.__s2.pop())\n",
    "        return\n",
    "    \n",
    "    def dequeue(self):\n",
    "        #(O(1)) operation\n",
    "        if (len(self.__s1) == 0):\n",
    "            return -1\n",
    "        return self.__s1.pop()\n",
    "        \n",
    "    def front(self):\n",
    "        if (len(self.__s1) == 0):\n",
    "            return -1\n",
    "        return self.__s1[-1]\n",
    "    \n",
    "    def size(self):\n",
    "        return len(self.__s1)\n",
    "    \n",
    "    def isEmpty(self):\n",
    "        return self.size() == 0\n",
    "    \n",
    "q = QueueUsingTwoStacks()\n",
    "q.enqueue(1)\n",
    "q.enqueue(2)\n",
    "q.enqueue(3)\n",
    "q.enqueue(4)\n",
    "while (q.isEmpty() is False):\n",
    "    print(q.front())\n",
    "    q.dequeue()"
   ]
  },
  {
   "cell_type": "markdown",
   "metadata": {},
   "source": [
    "# Stack Using 2 Queues\n",
    "You need to implement a Stack class using two queues as its data members.<br>\n",
    "Only 2 data members should be there inside the class - two queues, which should be created dynamically and both should be public. Use the inbuilt queue.<br>\n",
    "Implement the following public functions :<br>\n",
    "#### 1. Constructor -\n",
    "Initialises both the data members.\n",
    "#### 2. push :\n",
    "This function should take one argument of type T and has return type void. This function should insert an element in the stack. Time complexity should be O(1).\n",
    "#### 3. pop :\n",
    "This function takes no input arguments and has return type T. This should removes the last element which is entered and return that element as an answer.\n",
    "#### 4. top :\n",
    "This function takes no input arguments and has return type T. This should return the last element which is entered and return that element as an answer.\n",
    "#### 5. getSize :\n",
    "Return the size of stack i.e. count of elements which are present ins stack right now. Time complexity should be O(1).\n"
   ]
  },
  {
   "cell_type": "code",
   "execution_count": 1,
   "metadata": {},
   "outputs": [
    {
     "name": "stdout",
     "output_type": "stream",
     "text": [
      "1 3 1 4 1 63 1 21 1 9 2 3 1 7 3 5\n",
      "9\n",
      "21\n",
      "7\n",
      "3 4 63 21 7 "
     ]
    }
   ],
   "source": [
    "import queue\n",
    "class StackUsingQueues:\n",
    "   \n",
    "    def __init__(self):\n",
    "        self.q1 = queue.Queue()\n",
    "        self.q2 = queue.Queue()\n",
    "       \n",
    "    def push(self,data):\n",
    "       self.q1.put(data)\n",
    "   \n",
    "    def pop(self):\n",
    "      while self.q1.qsize()>1:\n",
    "          self.q2.put(self.q1.get())\n",
    "      ans=self.q1.get()\n",
    "      self.q1,self.q2=self.q2,self.q1\n",
    "      return ans\n",
    "           \n",
    "   \n",
    "   \n",
    "    def top(self):\n",
    "      while self.q1.qsize()>1:\n",
    "          self.q2.put(self.q1.get())\n",
    "      ans=self.q1.get()\n",
    "      self.q2.put(ans)\n",
    "      self.q1,self.q2=self.q2,self.q1\n",
    "      return ans\n",
    "       \n",
    "       \n",
    "    def getSize(self):\n",
    "        return self.q1.qsize()\n",
    "       \n",
    "   \n",
    "s = StackUsingQueues()\n",
    "li = [int(ele) for ele in input().split()]\n",
    "i=0\n",
    "while i<len(li):\n",
    "    choice = li[i]\n",
    "    if choice == -1:\n",
    "        break\n",
    "    elif choice == 1:\n",
    "        s.push(li[i+1])\n",
    "        i+=1\n",
    "    elif choice == 2:\n",
    "        ans = s.pop()\n",
    "        if ans!=0:\n",
    "            print(ans)\n",
    "        else:\n",
    "            print(-1)\n",
    "    elif choice == 3:\n",
    "        ans = s.top()\n",
    "        if ans!=0:\n",
    "            print(ans)\n",
    "        else:\n",
    "            print(-1)\n",
    "    elif choice == 4:\n",
    "        print(s.getSize())\n",
    "    elif choice == 5:\n",
    "        while s.q1.qsize() !=0:\n",
    "            print(s.q1.get(),end=' ')\n",
    "           \n",
    "    i+=1"
   ]
  },
  {
   "cell_type": "markdown",
   "metadata": {},
   "source": [
    "# Reverse Queue\n",
    "\n",
    "Given a queue of integers, reverse it without help of any explicit stack or queue. You need to change in the given queue itself.\n",
    "Note : No need to return or print the queue.\n",
    "#### Input format :\n",
    "Line 1 : First Element - Size of Queue, Rest Elements - Elements Of Queue\n",
    "#### Output format :\n",
    "Queue elements\n",
    "#### Sample Input :\n",
    "4 1 2 3 4     (1 is at front)\n",
    "#### Sample Output :\n",
    "4 3 2 1    (4 is at front)"
   ]
  },
  {
   "cell_type": "code",
   "execution_count": 5,
   "metadata": {},
   "outputs": [
    {
     "name": "stdout",
     "output_type": "stream",
     "text": [
      "10 108 100 123 121 126 156 146 124 135 199\n",
      "199 135 124 146 156 126 121 123 100 108 "
     ]
    }
   ],
   "source": [
    "import queue\n",
    "def reverseQueue(queue):\n",
    "#### Implement Your Code Here\n",
    "    Stack = []  \n",
    "    while (not queue.empty()):  \n",
    "        Stack.append(queue.queue[0])  \n",
    "        queue.get() \n",
    "    while (len(Stack) != 0):  \n",
    "        queue.put(Stack[-1])  \n",
    "        Stack.pop()\n",
    "\n",
    "from sys import setrecursionlimit\n",
    "setrecursionlimit(11000)\n",
    "li = [int(ele) for ele in (input().split()[1:])]\n",
    "q1 = queue.Queue()\n",
    "for ele in li:\n",
    "    q1.put(ele)\n",
    "reverseQueue(q1)\n",
    "while(q1.empty() is False):\n",
    "    print(q1.get(),end= ' ')"
   ]
  },
  {
   "cell_type": "markdown",
   "metadata": {},
   "source": [
    "# Reverse first K elements\n",
    "Given a queue and an integer k, reverse first k elements. Return the updated queue.\n",
    "Do the problem in O(n) complexity.\n",
    "#### Input Format :\n",
    "Line 1 : Integer N, Size of Queue<br>\n",
    "Line 2 : Queue Elements (separated by space)<br>\n",
    "Line 3 : Integer k\n",
    "#### Output Format:\n",
    "Updated Queue elements\n",
    "#### Contraints :\n",
    "1<= N <=10000\n",
    "#### Sample Input 1:\n",
    "5<br>\n",
    "1 2 3 4 5<br>\n",
    "3\n",
    "#### Sample Output 1:\n",
    "3 2 1 4 5\n",
    "#### Sample Input 2:\n",
    "7<br>\n",
    "3 4 2 5 6 7 8<br>\n",
    "7\n",
    "#### Sample Output 2:\n",
    "8 7 6 5 2 4 3"
   ]
  },
  {
   "cell_type": "code",
   "execution_count": 2,
   "metadata": {},
   "outputs": [
    {
     "name": "stdout",
     "output_type": "stream",
     "text": [
      "6\n",
      "10 20 30 40 50 60\n",
      "2\n",
      "20\n",
      "10\n",
      "30\n",
      "40\n",
      "50\n",
      "60\n"
     ]
    }
   ],
   "source": [
    "import queue\n",
    "def reverseFirstK(Queue,k):\n",
    "#Implement Your Code Here  \n",
    "    if (Queue.empty() == True or\n",
    "             k > Queue.qsize()):  \n",
    "        return\n",
    "    if (k <= 0):  \n",
    "        return\n",
    "  \n",
    "    Stack = [] \n",
    "  \n",
    "    # put the first K elements  \n",
    "    # into a Stack \n",
    "    for i in range(k): \n",
    "        Stack.append(Queue.queue[0])  \n",
    "        Queue.get() \n",
    "  \n",
    "    # Enqueue the contents of stack  \n",
    "    # at the back of the queue \n",
    "    while (len(Stack) != 0 ):  \n",
    "        Queue.put(Stack[-1])  \n",
    "        Stack.pop() \n",
    "  \n",
    "    # Remove the remaining elements and  \n",
    "    # enqueue them at the end of the Queue \n",
    "    for i in range(Queue.qsize() - k): \n",
    "        Queue.put(Queue.queue[0])  \n",
    "        Queue.get() \n",
    "\n",
    "        \n",
    "from sys import setrecursionlimit\n",
    "setrecursionlimit(11000)\n",
    "n = int(input())\n",
    "li = [int(ele) for ele in input().split()]\n",
    "q = queue.Queue()\n",
    "for ele in li:\n",
    "\tq.put(ele)\n",
    "k = int(input())\n",
    "reverseFirstK(q,k) \n",
    "while(q.qsize()>0):\n",
    "\tprint(q.get())\n",
    "\tn-=1"
   ]
  }
 ],
 "metadata": {
  "kernelspec": {
   "display_name": "Python 3",
   "language": "python",
   "name": "python3"
  },
  "language_info": {
   "codemirror_mode": {
    "name": "ipython",
    "version": 3
   },
   "file_extension": ".py",
   "mimetype": "text/x-python",
   "name": "python",
   "nbconvert_exporter": "python",
   "pygments_lexer": "ipython3",
   "version": "3.7.3"
  }
 },
 "nbformat": 4,
 "nbformat_minor": 2
}
