{
 "cells": [
  {
   "cell_type": "markdown",
   "metadata": {},
   "source": [
    "# Inplace Heap Sort\n",
    "Given an integer array of size n. Sort this array (in decreasing order) using heap sort.\n",
    "Space complexity should be O(1).<br>\n",
    "#### Input Format :\n",
    "Line 1 : Integer n, Array size<br>\n",
    "Line 2 : Array elements, separated by space\n",
    "#### Output Format :\n",
    "Array elements after sorting\n",
    "#### Constraints :\n",
    "1 <= n <= 10^6\n",
    "#### Sample Input:\n",
    "6 <br>\n",
    "2 6 8 5 4 3\n",
    "#### Sample Output:\n",
    "8 6 5 4 3 2"
   ]
  },
  {
   "cell_type": "code",
   "execution_count": 1,
   "metadata": {},
   "outputs": [
    {
     "name": "stdout",
     "output_type": "stream",
     "text": [
      "374\n",
      "337 494 6 295 780 634 331 198 847 812 272 153 636 841 581 172 562 202 642 125 619 673 889 811 305 192 81 645 878 293 665 496 69 709 226 833 739 94 248 741 295 386 34 323 827 12 614 671 56 23 961 898 183 210 599 698 628 483 973 498 481 60 586 579 198 540 942 446 716 548 817 331 685 441 231 973 972 509 760 691 922 220 516 363 137 321 204 98 679 8 138 313 672 975 18 391 270 881 553 339 803 639 735 679 738 7 667 290 751 136 397 105 838 103 104 341 853 958 336 441 330 490 730 1000 700 734 808 735 300 246 952 5 646 267 674 462 513 244 618 161 304 571 527 886 18 80 561 462 899 513 972 593 518 172 81 87 576 992 954 398 222 535 923 80 43 766 338 83 171 28 555 830 149 351 143 679 289 53 787 641 271 617 121 243 633 21 37 11 618 977 601 337 587 62 799 436 808 326 776 673 988 782 101 813 350 114 855 616 416 62 24 794 876 194 759 528 151 189 557 657 243 357 290 127 517 819 366 530 874 679 936 346 615 562 256 55 942 82 758 386 676 182 386 820 262 759 12 917 527 716 544 137 15 350 453 648 902 1000 12 6 650 17 480 707 596 385 853 347 590 810 558 547 687 667 640 821 600 976 590 336 332 495 944 831 936 90 162 31 853 770 135 543 627 171 839 601 123 817 285 982 517 168 942 100 477 349 227 574 916 454 475 552 637 473 83 675 990 242 124 849 399 285 794 949 236 43 526 123 57 805 459 668 668 581 201 303 813 279 547 259 570 802 850 803 654 113 259 689 937 866 931 561 440 965 610 516 950 273 695 872 185 755 22 688 130 521 100 737 778 624 485 428 992 929 \n",
      "1000 1000 992 992 990 988 982 977 976 975 973 973 972 972 965 961 958 954 952 950 949 944 942 942 942 937 936 936 931 929 923 922 917 916 902 899 898 889 886 881 878 876 874 872 866 855 853 853 853 850 849 847 841 839 838 833 831 830 827 821 820 819 817 817 813 813 812 811 810 808 808 805 803 803 802 799 794 794 787 782 780 778 776 770 766 760 759 759 758 755 751 741 739 738 737 735 735 734 730 716 716 709 707 700 698 695 691 689 688 687 685 679 679 679 679 676 675 674 673 673 672 671 668 668 667 667 665 657 654 650 648 646 645 642 641 640 639 637 636 634 633 628 627 624 619 618 618 617 616 615 614 610 601 601 600 599 596 593 590 590 587 586 581 581 579 576 574 571 570 562 562 561 561 558 557 555 553 552 548 547 547 544 543 540 535 530 528 527 527 526 521 518 517 517 516 516 513 513 509 498 496 495 494 490 485 483 481 480 477 475 473 462 462 459 454 453 446 441 441 440 436 428 416 399 398 397 391 386 386 386 385 366 363 357 351 350 350 349 347 346 341 339 338 337 337 336 336 332 331 331 330 326 323 321 313 305 304 303 300 295 295 293 290 290 289 285 285 279 273 272 271 270 267 262 259 259 256 248 246 244 243 243 242 236 231 227 226 222 220 210 204 202 201 198 198 194 192 189 185 183 182 172 172 171 171 168 162 161 153 151 149 143 138 137 137 136 135 130 127 125 124 123 123 121 114 113 105 104 103 101 100 100 98 94 90 87 83 83 82 81 81 80 80 69 62 62 60 57 56 55 53 43 43 37 34 31 28 24 23 22 21 18 18 17 15 12 12 12 11 8 7 6 6 5\n"
     ]
    }
   ],
   "source": [
    "## Read input as specified in the question.\n",
    "## Print output as specified in the question.\n",
    "def heapify(arr, n, i): \n",
    "    largest = i  # Initialize largest as root \n",
    "    l = 2 * i + 1     # left = 2*i + 1 \n",
    "    r = 2 * i + 2     # right = 2*i + 2 \n",
    "  \n",
    "    # See if left child of root exists and is \n",
    "    # greater than root \n",
    "    if l < n and arr[i] < arr[l]: \n",
    "        largest = l \n",
    "  \n",
    "    # See if right child of root exists and is \n",
    "    # greater than root \n",
    "    if r < n and arr[largest] < arr[r]: \n",
    "        largest = r \n",
    "  \n",
    "    # Change root, if needed \n",
    "    if largest != i: \n",
    "        arr[i],arr[largest] = arr[largest],arr[i]  # swap \n",
    "  \n",
    "        # Heapify the root. \n",
    "        heapify(arr, n, largest) \n",
    "  \n",
    "# The main function to sort an array of given size \n",
    "def heapSort(arr): \n",
    "    n = len(arr) \n",
    "  \n",
    "    # Build a maxheap. \n",
    "    for i in range(n, -1, -1): \n",
    "        heapify(arr, n, i) \n",
    "  \n",
    "    # One by one extract elements \n",
    "    for i in range(n-1, 0, -1): \n",
    "        arr[i], arr[0] = arr[0], arr[i]   # swap \n",
    "        heapify(arr, i, 0) \n",
    "  \n",
    "# Driver code to test above \n",
    "input()\n",
    "arr = list(map(int,input().split()))\n",
    "heapSort(arr) \n",
    "n = len(arr) \n",
    "print(*reversed(arr))\n"
   ]
  },
  {
   "cell_type": "markdown",
   "metadata": {},
   "source": [
    "# K Smallest Elements\n",
    "You are given with an integer k and an array of integers that contain numbers in random order. Write a program to find k smallest numbers from given array. You need to save them in an array and return it.<br>\n",
    "Time complexity should be O(nlogk) and space complexity should be not more than O(k).<br>\n",
    "Order of elements in the output is not important.\n",
    "#### Input Format :\n",
    "Line 1 : Size of array (n)<br>\n",
    "Line 2 : Array elements (separated by space)<br>\n",
    "Line 3 : Integer k\n",
    "#### Output Format :\n",
    "k smallest elements\n",
    "#### Sample Input 1 :\n",
    "13<br>\n",
    "2 12 9 16 10 5 3 20 25 11 1 8 6 <br>\n",
    "4<br>\n",
    "#### Sample Output 1 :\n",
    "5<br>\n",
    "3<br>\n",
    "2<br>\n",
    "1"
   ]
  },
  {
   "cell_type": "code",
   "execution_count": 3,
   "metadata": {},
   "outputs": [
    {
     "name": "stdout",
     "output_type": "stream",
     "text": [
      "20\n",
      "910687 -566801 515816 477303 -347664 138793 -444484 914032 -569756 52382 53985 -927030 803021 62817 -723090 -964706 -351117 -93842 -678124 624263 \n",
      "7\n",
      "-964706\n",
      "-927030\n",
      "-723090\n",
      "-678124\n",
      "-569756\n",
      "-566801\n",
      "-444484\n"
     ]
    }
   ],
   "source": [
    "import heapq\n",
    "def kSmallest(lst, k):\n",
    "    #############################\n",
    "    # PLEASE ADD YOUR CODE HERE #\n",
    "    #############################\n",
    "    lst.sort()\n",
    "    for i in range(k):\n",
    "        print(lst[i])\n",
    "    pass\n",
    "\n",
    "# Main\n",
    "n=int(input())\n",
    "lst=list(int(i) for i in input().strip().split(' '))\n",
    "k=int(input())\n",
    "ans=kSmallest(lst, k)\n"
   ]
  },
  {
   "cell_type": "markdown",
   "metadata": {},
   "source": [
    "# K Largest Elements\n",
    "You are given with an integer k and an array of integers that contain numbers in random order. Write a program to find k largest numbers from given array. You need to save them in an array and return it.<br>\n",
    "Time complexity should be O(nlogk) and space complexity should be not more than O(k).<br>\n",
    "Order of elements in the output is not important.\n",
    "#### Input Format :\n",
    "Line 1 : Size of array (n)<br>\n",
    "Line 2 : Array elements (separated by space)<br>\n",
    "Line 3 : Integer k\n",
    "#### Output Format :\n",
    "k largest elements\n",
    "#### Sample Input :\n",
    "13<br>\n",
    "2 12 9 16 10 5 3 20 25 11 1 8 6 <br>\n",
    "4\n",
    "#### Sample Output :\n",
    "12<br>\n",
    "16<br>\n",
    "20<br>\n",
    "25"
   ]
  },
  {
   "cell_type": "code",
   "execution_count": 4,
   "metadata": {},
   "outputs": [
    {
     "name": "stdout",
     "output_type": "stream",
     "text": [
      "10\n",
      "-137892 -353550 521753 -484091 -298886 -871462 231711 -46383 192623 -43410 \n",
      "5\n",
      "521753\n",
      "231711\n",
      "192623\n",
      "-43410\n",
      "-46383\n"
     ]
    }
   ],
   "source": [
    "import heapq\n",
    "def kLargest(lst, k):\n",
    "    #############################\n",
    "    # PLEASE ADD YOUR CODE HERE #\n",
    "    #############################\n",
    "    lst.sort()\n",
    "    lst=reversed(lst)\n",
    "    lst=list(lst)\n",
    "    for i in range(k):\n",
    "        print(lst[i])\n",
    "    pass\n",
    "\n",
    "# Main Code\n",
    "n=int(input())\n",
    "lst=list(int(i) for i in input().strip().split(' '))\n",
    "k=int(input())\n",
    "ans=kLargest(lst, k)"
   ]
  },
  {
   "cell_type": "markdown",
   "metadata": {},
   "source": [
    "# [ASSIGNMENTS]"
   ]
  },
  {
   "cell_type": "markdown",
   "metadata": {},
   "source": [
    "# Check Max-Heap\n",
    "Given an array of integers, check whether it represents max-heap or not.\n",
    "Return true or false.<br>\n",
    "#### Input Format :\n",
    "Line 1 : An integer N i.e. size of the array<br>\n",
    "Line 2 : N integers which are elements of the array, separated by spaces\n",
    "#### Output Format :\n",
    "true if it represents max-heap and false if it is not a max-heap\n",
    "#### Constraints :\n",
    "1 <= N <= 10^5<br>\n",
    "1 <= Ai <= 10^5"
   ]
  },
  {
   "cell_type": "code",
   "execution_count": 5,
   "metadata": {},
   "outputs": [
    {
     "name": "stdout",
     "output_type": "stream",
     "text": [
      "20\n",
      "94032 91513 83822 86096 77055 65181 59534 63999 84904 35945 21525 44579 45064 36554 51655 9737 548 53228 26519 17196 \n",
      "true\n"
     ]
    }
   ],
   "source": [
    "import heapq\n",
    "def checkmaxheap(lst):\n",
    "    x=lst[:]\n",
    "    heapq._heapify_max(x)\n",
    "    for i in range (len(lst)):\n",
    "        if lst[i]!=x[i]:\n",
    "            return False\n",
    "        else:\n",
    "           return True\n",
    "\n",
    "# Main Code\n",
    "\n",
    "n=int(input())\n",
    "lst=list(int(i) for i in input().strip().split(' '))\n",
    "print('true') if checkmaxheap(lst) else print('false')"
   ]
  },
  {
   "cell_type": "markdown",
   "metadata": {},
   "source": [
    "# Kth largest element\n",
    "Given an array A of random integers and an integer k, find and return the kth largest element in the array.<br>\n",
    "Try to do this question in less than O(nlogn) time.<br>\n",
    "#### Input Format :\n",
    "Line 1 : An integer N i.e. size of the array<br>\n",
    "Line 2 : N integers which are elements of the array, separated by spaces<br>\n",
    "Line 3 : An integer k\n",
    "#### Output Format :\n",
    "kth largest element\n",
    "#### Input Constraints :\n",
    "1 <= N, Ai, k <= 10^5\n",
    "#### Sample Input 1 :\n",
    "6<br>\n",
    "9 4 8 7 11 3<br>\n",
    "2<br>\n",
    "#### Sample Output 1 :\n",
    "9\n",
    "#### Sample Input 2 :\n",
    "8<br>\n",
    "2 6 10 11 13 4 1 20<br>\n",
    "4\n",
    "#### Sample Output 2 :\n",
    "10"
   ]
  },
  {
   "cell_type": "code",
   "execution_count": 7,
   "metadata": {},
   "outputs": [
    {
     "name": "stdout",
     "output_type": "stream",
     "text": [
      "4\n",
      "10101 565 4921 60\n",
      "2\n",
      "4921\n"
     ]
    }
   ],
   "source": [
    "import heapq\n",
    "def kthLargest(lst, k):\n",
    "    lst.sort()\n",
    "    return lst[-k]\n",
    "    pass\n",
    "\n",
    "# Main Code\n",
    "n=int(input())\n",
    "lst=list(int(i) for i in input().strip().split(' '))\n",
    "k=int(input())\n",
    "ans=kthLargest(lst, k)\n",
    "print(ans)"
   ]
  },
  {
   "cell_type": "markdown",
   "metadata": {},
   "source": [
    "# Buy the ticket\n",
    "You want to buy a ticket for a well-known concert which is happening in your city. But the number of tickets available is limited. Hence the sponsors of the concert decided to sell tickets to customers based on some priority.<br><br>\n",
    "A queue is maintained for buying the tickets and every person has attached with a priority (an integer, 1 being the lowest priority). The tickets are sold in the following manner -<br><br>\n",
    "1. The first person (pi) in the queue asked to comes out.<br>\n",
    "2. If there is another person present in the queue who has higher priority than pi, then ask pi to move at end of the queue without giving him the ticket.<br><br>\n",
    "3. Otherwise, give him the ticket (and don't make him stand in queue again).<br>\n",
    "\n",
    "#### Giving a ticket to a person takes exactly 1 minutes and it takes no time for removing and adding a person to the queue. And you can assume that no new person joins the queue.<br><br>\n",
    "Given a list of priorities of N persons standing in the queue and the index of your priority (indexing starts from 0). Find and return the time it will take until you get the ticket.<br><br>\n",
    "\n",
    "#### Input Format :\n",
    "Line 1 : Integer N (Total number of people standing in queue)<br>\n",
    "Line 2 : Priorities of every person (n space separated integers)<br>\n",
    "Line 3 : Integer k (index of your priority)<br>\n",
    "\n",
    "#### Output Format :\n",
    "Time required\n",
    "#### Sample Input 1 :\n",
    "3<br>\n",
    "3 9 4<br>\n",
    "2\n",
    "#### Sample Output 1 :\n",
    "2\n",
    "#### Sample Output 1 Explanation :\n",
    "Person with priority 3 comes out. But there is a person with higher priority than him. So he goes and then stands in the queue at the end. Queue's status : {9, 4, 3}. Time : 0 secs.<br>\n",
    "Next, the person with priority 9 comes out. And there is no person with higher priority than him. So he'll get the ticket. Queue's status : {4, 3}. Time : 1 secs.<br>\n",
    "Next, the person with priority 4 comes out (which is you). And there is no person with higher priority than you. So you'll get the ticket. Time : 2 secs.<br>\n",
    "#### Sample Input 2 :\n",
    "5<br>\n",
    "2 3 2 2 4<br>\n",
    "3\n",
    "#### Sample Output 2 :\n",
    "4"
   ]
  },
  {
   "cell_type": "code",
   "execution_count": 8,
   "metadata": {},
   "outputs": [
    {
     "name": "stdout",
     "output_type": "stream",
     "text": [
      "10\n",
      "87240 79662 67310 15939 68624 68934 58457 85196 85264 30838\n",
      "5\n",
      "5\n"
     ]
    }
   ],
   "source": [
    "## Read input as specified in the question.\n",
    "## Print output as specified in the question.\n",
    "def buyTicket(arr,k):\n",
    "    ele=arr[k]\n",
    "    count1=0\n",
    "    for i in range(k-1):\n",
    "        if i == ele:\n",
    "            count1+=1\n",
    "    arr.sort()\n",
    "    count=0\n",
    "    arr=list(reversed(arr))\n",
    "    for i in range(len(arr)):\n",
    "        if arr[i]==ele:\n",
    "            return count1+count+1\n",
    "        count+=1\n",
    "        \n",
    "input()\n",
    "arr=list(map(int,input().split()))\n",
    "print(buyTicket(arr,int(input())))"
   ]
  }
 ],
 "metadata": {
  "kernelspec": {
   "display_name": "Python 3",
   "language": "python",
   "name": "python3"
  },
  "language_info": {
   "codemirror_mode": {
    "name": "ipython",
    "version": 3
   },
   "file_extension": ".py",
   "mimetype": "text/x-python",
   "name": "python",
   "nbconvert_exporter": "python",
   "pygments_lexer": "ipython3",
   "version": "3.7.3"
  }
 },
 "nbformat": 4,
 "nbformat_minor": 2
}
