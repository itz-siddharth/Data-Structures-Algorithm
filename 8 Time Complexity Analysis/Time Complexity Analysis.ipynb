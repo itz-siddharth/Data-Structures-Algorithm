{
 "cells": [
  {
   "cell_type": "markdown",
   "metadata": {},
   "source": [
    "# What is Complexity Analysis?"
   ]
  },
  {
   "cell_type": "markdown",
   "metadata": {},
   "source": [
    "#### Two main measures for the efficiency of an algorithm are \n",
    "<br>\n",
    "Time and space "
   ]
  },
  {
   "cell_type": "markdown",
   "metadata": {},
   "source": [
    "# Experimental Analysis"
   ]
  },
  {
   "cell_type": "code",
   "execution_count": 23,
   "metadata": {},
   "outputs": [],
   "source": [
    "def merge(a1, a2, a):\n",
    "    i = 0 \n",
    "    j = 0\n",
    "    k = 0\n",
    "    while i <len(a1) and j < len(a2):\n",
    "        if (a1[i] < a2[j]):\n",
    "            a[k] = a1[i]\n",
    "            k = k + 1\n",
    "            i = i + 1\n",
    "        else:\n",
    "            a[k] = a2[j]\n",
    "            k = k + 1\n",
    "            j = j + 1\n",
    "    while i < len(a1):\n",
    "        a[k] = a1[i]\n",
    "        k = k + 1\n",
    "        i = i + 1\n",
    "    while j < len(a2):\n",
    "        a[k] = a2[j]\n",
    "        k = k + 1\n",
    "        j = j + 1\n",
    "        \n",
    "def merge_sort(a):\n",
    "    if len(a) == 0 or len(a) == 1:\n",
    "        return\n",
    "    mid = len(a)//2\n",
    "    a1 = a[0:mid]\n",
    "    a2 = a[mid:]\n",
    "    \n",
    "    merge_sort(a1)\n",
    "    merge_sort(a2)\n",
    "    \n",
    "    merge(a1,a2,a)"
   ]
  },
  {
   "cell_type": "code",
   "execution_count": 24,
   "metadata": {},
   "outputs": [],
   "source": [
    "def selectionSort(arr):\n",
    "    length = len(arr)\n",
    "    for i in range(length-1):\n",
    "        minIndex = i\n",
    "        for j in range(i+1,length):\n",
    "            if(arr[j] < arr[minIndex]):\n",
    "                minIndex = j\n",
    "        temp = arr[i]\n",
    "        arr[i] = arr[minIndex]\n",
    "        arr[minIndex] = temp"
   ]
  },
  {
   "cell_type": "code",
   "execution_count": 25,
   "metadata": {},
   "outputs": [],
   "source": [
    "def create_rev_Array(n):\n",
    "    a=[]\n",
    "    for i in range(n,0,-1):\n",
    "        a.append(i)\n",
    "    return a"
   ]
  },
  {
   "cell_type": "code",
   "execution_count": 26,
   "metadata": {},
   "outputs": [],
   "source": [
    "import time"
   ]
  },
  {
   "cell_type": "code",
   "execution_count": 38,
   "metadata": {},
   "outputs": [],
   "source": [
    "n=10000"
   ]
  },
  {
   "cell_type": "code",
   "execution_count": 41,
   "metadata": {},
   "outputs": [
    {
     "name": "stdout",
     "output_type": "stream",
     "text": [
      "1000 0.008976221084594727\n"
     ]
    }
   ],
   "source": [
    "a = create_rev_Array(n)\n",
    "start = time.time()\n",
    "merge_sort(a)\n",
    "end = time.time()\n",
    "print(n,end-start)"
   ]
  },
  {
   "cell_type": "code",
   "execution_count": 43,
   "metadata": {},
   "outputs": [
    {
     "name": "stdout",
     "output_type": "stream",
     "text": [
      "1000 0.05581784248352051\n"
     ]
    }
   ],
   "source": [
    "a = create_rev_Array(n)\n",
    "start = time.time()\n",
    "selectionSort(a)\n",
    "end = time.time()\n",
    "print(n,end-start)"
   ]
  },
  {
   "cell_type": "markdown",
   "metadata": {},
   "source": [
    "# Theoretical Analysis"
   ]
  },
  {
   "cell_type": "markdown",
   "metadata": {},
   "source": [
    "#### In theoretical analysis the time factor when determining the efficiency of algorithm is measured by -<br>\n",
    "\n",
    "Counting the number of unit operations "
   ]
  },
  {
   "cell_type": "markdown",
   "metadata": {},
   "source": [
    "We will check Number of operations. \n",
    "Then find the dependancy..."
   ]
  },
  {
   "cell_type": "markdown",
   "metadata": {},
   "source": [
    "# Big O notation - Iterative Linear"
   ]
  },
  {
   "cell_type": "markdown",
   "metadata": {},
   "source": [
    "If the number of primary operations of an algorithm that takes an array of size n as input are 3n^2 + 5n.<br>\n",
    "The worst case time complexity of the algorithm will be ?<br>\n",
    "#### Answer - O(n^2) "
   ]
  },
  {
   "cell_type": "markdown",
   "metadata": {},
   "source": [
    "The worst case time complexity of Linear search is \n",
    "#### Answer - O(n)"
   ]
  },
  {
   "cell_type": "markdown",
   "metadata": {},
   "source": [
    "# Theoretical Analysis - Iterative Non-Linear Algorithms"
   ]
  },
  {
   "cell_type": "markdown",
   "metadata": {},
   "source": [
    "Bubble Sort Time Complexity - kn^2 \n",
    "#### O(n^2)"
   ]
  },
  {
   "cell_type": "markdown",
   "metadata": {},
   "source": [
    "1. Worst case time complexity of insertion sort is ?\n",
    "#### Answer - O(n^2)"
   ]
  },
  {
   "cell_type": "markdown",
   "metadata": {},
   "source": [
    "2. Worst case time complexity of Selection sort is ?\n",
    "\n",
    "   #### Answer - O(n^2) "
   ]
  },
  {
   "cell_type": "markdown",
   "metadata": {},
   "source": [
    "3. What will be the Time Complexity of following code in terms of ‘n’ ?\n",
    "   Note : Assume k to be a constant value<br>\n",
    "    for i in range(n):<br>\n",
    "    for j in range(k):<br>\n",
    "        print(i+j)<br>\n",
    "\n",
    "   #### Answer - O(n)"
   ]
  },
  {
   "cell_type": "markdown",
   "metadata": {},
   "source": [
    "4. What will be the Time Complexity of following code in terms of ‘n’ ’?<br>\n",
    "   for i in range(n):<br>\n",
    "    k=n<br>\n",
    "    while k>0:<br>\n",
    "        k //= 2<br>\n",
    "      \n",
    "   #### Answer - O(nlogn) "
   ]
  },
  {
   "cell_type": "markdown",
   "metadata": {},
   "source": [
    "5. What will be the Time Complexity of following code in terms of ‘n’ ?<br>\n",
    "   while n>0:<br>\n",
    "    n = n//4<br>\n",
    "#### Answer - O(logn to the base 4) "
   ]
  },
  {
   "cell_type": "markdown",
   "metadata": {},
   "source": [
    "# Theoretical Analysis -- Recursive"
   ]
  },
  {
   "cell_type": "markdown",
   "metadata": {},
   "source": [
    "def multiplyRec(m, n):<br>\n",
    "    if n==1:<br>\n",
    "        return m<br>\n",
    "    return m + multiplyRec(m,  n - 1)<br>\n",
    "\n",
    "#### Answer - O(n) "
   ]
  },
  {
   "cell_type": "markdown",
   "metadata": {},
   "source": [
    "def sumOfDigits(n):<br>\n",
    "    if n < 10:<br>\n",
    "        return n<br>\n",
    "    sum = (n % 10) + sumOfDigits(n//10)<br>\n",
    "    return sum<br>\n",
    "#### Answer - O(logn) - log is to the base 10 "
   ]
  },
  {
   "cell_type": "markdown",
   "metadata": {},
   "source": [
    "# Theoretical Analysis -- Binary Search"
   ]
  },
  {
   "cell_type": "markdown",
   "metadata": {},
   "source": [
    "What is the recurrence relation for merge sort :\n",
    "#### Answer : T(n) = 2T(n/2) + O(n) "
   ]
  },
  {
   "cell_type": "markdown",
   "metadata": {},
   "source": [
    "For merging two sorted arrays of size m and n into a sorted array of size m+n, we require operations -<br>\n",
    "#### Answer : O(m + n) "
   ]
  },
  {
   "cell_type": "markdown",
   "metadata": {},
   "source": [
    "What is the time complexity of merge sort :\n",
    "#### Answer : O(nlogn)"
   ]
  },
  {
   "cell_type": "markdown",
   "metadata": {},
   "source": [
    "# Merge Sort Time complexity"
   ]
  },
  {
   "cell_type": "markdown",
   "metadata": {},
   "source": [
    "T(n) = Kn * logn<br>\n",
    "\n",
    "#### O(nlogn)"
   ]
  },
  {
   "cell_type": "markdown",
   "metadata": {},
   "source": [
    "# Fibonacci Time Complexity Analysis"
   ]
  },
  {
   "cell_type": "markdown",
   "metadata": {},
   "source": [
    "#### Fibonacci Time Complexity\n",
    "\n",
    "What is the time complexity of following recursive code ?<br>\n",
    "def fib(n): <br>\n",
    "    if n == 0 or n == 1:<br>\n",
    "    return n<br>\n",
    "return fib(n - 1) + fib(n - 2)<br>\n",
    "\n",
    "#### Answer : O(2^n) "
   ]
  }
 ],
 "metadata": {
  "kernelspec": {
   "display_name": "Python 3",
   "language": "python",
   "name": "python3"
  },
  "language_info": {
   "codemirror_mode": {
    "name": "ipython",
    "version": 3
   },
   "file_extension": ".py",
   "mimetype": "text/x-python",
   "name": "python",
   "nbconvert_exporter": "python",
   "pygments_lexer": "ipython3",
   "version": "3.7.3"
  }
 },
 "nbformat": 4,
 "nbformat_minor": 2
}
