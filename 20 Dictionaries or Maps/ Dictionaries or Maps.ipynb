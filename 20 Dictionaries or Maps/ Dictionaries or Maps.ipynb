{
 "cells": [
  {
   "cell_type": "markdown",
   "metadata": {},
   "source": [
    "# Dictionary Intro"
   ]
  },
  {
   "cell_type": "markdown",
   "metadata": {},
   "source": [
    "# Access/looping elements in dictionary"
   ]
  },
  {
   "cell_type": "markdown",
   "metadata": {},
   "source": [
    "# Adding Or Removing Data In Dictionary"
   ]
  },
  {
   "cell_type": "markdown",
   "metadata": {},
   "source": [
    "# Print All Words With Frequency K"
   ]
  },
  {
   "cell_type": "markdown",
   "metadata": {},
   "source": [
    "# Maximum Frequency\n",
    "You are given with an array of integers that contain numbers in random order. Write a program to find and return the number which occurs maximum times in the given input.<br>\n",
    "If more than one element occurs same number of times in the input, return the element which is present in the input first.\n",
    "#### Input Format :\n",
    "Line 1 : An Integer N i.e. size of array<br>\n",
    "Line 2 : N integers which are elements of the array, separated by spaces\n",
    "#### Output Format :\n",
    "Most frequent element\n",
    "#### Constraints :\n",
    "1 <= N <= 10^5\n",
    "#### Sample Input 1 :\n",
    "13<br>\n",
    "2 12 2 11 12 2 1 2 2 11 12 2 6 \n",
    "#### Sample Output 1 :\n",
    "2\n",
    "#### Sample Input 2 :\n",
    "3<br>\n",
    "1 4 5\n",
    "#### Sample Output 2 :\n",
    "1"
   ]
  },
  {
   "cell_type": "code",
   "execution_count": 8,
   "metadata": {},
   "outputs": [
    {
     "name": "stdout",
     "output_type": "stream",
     "text": [
      "3\n",
      "1 4 5\n",
      "1\n"
     ]
    }
   ],
   "source": [
    "from collections import OrderedDict\n",
    "def maxFreq(l):\n",
    "    # Please add your code here\n",
    "    \n",
    "    d=OrderedDict()\n",
    "    for w in l:\n",
    "        d[w]=d.get(w,0)+1\n",
    "    maxi=-9999999\n",
    "    for i in d:\n",
    "        if d[i]>maxi:\n",
    "            index=i\n",
    "            maxi=d[i]\n",
    "   \n",
    "    return index\n",
    "        \n",
    "    \n",
    "    \n",
    "# Main\n",
    "n=int(input())\n",
    "l=list(int(i) for i in input().strip().split(' '))\n",
    "print(maxFreq(l))"
   ]
  },
  {
   "cell_type": "markdown",
   "metadata": {},
   "source": [
    "# Pair Sum To 0\n",
    "Given a random integer array A of size N. Find and print the pair of elements in the array which sum to 0.<br>\n",
    "Array A can contain duplicate elements.<br>\n",
    "While printing a pair, print the smaller element first.<br>\n",
    "That is, if a valid pair is (6, -6) print \"-6 6\". There is no constraint that out of 5 pairs which have to be printed in 1st line. You can print pairs in any order, just be careful about the order of elements in a pair.\n",
    "#### Input format :\n",
    "Line 1 : Integer N (Array size)<br>\n",
    "Line 2 : Array elements (separated by space)\n",
    "#### Output format :\n",
    "Line 1 : Pair 1 elements (separated by space)<br>\n",
    "Line 2 : Pair 2 elements (separated by space)<br>\n",
    "Line 3 : and so on<br>\n",
    "#### Constraints :\n",
    "1 <= N <= 10^6<br>\n",
    "Ai contains all non-zero values<br>\n",
    "#### Sample Input:\n",
    "5<br>\n",
    "2 1 -2 2 3\n",
    "#### Sample Output :\n",
    "-2 2<br>\n",
    "-2 2"
   ]
  },
  {
   "cell_type": "code",
   "execution_count": 9,
   "metadata": {},
   "outputs": [
    {
     "name": "stdout",
     "output_type": "stream",
     "text": [
      "5\n",
      "2 1 -2 2 3\n",
      "-2 2\n",
      "-2 2\n"
     ]
    }
   ],
   "source": [
    "def pairSum0(l):\n",
    "#Implement Your Code Here\n",
    "    d={}\n",
    "    for n in l:\n",
    "        d[n]=d.get(n,0)+1\n",
    "    for i in d:\n",
    "        find=-i\n",
    "        if find in d:\n",
    "            freq=d[i]*d[-i]\n",
    "            for j in range(freq):\n",
    "                if i<-i:\n",
    "                    print(i,-i)\n",
    "                else:\n",
    "                    print(-i,i)\n",
    "            d[i]=0\n",
    "            d[-i]=0\n",
    "        \n",
    "        \n",
    "\n",
    "n=int(input())\n",
    "l=list(int(i) for i in input().strip().split(' '))\n",
    "pairSum0(l)"
   ]
  },
  {
   "cell_type": "markdown",
   "metadata": {},
   "source": [
    "# How to make our own Hashmap?"
   ]
  },
  {
   "cell_type": "markdown",
   "metadata": {},
   "source": [
    "# What is Hashcode?"
   ]
  },
  {
   "cell_type": "markdown",
   "metadata": {},
   "source": [
    "# Collision Handling In Maps"
   ]
  },
  {
   "cell_type": "markdown",
   "metadata": {},
   "source": [
    "# Steps For Implementing Hashmaps"
   ]
  },
  {
   "cell_type": "markdown",
   "metadata": {},
   "source": [
    "# How To Insert In Map?"
   ]
  },
  {
   "cell_type": "markdown",
   "metadata": {},
   "source": [
    "# Search And Remove From Map"
   ]
  },
  {
   "cell_type": "markdown",
   "metadata": {},
   "source": [
    "# Two Rectifications"
   ]
  },
  {
   "cell_type": "markdown",
   "metadata": {},
   "source": [
    "# Time Complexity For Map Functions"
   ]
  },
  {
   "cell_type": "markdown",
   "metadata": {},
   "source": [
    "# Steps For Rehashing"
   ]
  },
  {
   "cell_type": "markdown",
   "metadata": {},
   "source": [
    "# Rehashing"
   ]
  },
  {
   "cell_type": "markdown",
   "metadata": {},
   "source": [
    "# Extract Unique characters\n",
    "Given a string, you need to remove all the duplicates. That means, the output string should contain each character only once.<br> The respective order of characters should remain same.\n",
    "#### Input format :\n",
    "String S\n",
    "#### Output format :\n",
    "Output String\n",
    "#### Constraints :\n",
    "1 <= Length of S <= 50000\n",
    "#### Sample Input 1 :\n",
    "ababacd\n",
    "#### Sample Output 1 :\n",
    "abcd\n",
    "#### Sample Input 2 :\n",
    "abcde\n",
    "#### Sample Output 2 :\n",
    "abcde"
   ]
  },
  {
   "cell_type": "code",
   "execution_count": 7,
   "metadata": {},
   "outputs": [
    {
     "name": "stdout",
     "output_type": "stream",
     "text": [
      "ababacd\n",
      "abcd"
     ]
    }
   ],
   "source": [
    "from collections import OrderedDict\n",
    "def uniqueChars(string):\n",
    "    # Please add your code here\n",
    "    d=OrderedDict()\n",
    "    for words in string:\n",
    "        d[words]=d.get(words,0)+1\n",
    "    for w in d:\n",
    "        if d[w]>1:\n",
    "            d[w]=1\n",
    "        else:\n",
    "            continue\n",
    "    for w in d:\n",
    "        print(w,end=\"\")\n",
    "    \n",
    "\n",
    "# Main\n",
    "string = input()\n",
    "uniqueChars(string)"
   ]
  },
  {
   "cell_type": "markdown",
   "metadata": {},
   "source": [
    "# Longest consecutive Sequence\n",
    "You are given with an array of integers that contain numbers in random order. Write a program to find the longest possible sequence of consecutive numbers using the numbers from given array.<br>\n",
    "You need to return the output array which contains consecutive elements. Order of elements in the output is not important.<br>\n",
    "Best solution takes O(n) time.<br>\n",
    "If two sequences are of equal length then return the sequence starting with the number whose occurrence is earlier in the array.<br>\n",
    "#### Input Format :\n",
    "Line 1 : Integer n, Size of array<br>\n",
    "Line 2 : Array elements (separated by space)\n",
    "#### Constraints :\n",
    "1 <= n <= 50000\n",
    "#### Sample Input 1 :\n",
    "13<br>\n",
    "2 12 9 16 10 5 3 20 25 11 1 8 6 \n",
    "#### Sample Output 1 :\n",
    "8 <br>\n",
    "9 <br>\n",
    "10 <br>\n",
    "11 <br>\n",
    "12\n",
    "#### Sample Input 2 :\n",
    "7<br>\n",
    "3 1 2 7 9 8 1\n",
    "#### Sample Output 2 :\n",
    "7<br>\n",
    "8<br>\n",
    "9\n",
    "#### Explanation: Sequence should be of consecutive numbers, since 1 appears multiple times in the given array, we can't consider a sequence that starts with 1 in this case or any number that occur multiple times.<br>\n",
    "#### Sample Input 3 :\n",
    "7<br>\n",
    "15 24 23 12 19 11 16\n",
    "#### Sample Output 3 :\n",
    "15 <br>\n",
    "16<br>"
   ]
  },
  {
   "cell_type": "code",
   "execution_count": 6,
   "metadata": {},
   "outputs": [
    {
     "name": "stdout",
     "output_type": "stream",
     "text": [
      "7\n",
      "15 24 23 12 19 11 16\n",
      "15\n",
      "16\n"
     ]
    }
   ],
   "source": [
    "from collections import OrderedDict\n",
    "def longestConsecutiveSubsequence(l):\n",
    "    m={l[i]:i for i in range (len(l)-1,-1,-1)}\n",
    "    visited={}\n",
    "    start,end=l[0],l[0]\n",
    "    startm,endm=start,end\n",
    "    for num in l:\n",
    "        if num not in visited:\n",
    "            visited[num]=True\n",
    "            start,end=num,num\n",
    "            while start-1 in m:\n",
    "                start-=1\n",
    "                visited[start]=True\n",
    "            while end+1 in m:\n",
    "                end+=1\n",
    "                visited[end]=True\n",
    "            if (endm-startm+1<end-start+1) or ((endm-startm+1==end-start+1) and (m[start]<m[startm])):\n",
    "                startm,endm=start,end\n",
    "    return startm,endm\n",
    "#Implement Your Code Here\n",
    "#You have To Return the list of longestConsecutiveSubsequence\n",
    "\n",
    "\n",
    "n=int(input())\n",
    "l=list(int(i) for i in input().strip().split(' '))\n",
    "start,end = longestConsecutiveSubsequence(l)\n",
    "\n",
    "for num in range(start,end+1):\n",
    "    print(num)"
   ]
  },
  {
   "cell_type": "markdown",
   "metadata": {},
   "source": [
    "# Pairs with difference K\n",
    "You are given with an array of integers and an integer K. Write a program to find and print all pairs which have difference K.<br>\n",
    "Best solution takes O(n) time. And take difference as absolute.<br>\n",
    "#### Input Format :\n",
    "Line 1 : Integer n, Size of array<br>\n",
    "Line 2 : Array elements (separated by space)<br>\n",
    "Line 3 : K\n",
    "#### Output format :\n",
    "Print pairs in different lines (pair elements separated by space). In a pair, smaller element should be printed first.<br>\n",
    "(Order of different pairs is not important)\n",
    "#### Constraints :\n",
    "1 <= n <= 5000\n",
    "#### Sample Input 1 :\n",
    "4 <br>\n",
    "5 1 2 4<br>\n",
    "3\n",
    "#### Sample Output 1 :\n",
    "2 5<br>\n",
    "1 4\n",
    "#### Sample Input 2 :\n",
    "4<br>\n",
    "4 4 4 4 <br>\n",
    "0\n",
    "#### Sample Output 2 :\n",
    "4 4<br>\n",
    "4 4<br>\n",
    "4 4<br>\n",
    "4 4<br>\n",
    "4 4<br>\n",
    "4 4"
   ]
  },
  {
   "cell_type": "code",
   "execution_count": 2,
   "metadata": {},
   "outputs": [
    {
     "name": "stdout",
     "output_type": "stream",
     "text": [
      "4\n",
      "5 1 2 4\n",
      "3\n",
      "2 5\n",
      "1 4\n"
     ]
    }
   ],
   "source": [
    "def printPairDiffK(l, k):\n",
    "    if k<0: # k is now non negative\n",
    "        k *= -1\n",
    "    #m = {num:True for num in l}\n",
    "    d = {}\n",
    "    for num in l:\n",
    "        find1=num+k\n",
    "        find2=num-k\n",
    "        if find1 in d:\n",
    "            for i in range(0,d[find1]):\n",
    "                print(num, find1)\n",
    "        if k!=0 and find2 in d:\n",
    "            for i in range(0,d[find2]):\n",
    "                print(find2, num)\n",
    "\n",
    "        # Update map        \n",
    "        if num in d:\n",
    "            d[num] += 1\n",
    "        else:\n",
    "            d[num] = 1\n",
    "\n",
    "        \n",
    "\n",
    "n=int(input())\n",
    "l=list(int(i) for i in input().strip().split(' '))\n",
    "k=int(input())\n",
    "printPairDiffK(l, k)"
   ]
  },
  {
   "cell_type": "markdown",
   "metadata": {},
   "source": [
    "# Longest subset zero sum\n",
    "Given an array consisting of positive and negative integers, find the length of the longest continuous subset whose sum is zero.<br>\n",
    "NOTE: You have to return the length of longest subset .\n",
    "#### Input Format :\n",
    "Line 1 : Contains an integer N i.e. size of array<br>\n",
    "Line 2 : Contains N elements of the array, separated by spaces\n",
    "#### Output Format\n",
    " Line 1 : Length of longest continuous subset \n",
    "#### Sample Input :\n",
    "10 <br>\n",
    "95 -97 -387 -435 -5 -70 897 127 23 284\n",
    "#### Sample Output :\n",
    "5"
   ]
  },
  {
   "cell_type": "code",
   "execution_count": 1,
   "metadata": {},
   "outputs": [
    {
     "name": "stdout",
     "output_type": "stream",
     "text": [
      "10\n",
      "95 -97 -387 -435 -5 -70 897 127 23 284\n",
      "5\n"
     ]
    }
   ],
   "source": [
    "from collections import OrderedDict\n",
    "def subsetSum(l):\n",
    "#Implement Your Code Here\n",
    "    d=OrderedDict()\n",
    "    sum=0\n",
    "    max_len=0\n",
    "    \n",
    "    for i in range(len(l)):\n",
    "        sum+=l[i]\n",
    "        if sum not in d:\n",
    "            d[sum]=i\n",
    "        else:\n",
    "            if i-d[sum]>max_len:\n",
    "                max_len=i-d[sum]\n",
    "    \n",
    "    if max_len==-999999999 and len(l)<2:\n",
    "        length=len(l)\n",
    "        max_len=length\n",
    "    if len(l)<2:\n",
    "        max_len=len(l)\n",
    "        \n",
    "    return max_len\n",
    "            \n",
    "\n",
    "n=int(input())\n",
    "l=list(int(i) for i in input().strip().split(' '))\n",
    "finalLen= subsetSum(l)\n",
    "print(finalLen)"
   ]
  }
 ],
 "metadata": {
  "kernelspec": {
   "display_name": "Python 3",
   "language": "python",
   "name": "python3"
  },
  "language_info": {
   "codemirror_mode": {
    "name": "ipython",
    "version": 3
   },
   "file_extension": ".py",
   "mimetype": "text/x-python",
   "name": "python",
   "nbconvert_exporter": "python",
   "pygments_lexer": "ipython3",
   "version": "3.7.3"
  }
 },
 "nbformat": 4,
 "nbformat_minor": 2
}
