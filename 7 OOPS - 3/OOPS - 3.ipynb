{
 "cells": [
  {
   "cell_type": "markdown",
   "metadata": {},
   "source": [
    "# Abstract Classes"
   ]
  },
  {
   "cell_type": "code",
   "execution_count": 3,
   "metadata": {},
   "outputs": [
    {
     "name": "stdout",
     "output_type": "stream",
     "text": [
      "Car created\n"
     ]
    }
   ],
   "source": [
    "from abc import ABC,abstractmethod\n",
    "\n",
    "class Automobile(ABC):\n",
    "    \n",
    "    def __init__(self):\n",
    "        print(\"Automobile created\")\n",
    "        \n",
    "    @abstractmethod\n",
    "    def start(self):\n",
    "        pass\n",
    "    \n",
    "    @abstractmethod\n",
    "    def stop(self):\n",
    "        pass\n",
    "    \n",
    "    @abstractmethod\n",
    "    def drive(self):\n",
    "        pass\n",
    "    \n",
    "class Car(Automobile):\n",
    "    \n",
    "    def __init__(self,name):\n",
    "        print(\"Car created\")\n",
    "        self.name = name\n",
    "        \n",
    "    def start(self):\n",
    "        pass\n",
    "    \n",
    "    def stop(self):\n",
    "        pass\n",
    "    \n",
    "    def drive(self):\n",
    "        pass\n",
    "\n",
    "c = Car(\"Honda\")"
   ]
  },
  {
   "cell_type": "code",
   "execution_count": 5,
   "metadata": {},
   "outputs": [
    {
     "name": "stdout",
     "output_type": "stream",
     "text": [
      "Automobile created\n"
     ]
    }
   ],
   "source": [
    "from abc import ABC,abstractmethod\n",
    "\n",
    "class Automobile(ABC):\n",
    "    \n",
    "    def __init__(self):\n",
    "        print(\"Automobile created\")\n",
    "        \n",
    "    @abstractmethod\n",
    "    def start(self):\n",
    "        pass\n",
    "    \n",
    "    @abstractmethod\n",
    "    def stop(self):\n",
    "        pass\n",
    "    \n",
    "    @abstractmethod\n",
    "    def drive(self):\n",
    "        pass\n",
    "    \n",
    "class Car(Automobile):\n",
    "    \n",
    "    #def __init__(self,name):\n",
    "       # print(\"Car created\")\n",
    "       # self.name = name\n",
    "        \n",
    "    def start(self):\n",
    "        pass\n",
    "    \n",
    "    def stop(self):\n",
    "        pass\n",
    "    \n",
    "    def drive(self):\n",
    "        pass\n",
    "\n",
    "c = Car()"
   ]
  },
  {
   "cell_type": "code",
   "execution_count": 10,
   "metadata": {},
   "outputs": [
    {
     "name": "stdout",
     "output_type": "stream",
     "text": [
      "Bus created\n"
     ]
    }
   ],
   "source": [
    "from abc import ABC,abstractmethod\n",
    "\n",
    "class Automobile(ABC):\n",
    "    \n",
    "    def __init__(self):\n",
    "        print(\"Automobile created\")\n",
    "        \n",
    "    @abstractmethod\n",
    "    def start(self):\n",
    "        pass\n",
    "    \n",
    "    @abstractmethod\n",
    "    def stop(self):\n",
    "        pass\n",
    "    \n",
    "    @abstractmethod\n",
    "    def drive(self):\n",
    "        pass\n",
    "    \n",
    "class Car(Automobile):\n",
    "    \n",
    "    def __init__(self,name):\n",
    "        print(\"Car created\")\n",
    "        self.name = name\n",
    "        \n",
    "    def start(self):\n",
    "        pass\n",
    "    \n",
    "    def stop(self):\n",
    "        pass\n",
    "    \n",
    "    def drive(self):\n",
    "        pass\n",
    "\n",
    "    \n",
    "class Bus(Automobile):\n",
    "    \n",
    "    def __init__(self,name):\n",
    "        print(\"Bus created\")\n",
    "        self.name = name\n",
    "        \n",
    "    def start(self):\n",
    "        pass\n",
    "    \n",
    "    def stop(self):\n",
    "        pass\n",
    "    \n",
    "    def drive(self):\n",
    "        pass\n",
    "    \n",
    "b = Bus(\"Delhi Metro Bus\")"
   ]
  },
  {
   "cell_type": "markdown",
   "metadata": {},
   "source": [
    "# Abstract Classes - Continue"
   ]
  },
  {
   "cell_type": "code",
   "execution_count": 3,
   "metadata": {},
   "outputs": [
    {
     "name": "stdout",
     "output_type": "stream",
     "text": [
      "Automobile created\n",
      "Automobile created\n",
      "4\n"
     ]
    }
   ],
   "source": [
    "from abc import ABC,abstractmethod\n",
    "\n",
    "class Automobile(ABC):\n",
    "\n",
    "\tdef __init__(self,no_of_wheels):\n",
    "\t\tself.no_of_wheels = no_of_wheels\n",
    "\t\tprint(\"Automobile created\")\n",
    "\n",
    "\t@abstractmethod\n",
    "\tdef start(self):\n",
    "\t\tprint(\"start of Automobile called\")\n",
    "\t@abstractmethod\n",
    "\tdef stop(self):\n",
    "\t\tpass\n",
    "\n",
    "\t@abstractmethod\n",
    "\tdef drive(self):\n",
    "\t\tpass\n",
    "\t@abstractmethod\n",
    "\tdef get_no_of_wheels(self):\n",
    "\t\treturn self.no_of_wheels\n",
    "\n",
    "class Car(Automobile):\n",
    "\n",
    "\n",
    "\tdef start(self):\n",
    "\t\tsuper().start()\n",
    "\t\tprint(\"start of Car called\")\n",
    "\n",
    "\tdef stop(self):\n",
    "\t\tpass\n",
    "\n",
    "\tdef drive(self):\n",
    "\t\tpass\n",
    "\tdef get_no_of_wheels(self):\n",
    "\t\treturn super().get_no_of_wheels()\n",
    "\n",
    "class Bus(Automobile):\n",
    "\n",
    "\tdef start(self):\n",
    "\t\tpass\n",
    "\n",
    "\tdef stop(self):\n",
    "\t\tpass\n",
    "\n",
    "\tdef drive(self):\n",
    "\t\tpass\n",
    "\tdef get_no_of_wheels(self):\n",
    "\t\treturn super().get_no_of_wheels()\n",
    "\n",
    "c = Car(4)\n",
    "b = Bus(8)\n",
    "print(c.get_no_of_wheels())\n",
    "# c = Car(\"Honda\")\n",
    "# c.start()\n",
    "# b = Bus(\"Delhi Metro Bus\")"
   ]
  },
  {
   "cell_type": "markdown",
   "metadata": {},
   "source": [
    "# Errors And Exceptions"
   ]
  },
  {
   "cell_type": "code",
   "execution_count": null,
   "metadata": {},
   "outputs": [],
   "source": [
    "a = \"abc\"\n",
    "# a = 10/0\n",
    "\n",
    "# a = b*4\n",
    "\n",
    "a = '1' + 2"
   ]
  },
  {
   "cell_type": "markdown",
   "metadata": {},
   "source": [
    "# Intro To Exception Handling"
   ]
  },
  {
   "cell_type": "code",
   "execution_count": 5,
   "metadata": {},
   "outputs": [
    {
     "name": "stdout",
     "output_type": "stream",
     "text": [
      "Enter the numerator : 10\n",
      "Enter the denominator : abc\n",
      "Numerator and Denominator should be integers!!\n",
      "Enter the numerator : 10\n",
      "Enter the denominator : 2\n",
      "5.0\n"
     ]
    }
   ],
   "source": [
    "while True:\n",
    "    try:\n",
    "        n = input('Enter the numerator : ')\n",
    "        num = int(n)\n",
    "        n = input('Enter the denominator : ')\n",
    "        denom = int(n)\n",
    "        value = num/denom\n",
    "        print(value)\n",
    "        break\n",
    "    except ValueError:\n",
    "        print('Numerator and Denominator should be integers!!')"
   ]
  },
  {
   "cell_type": "markdown",
   "metadata": {},
   "source": [
    "# Handling Multiple Exceptions"
   ]
  },
  {
   "cell_type": "code",
   "execution_count": 21,
   "metadata": {},
   "outputs": [
    {
     "name": "stdout",
     "output_type": "stream",
     "text": [
      "Enter the numerator : 10\n",
      "Enter the denominator : 0\n",
      "Denominator should not be zero!!\n",
      "Enter the numerator : 10\n",
      "Enter the denominator : 3\n",
      "3.3333333333333335\n"
     ]
    }
   ],
   "source": [
    "while True:\n",
    "    try:\n",
    "        n = input('Enter the numerator : ')\n",
    "        num = int(n)\n",
    "        n = input('Enter the denominator : ')\n",
    "        denom = int(n)\n",
    "        value = num/denom\n",
    "        print(value)\n",
    "        break\n",
    "    except ValueError:\n",
    "        print('Numerator and Denominator should be integers!!')\n",
    "    except ZeroDivisionError:\n",
    "        print('Denominator should not be zero!!')"
   ]
  },
  {
   "cell_type": "markdown",
   "metadata": {},
   "source": [
    "# Custom Exceptions"
   ]
  },
  {
   "cell_type": "code",
   "execution_count": 6,
   "metadata": {},
   "outputs": [
    {
     "name": "stdout",
     "output_type": "stream",
     "text": [
      "Enter the numerator :10\n",
      "Enter the denominator :0\n",
      "ZeroDenominatorError is raised\n",
      "Enter the numerator :10\n",
      "Enter the denominator :2\n",
      "5.0\n"
     ]
    }
   ],
   "source": [
    "class ZeroDenominatorError(Exception):\n",
    "    pass\n",
    "while True:\n",
    "    try:\n",
    "        n = input('Enter the numerator :')\n",
    "        num = int(n)\n",
    "        n = input('Enter the denominator :')\n",
    "        denom = int(n)\n",
    "        if denom == 0:\n",
    "            raise ZeroDenominatorError('Denominator should not be zero')\n",
    "        value = num/denom\n",
    "        print(value)\n",
    "        break\n",
    "    except ValueError:\n",
    "        print(\"Numerator and Denominator should be integers\")\n",
    "    except ZeroDenominatorError:\n",
    "        print(\"ZeroDenominatorError is raised\")"
   ]
  },
  {
   "cell_type": "markdown",
   "metadata": {},
   "source": [
    "# Except Functionailty"
   ]
  },
  {
   "cell_type": "code",
   "execution_count": 7,
   "metadata": {},
   "outputs": [
    {
     "name": "stdout",
     "output_type": "stream",
     "text": [
      "Enter the numerator :10\n",
      "Enter the denominator :0\n",
      "ZeroDenominatorError is raised\n",
      "Enter the numerator :12\n",
      "Enter the denominator :6\n",
      "2.0\n"
     ]
    }
   ],
   "source": [
    "class ZeroDenominatorError(ZeroDivisionError):\n",
    "    pass\n",
    "while True:\n",
    "    try:\n",
    "        n = input('Enter the numerator :')\n",
    "        num = int(n)\n",
    "        n = input('Enter the denominator :')\n",
    "        denom = int(n)\n",
    "        if denom == 0:\n",
    "            raise ZeroDenominatorError('Denominator should not be zero')\n",
    "        value = num/denom\n",
    "        print(value)\n",
    "        break\n",
    "    except ValueError:\n",
    "        print(\"Numerator and Denominator should be integers\")\n",
    "##########################################################################\n",
    "    except ZeroDenominatorError:\n",
    "        print(\"ZeroDenominatorError is raised\")\n",
    "    except ZeroDivisionError:\n",
    "        print(\"Division by zero is not allowed\")"
   ]
  },
  {
   "cell_type": "code",
   "execution_count": 9,
   "metadata": {},
   "outputs": [
    {
     "name": "stdout",
     "output_type": "stream",
     "text": [
      "Enter the numerator :10\n",
      "Enter the denominator :0\n",
      "Division by zero is not allowed\n",
      "Enter the numerator :24\n",
      "Enter the denominator :6\n",
      "4.0\n"
     ]
    }
   ],
   "source": [
    "#ZeroDivision is the parent of ZeroDenominator class, every ZeroDenominatorError is ZeroDivisionError\n",
    "#whoever match first will be executed\n",
    "class ZeroDenominatorError(ZeroDivisionError):\n",
    "    pass\n",
    "while True:\n",
    "    try:\n",
    "        n = input('Enter the numerator :')\n",
    "        num = int(n)\n",
    "        n = input('Enter the denominator :')\n",
    "        denom = int(n)\n",
    "        if denom == 0:\n",
    "            raise ZeroDenominatorError('Denominator should not be zero')\n",
    "        value = num/denom\n",
    "        print(value)\n",
    "        break\n",
    "    except ValueError:\n",
    "        print(\"Numerator and Denominator should be integers\")\n",
    "###############################################################################\n",
    "    except ZeroDivisionError:\n",
    "        print(\"Division by zero is not allowed\")\n",
    "    except ZeroDenominatorError:\n",
    "        print(\"ZeroDenominatorError is raised\")"
   ]
  },
  {
   "cell_type": "markdown",
   "metadata": {},
   "source": [
    "# Else And Finally\n",
    "<br>\n",
    "-else will execute when no exception is there.<br>\n",
    "-finally will be executed everytime ( whether exception or no exception )"
   ]
  },
  {
   "cell_type": "code",
   "execution_count": 16,
   "metadata": {},
   "outputs": [
    {
     "name": "stdout",
     "output_type": "stream",
     "text": [
      "Enter the numerator :10\n",
      "Enter the denominator :2\n",
      "5.0\n",
      "10\n",
      "2\n",
      "5.0\n",
      "exception may or may not be raised\n"
     ]
    }
   ],
   "source": [
    "class ZeroDenominatorError(ZeroDivisionError):\n",
    "\tpass\n",
    "while True:\n",
    "\ttry:\n",
    "\t\tn = input('Enter the numerator :')\n",
    "\t\tnum = int(n)\n",
    "\t\tn = input('Enter the denominator :')\n",
    "\t\tdenom = int(n)\n",
    "\t\tif denom == 0:\n",
    "\t\t\traise ZeroDenominatorError('Denominator should not be zero')\n",
    "\t\tvalue = num/denom\n",
    "\texcept ValueError:\n",
    "\t\tprint(\"Numerator and Denominator should be integers\")\n",
    "\texcept ZeroDenominatorError:\n",
    "\t\tprint(\"ZeroDenominatorError is raised\")\n",
    "\texcept ZeroDivisionError:\n",
    "\t\tprint(\"Division by zero is not allowed\")\n",
    "\texcept :\n",
    "\t\tprint(\"some exception is raised\") \n",
    "\telse:\n",
    "\t\tprint(value)\n",
    "\t\tbreak\n",
    "\tfinally:\n",
    "\t\tprint(num)\n",
    "\t\tprint(denom)\n",
    "\t\tprint(value)\n",
    "\t\tprint('exception may or may not be raised')"
   ]
  },
  {
   "cell_type": "markdown",
   "metadata": {},
   "source": [
    "# More About Finally"
   ]
  },
  {
   "cell_type": "code",
   "execution_count": 16,
   "metadata": {},
   "outputs": [
    {
     "name": "stdout",
     "output_type": "stream",
     "text": [
      "Enter the numerator :10\n",
      "Enter the denominator :0\n",
      "ZeroDenominatorError is raised\n",
      "10\n",
      "0\n",
      "4.0\n",
      "exception may or may not be raised\n",
      "Enter the numerator :10\n",
      "Enter the denominator :5\n",
      "2.0\n",
      "10\n",
      "5\n",
      "2.0\n",
      "exception may or may not be raised\n"
     ]
    }
   ],
   "source": [
    "class ZeroDenominatorError(ZeroDivisionError):\n",
    "\tpass\n",
    "while True:\n",
    "\ttry:\n",
    "\t\tn = input('Enter the numerator :')\n",
    "\t\tnum = int(n)\n",
    "\t\tn = input('Enter the denominator :')\n",
    "\t\tdenom = int(n)\n",
    "\t\tif denom == 0:\n",
    "\t\t\traise ZeroDenominatorError('Denominator should not be zero')\n",
    "\t\tvalue = num/denom\n",
    "\texcept ValueError:\n",
    "\t\tprint(\"Numerator and Denominator should be integers\")\n",
    "\texcept ZeroDenominatorError:\n",
    "\t\tprint(\"ZeroDenominatorError is raised\")\n",
    "\texcept ZeroDivisionError:\n",
    "\t\tprint(\"Division by zero is not allowed\")\n",
    "\texcept :\n",
    "\t\tprint(\"some exception is raised\") \n",
    "\telse:\n",
    "\t\tprint(value)\n",
    "\t\tbreak\n",
    "\tfinally:\n",
    "\t\tprint(num)\n",
    "\t\tprint(denom)\n",
    "\t\tprint(value)\n",
    "\t\tprint('exception may or may not be raised')"
   ]
  },
  {
   "cell_type": "markdown",
   "metadata": {},
   "source": [
    "# Predict The Output"
   ]
  },
  {
   "cell_type": "code",
   "execution_count": 11,
   "metadata": {},
   "outputs": [
    {
     "ename": "TypeError",
     "evalue": "Can't instantiate abstract class A with abstract methods fun1, fun2",
     "output_type": "error",
     "traceback": [
      "\u001b[1;31m---------------------------------------------------------------------------\u001b[0m",
      "\u001b[1;31mTypeError\u001b[0m                                 Traceback (most recent call last)",
      "\u001b[1;32m<ipython-input-11-8b7dd82f0650>\u001b[0m in \u001b[0;36m<module>\u001b[1;34m\u001b[0m\n\u001b[0;32m     11\u001b[0m         \u001b[1;32mpass\u001b[0m\u001b[1;33m\u001b[0m\u001b[1;33m\u001b[0m\u001b[0m\n\u001b[0;32m     12\u001b[0m \u001b[1;33m\u001b[0m\u001b[0m\n\u001b[1;32m---> 13\u001b[1;33m \u001b[0mo\u001b[0m \u001b[1;33m=\u001b[0m \u001b[0mA\u001b[0m\u001b[1;33m(\u001b[0m\u001b[1;33m)\u001b[0m\u001b[1;33m\u001b[0m\u001b[1;33m\u001b[0m\u001b[0m\n\u001b[0m\u001b[0;32m     14\u001b[0m \u001b[0mo\u001b[0m\u001b[1;33m.\u001b[0m\u001b[0mfun1\u001b[0m\u001b[1;33m(\u001b[0m\u001b[1;33m)\u001b[0m\u001b[1;33m\u001b[0m\u001b[1;33m\u001b[0m\u001b[0m\n",
      "\u001b[1;31mTypeError\u001b[0m: Can't instantiate abstract class A with abstract methods fun1, fun2"
     ]
    }
   ],
   "source": [
    "from abc import ABC,abstractmethod\n",
    "\n",
    "class A(ABC):\n",
    "\n",
    "    @abstractmethod\n",
    "    def fun1(self):\n",
    "        pass\n",
    "\n",
    "    @abstractmethod\n",
    "    def fun2(self):\n",
    "        pass\n",
    "\n",
    "o = A()\n",
    "o.fun1()"
   ]
  },
  {
   "cell_type": "code",
   "execution_count": 12,
   "metadata": {},
   "outputs": [
    {
     "ename": "TypeError",
     "evalue": "Can't instantiate abstract class B with abstract methods fun2",
     "output_type": "error",
     "traceback": [
      "\u001b[1;31m---------------------------------------------------------------------------\u001b[0m",
      "\u001b[1;31mTypeError\u001b[0m                                 Traceback (most recent call last)",
      "\u001b[1;32m<ipython-input-12-160e7dcee02b>\u001b[0m in \u001b[0;36m<module>\u001b[1;34m\u001b[0m\n\u001b[0;32m     15\u001b[0m     \u001b[1;32mdef\u001b[0m \u001b[0mfun1\u001b[0m\u001b[1;33m(\u001b[0m\u001b[0mself\u001b[0m\u001b[1;33m)\u001b[0m\u001b[1;33m:\u001b[0m\u001b[1;33m\u001b[0m\u001b[1;33m\u001b[0m\u001b[0m\n\u001b[0;32m     16\u001b[0m         \u001b[0mprint\u001b[0m\u001b[1;33m(\u001b[0m\u001b[1;34m\"function 1 called\"\u001b[0m\u001b[1;33m)\u001b[0m\u001b[1;33m\u001b[0m\u001b[1;33m\u001b[0m\u001b[0m\n\u001b[1;32m---> 17\u001b[1;33m \u001b[0mo\u001b[0m \u001b[1;33m=\u001b[0m \u001b[0mB\u001b[0m\u001b[1;33m(\u001b[0m\u001b[1;33m)\u001b[0m\u001b[1;33m\u001b[0m\u001b[1;33m\u001b[0m\u001b[0m\n\u001b[0m\u001b[0;32m     18\u001b[0m \u001b[0mo\u001b[0m\u001b[1;33m.\u001b[0m\u001b[0mfun1\u001b[0m\u001b[1;33m(\u001b[0m\u001b[1;33m)\u001b[0m\u001b[1;33m\u001b[0m\u001b[1;33m\u001b[0m\u001b[0m\n",
      "\u001b[1;31mTypeError\u001b[0m: Can't instantiate abstract class B with abstract methods fun2"
     ]
    }
   ],
   "source": [
    "from abc import ABC,abstractmethod\n",
    "\n",
    "class A(ABC):\n",
    "\n",
    "    @abstractmethod\n",
    "    def fun1(self):\n",
    "        pass\n",
    "\n",
    "    @abstractmethod\n",
    "    def fun2(self):\n",
    "        pass\n",
    "\n",
    "class B(A):\n",
    "\n",
    "    def fun1(self):\n",
    "        print(\"function 1 called\")\n",
    "o = B()\n",
    "o.fun1()"
   ]
  },
  {
   "cell_type": "code",
   "execution_count": 1,
   "metadata": {},
   "outputs": [
    {
     "name": "stdout",
     "output_type": "stream",
     "text": [
      "function 1 called\n"
     ]
    }
   ],
   "source": [
    "from abc import ABC,abstractmethod\n",
    "\n",
    "class A(ABC):\n",
    "\n",
    "    @abstractmethod\n",
    "    def fun1(self):\n",
    "        pass\n",
    "\n",
    "    @abstractmethod\n",
    "    def fun2(self):\n",
    "        pass\n",
    "\n",
    "class B(A):\n",
    "\n",
    "    def fun1(self):\n",
    "        print(\"function 1 called\")\n",
    "\n",
    "    def fun2(self):\n",
    "        print(\"function 2 called\")\n",
    "o = B()\n",
    "o.fun1()"
   ]
  },
  {
   "cell_type": "code",
   "execution_count": 2,
   "metadata": {},
   "outputs": [
    {
     "name": "stdout",
     "output_type": "stream",
     "text": [
      "function 1 called\n"
     ]
    }
   ],
   "source": [
    "from abc import ABC,abstractmethod\n",
    "\n",
    "class A(ABC):\n",
    "\n",
    "    @abstractmethod\n",
    "    def fun1(self):\n",
    "        print(\"function of class A called\")\n",
    "\n",
    "    @abstractmethod\n",
    "    def fun2(self):\n",
    "        pass\n",
    "\n",
    "class B(A):\n",
    "    def fun1(self):\n",
    "        print(\"function 1 called\")\n",
    "    def fun2(self):\n",
    "        print(\"function 2 called\")\n",
    "o = B()\n",
    "o.fun1()"
   ]
  },
  {
   "cell_type": "code",
   "execution_count": 9,
   "metadata": {},
   "outputs": [
    {
     "name": "stdout",
     "output_type": "stream",
     "text": [
      "function of class A called\n"
     ]
    }
   ],
   "source": [
    "class A(ABC):\n",
    "\n",
    "    @abstractmethod\n",
    "    def fun1(self):\n",
    "        print(\"function of class A called\")\n",
    "\n",
    "    @abstractmethod\n",
    "    def fun2(self):\n",
    "        pass\n",
    "\n",
    "class B(A):\n",
    "    def fun1(self):\n",
    "        super().fun1()\n",
    "    def fun2(self):\n",
    "        print(\"function 2 called\")\n",
    "o = B()\n",
    "o.fun1()"
   ]
  },
  {
   "cell_type": "code",
   "execution_count": 11,
   "metadata": {},
   "outputs": [
    {
     "ename": "ZeroDivisionError",
     "evalue": "division by zero",
     "output_type": "error",
     "traceback": [
      "\u001b[1;31m---------------------------------------------------------------------------\u001b[0m",
      "\u001b[1;31mZeroDivisionError\u001b[0m                         Traceback (most recent call last)",
      "\u001b[1;32m<ipython-input-11-5c31ee5bafdb>\u001b[0m in \u001b[0;36m<module>\u001b[1;34m\u001b[0m\n\u001b[0;32m      2\u001b[0m     \u001b[0ma\u001b[0m \u001b[1;33m=\u001b[0m \u001b[1;36m10\u001b[0m\u001b[1;33m\u001b[0m\u001b[1;33m\u001b[0m\u001b[0m\n\u001b[0;32m      3\u001b[0m     \u001b[0mb\u001b[0m \u001b[1;33m=\u001b[0m \u001b[1;36m0\u001b[0m\u001b[1;33m\u001b[0m\u001b[1;33m\u001b[0m\u001b[0m\n\u001b[1;32m----> 4\u001b[1;33m     \u001b[0mc\u001b[0m \u001b[1;33m=\u001b[0m \u001b[0ma\u001b[0m\u001b[1;33m/\u001b[0m\u001b[0mb\u001b[0m\u001b[1;33m\u001b[0m\u001b[1;33m\u001b[0m\u001b[0m\n\u001b[0m\u001b[0;32m      5\u001b[0m     \u001b[0mprint\u001b[0m\u001b[1;33m(\u001b[0m\u001b[0mc\u001b[0m\u001b[1;33m)\u001b[0m\u001b[1;33m\u001b[0m\u001b[1;33m\u001b[0m\u001b[0m\n\u001b[0;32m      6\u001b[0m \u001b[1;32mexcept\u001b[0m \u001b[0mValueError\u001b[0m\u001b[1;33m:\u001b[0m\u001b[1;33m\u001b[0m\u001b[1;33m\u001b[0m\u001b[0m\n",
      "\u001b[1;31mZeroDivisionError\u001b[0m: division by zero"
     ]
    }
   ],
   "source": [
    "try:\n",
    "    a = 10\n",
    "    b = 0\n",
    "    c = a/b\n",
    "    print(c)\n",
    "except ValueError:\n",
    "    print(\"Exception occured\")"
   ]
  },
  {
   "cell_type": "code",
   "execution_count": 12,
   "metadata": {},
   "outputs": [
    {
     "name": "stdout",
     "output_type": "stream",
     "text": [
      "Exception occured\n"
     ]
    }
   ],
   "source": [
    "try:\n",
    "    a = 10\n",
    "    b = 0\n",
    "    c = a/b\n",
    "    print(c)\n",
    "except ZeroDivisionError:\n",
    "    print(\"Exception occured\")"
   ]
  },
  {
   "cell_type": "code",
   "execution_count": 14,
   "metadata": {},
   "outputs": [
    {
     "name": "stdout",
     "output_type": "stream",
     "text": [
      "Exception occured\n"
     ]
    }
   ],
   "source": [
    "try:\n",
    "    a = 10\n",
    "    b = 0\n",
    "    c = a/b\n",
    "    print(c)\n",
    "except :\n",
    "    print(\"Exception occured\")"
   ]
  },
  {
   "cell_type": "code",
   "execution_count": 15,
   "metadata": {},
   "outputs": [
    {
     "name": "stdout",
     "output_type": "stream",
     "text": [
      "Name Error occured\n"
     ]
    }
   ],
   "source": [
    "try:\n",
    "    a = 10\n",
    "    b = 0\n",
    "    print(d)\n",
    "    c = a/b\n",
    "except NameError:\n",
    "    print('Name Error occured')\n",
    "except ZeroDivisionError:\n",
    "    print('Zero Division Error occured')"
   ]
  },
  {
   "cell_type": "code",
   "execution_count": 22,
   "metadata": {},
   "outputs": [
    {
     "ename": "ZeroDenominatorError",
     "evalue": "",
     "output_type": "error",
     "traceback": [
      "\u001b[1;31m---------------------------------------------------------------------------\u001b[0m",
      "\u001b[1;31mZeroDenominatorError\u001b[0m                      Traceback (most recent call last)",
      "\u001b[1;32m<ipython-input-22-c9ebb5ac2a06>\u001b[0m in \u001b[0;36m<module>\u001b[1;34m\u001b[0m\n\u001b[0;32m      5\u001b[0m     \u001b[0mb\u001b[0m \u001b[1;33m=\u001b[0m \u001b[1;36m0\u001b[0m\u001b[1;33m\u001b[0m\u001b[1;33m\u001b[0m\u001b[0m\n\u001b[0;32m      6\u001b[0m     \u001b[1;32mif\u001b[0m\u001b[1;33m(\u001b[0m\u001b[0mb\u001b[0m\u001b[1;33m==\u001b[0m\u001b[1;36m0\u001b[0m\u001b[1;33m)\u001b[0m\u001b[1;33m:\u001b[0m\u001b[1;33m\u001b[0m\u001b[1;33m\u001b[0m\u001b[0m\n\u001b[1;32m----> 7\u001b[1;33m         \u001b[1;32mraise\u001b[0m \u001b[0mZeroDenominatorError\u001b[0m\u001b[1;33m(\u001b[0m\u001b[1;33m)\u001b[0m\u001b[1;33m\u001b[0m\u001b[1;33m\u001b[0m\u001b[0m\n\u001b[0m\u001b[0;32m      8\u001b[0m     \u001b[0mc\u001b[0m \u001b[1;33m=\u001b[0m \u001b[0ma\u001b[0m\u001b[1;33m/\u001b[0m\u001b[0mb\u001b[0m\u001b[1;33m\u001b[0m\u001b[1;33m\u001b[0m\u001b[0m\n\u001b[0;32m      9\u001b[0m \u001b[1;32mexcept\u001b[0m \u001b[0mZeroDivisionError\u001b[0m\u001b[1;33m:\u001b[0m\u001b[1;33m\u001b[0m\u001b[1;33m\u001b[0m\u001b[0m\n",
      "\u001b[1;31mZeroDenominatorError\u001b[0m: "
     ]
    }
   ],
   "source": [
    "class ZeroDenominatorError(Exception):\n",
    "    pass\n",
    "try:\n",
    "    a = 10\n",
    "    b = 0\n",
    "    if(b==0):\n",
    "        raise ZeroDenominatorError() \n",
    "    c = a/b\n",
    "except ZeroDivisionError:\n",
    "    print('Zero Division Error occured')"
   ]
  },
  {
   "cell_type": "code",
   "execution_count": 3,
   "metadata": {},
   "outputs": [
    {
     "name": "stdout",
     "output_type": "stream",
     "text": [
      "Zero Division Error occured\n"
     ]
    }
   ],
   "source": [
    "class ZeroDenominatorError(ZeroDivisionError):\n",
    "    pass\n",
    "try:\n",
    "    a = 10\n",
    "    b = 0\n",
    "    if(b==0):\n",
    "        raise ZeroDenominatorError()\n",
    "    c = a/b\n",
    "except ZeroDivisionError:\n",
    "    print('Zero Division Error occured')\n",
    "except ZeroDenominatorError:\n",
    "    print('Zero Denominator Error occured')"
   ]
  },
  {
   "cell_type": "code",
   "execution_count": 11,
   "metadata": {},
   "outputs": [
    {
     "name": "stdout",
     "output_type": "stream",
     "text": [
      "Zero Division Error occured "
     ]
    }
   ],
   "source": [
    "class ZeroDenominatorError(ZeroDivisionError):\n",
    "    pass\n",
    "try:\n",
    "    a = 10\n",
    "    b = 0\n",
    "    if(b==0):\n",
    "        raise ZeroDenominatorError()\n",
    "    c = a/b\n",
    "except ZeroDivisionError:\n",
    "    print('Zero Division Error occured',end= ' ')\n",
    "except ZeroDenominatorError:\n",
    "    print('Zero Denominator Error occured',end = ' ')\n",
    "else:\n",
    "    print('else works')"
   ]
  },
  {
   "cell_type": "code",
   "execution_count": 14,
   "metadata": {},
   "outputs": [
    {
     "name": "stdout",
     "output_type": "stream",
     "text": [
      "2.0\n",
      "else works\n"
     ]
    }
   ],
   "source": [
    "class ZeroDenominatorError(ZeroDivisionError):\n",
    "    pass\n",
    "try:\n",
    "    a = 10\n",
    "    b = 5\n",
    "    if(b==0):\n",
    "        raise ZeroDenominatorError()\n",
    "    c = a/b\n",
    "except ZeroDivisionError:\n",
    "    print('Zero Division Error occured',end= ' ')\n",
    "except ZeroDenominatorError:\n",
    "    print('Zero Denominator Error occured',end = ' ')\n",
    "else:\n",
    "    print(c)\n",
    "    print('else works')"
   ]
  },
  {
   "cell_type": "code",
   "execution_count": 15,
   "metadata": {},
   "outputs": [
    {
     "name": "stdout",
     "output_type": "stream",
     "text": [
      "else works finally works\n"
     ]
    }
   ],
   "source": [
    "class ZeroDenominatorError(ZeroDivisionError):\n",
    "    pass\n",
    "try:\n",
    "    a = 10\n",
    "    b = 5\n",
    "    if(b==0):\n",
    "        raise ZeroDenominatorError()\n",
    "    c = a/b\n",
    "except ZeroDivisionError:\n",
    "    print('Zero Division Error occured',end= ' ')\n",
    "except ZeroDenominatorError:\n",
    "    print('Zero Denominator Error occured',end = ' ')\n",
    "else:\n",
    "    print('else works',end=' ')\n",
    "finally:\n",
    "    print('finally works')"
   ]
  }
 ],
 "metadata": {
  "kernelspec": {
   "display_name": "Python 3",
   "language": "python",
   "name": "python3"
  },
  "language_info": {
   "codemirror_mode": {
    "name": "ipython",
    "version": 3
   },
   "file_extension": ".py",
   "mimetype": "text/x-python",
   "name": "python",
   "nbconvert_exporter": "python",
   "pygments_lexer": "ipython3",
   "version": "3.7.3"
  }
 },
 "nbformat": 4,
 "nbformat_minor": 2
}
