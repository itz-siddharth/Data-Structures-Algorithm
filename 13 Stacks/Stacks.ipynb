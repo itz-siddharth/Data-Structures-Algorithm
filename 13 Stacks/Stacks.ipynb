{
 "cells": [
  {
   "cell_type": "markdown",
   "metadata": {},
   "source": [
    "# Intro To Stacks"
   ]
  },
  {
   "cell_type": "markdown",
   "metadata": {},
   "source": [
    "#### Stack\n",
    "Q. A stack is a ?<br>\n",
    "Answer : LIFO (Last In First Out) list. "
   ]
  },
  {
   "cell_type": "markdown",
   "metadata": {},
   "source": [
    "# Recursion Stack"
   ]
  },
  {
   "cell_type": "markdown",
   "metadata": {},
   "source": [
    "#### Use Recursion\n",
    "Q. Which data structure is used for implementing recursion?<br>\n",
    "Answer : Stack \n"
   ]
  },
  {
   "cell_type": "markdown",
   "metadata": {},
   "source": [
    "# Stack Using Array - Explain"
   ]
  },
  {
   "cell_type": "markdown",
   "metadata": {},
   "source": [
    "# Stack Using Array - Code"
   ]
  },
  {
   "cell_type": "code",
   "execution_count": 7,
   "metadata": {},
   "outputs": [
    {
     "name": "stdout",
     "output_type": "stream",
     "text": [
      "15\n",
      "13\n",
      "12\n",
      "Hey! Stack is Empty!!\n"
     ]
    }
   ],
   "source": [
    "#let file name containing the class Stack program is StackUsingArray.py\n",
    "class Stack:\n",
    "    def __init__(self):\n",
    "        self.__data=[]\n",
    "        \n",
    "    def push(self,item):\n",
    "        self.__data.append(item)\n",
    "        \n",
    "    def pop(self):\n",
    "        if self.isEmpty():\n",
    "            print(\"Hey! Stack is Empty!!\")\n",
    "            return\n",
    "        return self.__data.pop()\n",
    "    \n",
    "    def top(self):\n",
    "        if self.isEmpty():\n",
    "            print(\"Hey! Stack is Empty!!\")\n",
    "            return\n",
    "        return self.__data[len(self.__data) - 1]\n",
    "    \n",
    "    def size(self):\n",
    "        return len(self.__data)\n",
    "    \n",
    "    def isEmpty(self):\n",
    "        return self.size()==0\n",
    "    \n",
    "#if above class is declared in different .py file then \"import the class\" in other .py file where writing the main program\n",
    "# from StackUsingArray import Stack\n",
    "s = Stack()\n",
    "s.push(12)\n",
    "s.push(13)\n",
    "s.push(15)\n",
    "\n",
    "while s.isEmpty() is False:\n",
    "    print(s.pop())\n",
    "s.top()"
   ]
  },
  {
   "cell_type": "markdown",
   "metadata": {},
   "source": [
    "# Stack Using LL"
   ]
  },
  {
   "cell_type": "markdown",
   "metadata": {},
   "source": [
    "# Stack Using LL - Code"
   ]
  },
  {
   "cell_type": "code",
   "execution_count": 27,
   "metadata": {},
   "outputs": [
    {
     "name": "stdout",
     "output_type": "stream",
     "text": [
      "15\n",
      "13\n",
      "12\n",
      "Hey! Stack is Empty!!\n"
     ]
    }
   ],
   "source": [
    "#let file name containing the class Stack program is StackUsingLL.py\n",
    "class Node:\n",
    "    def __init__(self,initData):\n",
    "        self.data = initData\n",
    "        self.next = None\n",
    "class Stack:\n",
    "    def __init__(self):\n",
    "        self.__head = None\n",
    "        self.__count = 0\n",
    "        \n",
    "    def push(self,element):\n",
    "        newNode = Node(element)\n",
    "        newNode.next = self.__head\n",
    "        self.__head = newNode\n",
    "        self.__count = self.__count + 1\n",
    "        \n",
    "    def pop(self):\n",
    "        if self.isEmpty() is True:\n",
    "            print(\"Hey! Stack is Empty!!\")\n",
    "            return\n",
    "        data = self.__head.data\n",
    "        self.__head = self.__head.next\n",
    "        self.__count = self.__count - 1\n",
    "        return data\n",
    "        \n",
    "    def top(self):\n",
    "        if self.isEmpty() is True:\n",
    "            print(\"Hey! Stack is Empty!!\")\n",
    "            return\n",
    "        data = self.__head.data\n",
    "        return data\n",
    "    \n",
    "    def size(self):\n",
    "        return self.__count\n",
    "    \n",
    "    def isEmpty(self):\n",
    "        return self.size()==0\n",
    "    \n",
    "#if above class is declared in different .py file then \"import the class\" in other .py file where writing the main program\n",
    "# from StackUsingLL import Stack\n",
    "s = Stack()\n",
    "s.push(12)\n",
    "s.push(13)\n",
    "s.push(15)\n",
    "\n",
    "while s.isEmpty() is False:\n",
    "    print(s.pop())\n",
    "s.top()"
   ]
  },
  {
   "cell_type": "markdown",
   "metadata": {},
   "source": [
    "# Code : Stack Using LL\n",
    "You need to implement a Stack class using linked list.<br>\n",
    "The data members should be private.<br>\n",
    "Implement the following public functions :<br>\n",
    "#### 1. Constructor -\n",
    "Initialises the data member (i.e. head to null).\n",
    "#### 2. push :\n",
    "This function should take one argument of type T and has return type void. This function should insert an element in the stack <br> \n",
    "Time complexity should be O(1).\n",
    "#### 3. pop :\n",
    "This function takes no input arguments and has return type T. This should removes the last element which is entered and return that element as an answer. Time complexity should be O(1).\n",
    "#### 4. top :\n",
    "This function takes no input arguments and has return type T. This should return the last element which is entered and return that element as an answer. Time complexity should be O(1).\n",
    "#### 5. size :\n",
    "Return the size of stack i.e. count of elements which are present ins stack right now. Time complexity should be O(1).\n",
    "#### 6. isEmpty :\n",
    "Checks if the stack is empty or not. Return true or false."
   ]
  },
  {
   "cell_type": "code",
   "execution_count": null,
   "metadata": {},
   "outputs": [],
   "source": [
    "##  ###Following Node class us already created internally. You can directly use that.\n",
    "class Node:\n",
    "    def __init__(self,data):\n",
    "        self.data = data\n",
    "        self.next = None\n",
    "        \n",
    "class StackUsingLL:\n",
    "    ### Implement all these functions here\n",
    "    \n",
    "    def __init__(self):\n",
    "        self.__head = None\n",
    "        self.__size = 0\n",
    "\n",
    "    def push(self,data):\n",
    "        newNode = Node(data)\n",
    "        newNode.next = self.__head\n",
    "        self.__head = newNode\n",
    "        self.__size = self.__size + 1\n",
    "        \n",
    "    def pop(self):\n",
    "        # Return 0 if stack is empty. Don't display any other message\n",
    "        if self.isEmpty() is True:\n",
    "            return 0\n",
    "        data = self.__head.data\n",
    "        self.__head = self.__head.next\n",
    "        self.__size = self.__size - 1\n",
    "        return data\n",
    "    \n",
    "    \n",
    "    def top(self):\n",
    "        # Return 0 if stack is empty. Don't display any other message\n",
    "        if self.isEmpty() is True:\n",
    "            return 0\n",
    "        data = self.__head.data\n",
    "        return data\n",
    "    \n",
    "    def isEmpty(self):\n",
    "        return self.getSize() == 0\n",
    "        \n",
    "    def getSize(self):\n",
    "        return self.__size\n",
    "        \n",
    "    \n",
    "s = StackUsingLL()\n",
    "li = [int(ele) for ele in input().split()]\n",
    "i=0\n",
    "while i<len(li):\n",
    "    choice = li[i]\n",
    "    if choice == -1:\n",
    "        break\n",
    "    elif choice == 1:\n",
    "        s.push(li[i+1])\n",
    "        i+=1\n",
    "    elif choice == 2:\n",
    "        ans = s.pop()\n",
    "        if ans!=0:\n",
    "            print(ans)\n",
    "        else:\n",
    "            print(-1)\n",
    "    elif choice == 3:\n",
    "        ans = s.top()\n",
    "        if ans!=0:\n",
    "            print(ans)\n",
    "        else:\n",
    "            print(-1)\n",
    "    elif choice == 4:\n",
    "        print(s.getSize())\n",
    "    elif choice == 5:\n",
    "        if(s.isEmpty()):\n",
    "            print('true')\n",
    "        else:\n",
    "            print('false')\n",
    "    i+=1"
   ]
  },
  {
   "cell_type": "markdown",
   "metadata": {},
   "source": [
    "#### Stack Implementation\n",
    "Which of the following operation take worst case i.e. linear time (O(n)) in the array implementation of stack?<br>\n",
    "#### Options\n",
    "Push<br>\n",
    "Pop<br>\n",
    "IsEmpty<br>\n",
    "None <br>\n",
    "Correct Answer : None"
   ]
  },
  {
   "cell_type": "markdown",
   "metadata": {},
   "source": [
    "# Inbuillt Stacks & Queues\n"
   ]
  },
  {
   "cell_type": "code",
   "execution_count": 4,
   "metadata": {},
   "outputs": [
    {
     "name": "stdout",
     "output_type": "stream",
     "text": [
      "5\n",
      "4\n"
     ]
    }
   ],
   "source": [
    "#inbuilt stack using list\n",
    "s = [1,2,3]\n",
    "s.append(4)\n",
    "s.append(5)\n",
    "print(s.pop())\n",
    "print(s.pop())"
   ]
  },
  {
   "cell_type": "code",
   "execution_count": 6,
   "metadata": {},
   "outputs": [
    {
     "name": "stdout",
     "output_type": "stream",
     "text": [
      "3\n",
      "2\n",
      "1\n"
     ]
    }
   ],
   "source": [
    "#stack using LifoQueue()\n",
    "import queue\n",
    "q = queue.LifoQueue()\n",
    "q.put(1)\n",
    "q.put(2)\n",
    "q.put(3)\n",
    "while not q.empty():\n",
    "    print(q.get())"
   ]
  },
  {
   "cell_type": "code",
   "execution_count": 7,
   "metadata": {},
   "outputs": [
    {
     "name": "stdout",
     "output_type": "stream",
     "text": [
      "1\n",
      "2\n",
      "3\n",
      "4\n"
     ]
    }
   ],
   "source": [
    "import queue\n",
    "q = queue.Queue()\n",
    "q.put(1)\n",
    "q.put(2)\n",
    "q.put(3)\n",
    "q.put(4)\n",
    "while not q.empty():\n",
    "    print(q.get())"
   ]
  },
  {
   "cell_type": "markdown",
   "metadata": {},
   "source": [
    "# Balanced Paranthesis - Explain\n"
   ]
  },
  {
   "cell_type": "markdown",
   "metadata": {},
   "source": [
    "# Balanced Paranthesis - Code"
   ]
  },
  {
   "cell_type": "code",
   "execution_count": 5,
   "metadata": {},
   "outputs": [
    {
     "name": "stdout",
     "output_type": "stream",
     "text": [
      "{ a + [ b - c } ]\n",
      "true\n"
     ]
    }
   ],
   "source": [
    "###########################  WRONG CODE!!!!!!!!!!!!!!!!\n",
    "def isBalanced(string):\n",
    "    s = []\n",
    "    \n",
    "    for char in string:\n",
    "        if char is '({[':\n",
    "            s.append(char)\n",
    "        elif char is ')':\n",
    "            if (not s or s[-1]!='('):\n",
    "                return False\n",
    "            s.pop()\n",
    "        elif char is '}':\n",
    "            if (not s or s[-1]!='{'):\n",
    "                return False\n",
    "            s.pop()\n",
    "        elif char is ']':\n",
    "            if (not s or s[-1]!='['):\n",
    "                return False\n",
    "            s.pop()\n",
    "    if (not s):\n",
    "        return True\n",
    "    return False\n",
    "\n",
    "            \n",
    "string = input()\n",
    "ans = isBalanced(string)\n",
    "if not ans:\n",
    "    print('true')\n",
    "else:\n",
    "    print('false')"
   ]
  },
  {
   "cell_type": "markdown",
   "metadata": {},
   "source": [
    "# Balanced Paranthesis\n",
    "Given a string expression, check if brackets present in the expression are balanced or not. <br>Brackets are balanced if the bracket which opens last, closes first.<br>\n",
    "You need to return true if it is balanced, false otherwise.<br>\n",
    "Note: This problem was asked in initial rounds in Facebook\n",
    "#### Sample Input 1 :\n",
    "{ a + [ b+ (c + d)] + (e + f) }\n",
    "#### Sample Output 1 :\n",
    "true\n",
    "#### Sample Input 2 :\n",
    "{ a + [ b - c } ]\n",
    "#### Sample Output 2 :\n",
    "false"
   ]
  },
  {
   "cell_type": "code",
   "execution_count": 4,
   "metadata": {},
   "outputs": [
    {
     "name": "stdout",
     "output_type": "stream",
     "text": [
      "{ a + [ b - c } ]\n",
      "false\n"
     ]
    }
   ],
   "source": [
    "def isBalanced(string):\n",
    "    s=[]\n",
    "    for char  in string:\n",
    "        if char is '(':\n",
    "            s.append(char)\n",
    "        elif char is '[':\n",
    "            s.append(char)\n",
    "        elif char is '{':\n",
    "            s.append(char)\n",
    "        elif char is ')':\n",
    "            if(not s or s[-1]!='('):\n",
    "                return False\n",
    "            s.pop()\n",
    "        elif char is '}':\n",
    "            if(not s or s[-1]!='{'):\n",
    "                return False\n",
    "            s.pop()\n",
    "        elif char is ']':\n",
    "            if(not s or s[-1]!='['):\n",
    "                return False\n",
    "            s.pop()\n",
    "    if not s:\n",
    "         return True\n",
    "\n",
    "\n",
    "\n",
    "string=input()\n",
    "ans=isBalanced(string)\n",
    "if ans:\n",
    "    print(\"true\")\n",
    "else:\n",
    "    print(\"false\")"
   ]
  },
  {
   "cell_type": "markdown",
   "metadata": {},
   "source": [
    "# Reverse Stack - Explain"
   ]
  },
  {
   "cell_type": "markdown",
   "metadata": {},
   "source": [
    "# Reverse Stack - Code\n"
   ]
  },
  {
   "cell_type": "markdown",
   "metadata": {},
   "source": [
    "# Reverse Stack\n",
    "Reverse a given Stack with the help of another empty stack. Two stacks will be given. Out of which first contains some integers and second one is empty. <br>You need to reverse the first one using second stack. Change in the given first stack itself.<br>\n",
    "Note : You don't need to print or return the stack, just reverse the given stack and it will be printed internally.\n",
    "#### Input format :\n",
    "Line 1 : Size of Stack<br>\n",
    "Line 2 : Stack elements (separated by space)\n",
    "#### Sample Input 1 :\n",
    "4 <br>\n",
    "1 2 3 4     (4 is at top)\n",
    "#### Sample Output 1 :\n",
    "1 2 3 4    (1 is at top)"
   ]
  },
  {
   "cell_type": "code",
   "execution_count": 10,
   "metadata": {},
   "outputs": [
    {
     "name": "stdout",
     "output_type": "stream",
     "text": [
      "4\n",
      "1 2 3 4\n",
      "1 2 3 4 "
     ]
    }
   ],
   "source": [
    "def reverseStack(s1,s2):\n",
    "    \n",
    "    if (len(s1) <= 1):\n",
    "        return\n",
    "    \n",
    "    while (len(s1) != 1):\n",
    "        ele = s1.pop()\n",
    "        s2.append(ele)\n",
    "        \n",
    "    lastElement = s1.pop()\n",
    "    \n",
    "    while (len(s2) != 0):\n",
    "        ele = s2.pop()\n",
    "        s1.append(ele)\n",
    "        \n",
    "    reverseStack(s1,s2)\n",
    "    s1.append(lastElement)\n",
    "    \n",
    "    \n",
    "from sys import setrecursionlimit\n",
    "setrecursionlimit(11000)\n",
    "n = int(input())\n",
    "s1 = [int(ele) for ele in input().split()]\n",
    "s2 = []\n",
    "reverseStack(s1,s2)\n",
    "while(len(s1) !=0):\n",
    "    print(s1.pop(),end= ' ')"
   ]
  },
  {
   "cell_type": "markdown",
   "metadata": {},
   "source": [
    "# Check redundant brackets\n",
    "Given a string mathematical expression, return true if redundant brackets are present in the expression. <br>Brackets are redundant if there is nothing inside the bracket or more than one pair of brackets are present.<br>\n",
    "Assume the given string expression is balanced and contains only one type of bracket i.e. ().<br>\n",
    "Note: You will not get partial score for this problem. You will get marks only if all test cases are passed.<br>\n",
    "#### Input Format :\n",
    "String s (Expression)\n",
    "#### Output Format :\n",
    "true or false\n",
    "#### Sample Input 1:\n",
    "((a + b)) \n",
    "#### Sample Output 1:\n",
    "true\n",
    "#### Sample Input 2:\n",
    "(a+b) \n",
    "#### Sample Output 2:\n",
    "false"
   ]
  },
  {
   "cell_type": "code",
   "execution_count": 2,
   "metadata": {},
   "outputs": [
    {
     "name": "stdout",
     "output_type": "stream",
     "text": [
      "((a + b)) \n",
      "true\n"
     ]
    }
   ],
   "source": [
    "def checkRedundant(Str):\n",
    "#### Implement Your Code Here\n",
    "    st = []  \n",
    "  \n",
    "    # Iterate through the given expression  \n",
    "    for ch in Str:  \n",
    "  \n",
    "        # if current character is close  \n",
    "        # parenthesis ')'  \n",
    "        if (ch == ')'):  \n",
    "            top = st[-1]  \n",
    "            st.pop()  \n",
    "  \n",
    "            # If immediate pop have open parenthesis  \n",
    "            # '(' duplicate brackets found  \n",
    "            flag = True\n",
    "  \n",
    "            while (top != '('):  \n",
    "  \n",
    "                # Check for operators in expression  \n",
    "                if (top == '+' or top == '-' or\n",
    "                    top == '*' or top == '/'):  \n",
    "                    flag = False\n",
    "  \n",
    "                # Fetch top element of stack  \n",
    "                top = st[-1]  \n",
    "                st.pop() \n",
    "  \n",
    "            # If operators not found  \n",
    "            if (flag == True): \n",
    "                return True\n",
    "  \n",
    "        else: \n",
    "            st.append(ch) # append open parenthesis '(',  \n",
    "                          # operators and operands to stack \n",
    "    return False\n",
    "\n",
    "string = input()\n",
    "ans = checkRedundant(string)\n",
    "if ans is True:\n",
    "    print('true')\n",
    "else:\n",
    "    print('false')"
   ]
  },
  {
   "cell_type": "markdown",
   "metadata": {},
   "source": [
    "# Stock Span\n",
    "The span si of a stock’s price on a certain day i is the minimum number of consecutive days (up to the current day) the price of the stock has been less than its price on that ith day. <br>If for a particular day, if no stock price is greater then just count the number of days till 0th day including current day.<br>\n",
    "For eg. if given price array is {3, 6, 8, 1, 2}, span for 4th day (which has price 2) is 2 because minimum count of consecutive days (including 4th day itself) from current day which has price less than 4th day is 2 (i.e. day 3 & 4). <br>Similarly, span for 2nd day is 3 because no stock price in left is greater than 2nd day's price. So count is 3 till 0th day.\n",
    "Given an input array with all stock prices, you need to return the array with corresponding spans of each day.<br>\n",
    "Note : Try doing it in O(n).\n",
    "#### Input format :\n",
    "Line 1 : Integer n, Arrays Size<br>\n",
    "Line 2 : Price for n days (separated by space). It can contain duplicate values`\n",
    "#### Constraints:\n",
    "Time Limit: 1 second<br>\n",
    "Size of input array lies in the range: [1, 1000000]\n",
    "#### Output format :\n",
    "Return an array that contain span for each day\n",
    "#### Sample Input 1 :\n",
    "8<br>\n",
    "60 70 80 100 90 75 80 120\n",
    "#### Sample Output 1 :\n",
    "1 2 3 4 1 1 2 8\n",
    "#### Sample Input 2 :\n",
    " 4<br>\n",
    " 1 1 1 1\n",
    "#### Sample Output 2 :\n",
    "1 1 1 1"
   ]
  },
  {
   "cell_type": "code",
   "execution_count": 6,
   "metadata": {},
   "outputs": [
    {
     "name": "stdout",
     "output_type": "stream",
     "text": [
      "8\n",
      "60 70 80 100 90 75 80 120\n",
      "1 2 3 4 1 1 2 8\n"
     ]
    }
   ],
   "source": [
    "def stockSpan1(data):\n",
    "    s=[]\n",
    "    s.append(data[0])\n",
    "    output=[1]\n",
    "    for  i in range(1,len(data),1):\n",
    "        temp=data[i]\n",
    "        s.append(data[i])\n",
    "        count=1\n",
    "        for k in s[-2::-1]:\n",
    "             if k<temp:\n",
    "                    count=count+1\n",
    "             else:\n",
    "                break\n",
    "        output.append(count)\n",
    "    return output\n",
    "i=int(input())\n",
    "data=[int(ele) for ele in input().split()]\n",
    "ans=stockSpan1(data)\n",
    "print(*ans)"
   ]
  },
  {
   "cell_type": "markdown",
   "metadata": {},
   "source": [
    "# Minimum bracket Reversal\n",
    "Given a string expression which consists only ‘}’ and ‘{‘. The expression may not be balanced. <br>You need to find the minimum number of bracket reversals which are required to make the expression balanced.<br>\n",
    "Return -1 if the given expression can't be balanced.\n",
    "#### Input Format :\n",
    "String S\n",
    "#### Output Format :\n",
    "Required count\n",
    "#### Sample Input 1 :\n",
    "{{{\n",
    "#### Sample Output 1 :\n",
    "-1\n",
    "#### Sample Input 2 :\n",
    "{{{{}}\n",
    "#### Sample Output 2 :\n",
    "1"
   ]
  },
  {
   "cell_type": "code",
   "execution_count": 11,
   "metadata": {},
   "outputs": [
    {
     "name": "stdout",
     "output_type": "stream",
     "text": [
      "{{{\n",
      "-1\n"
     ]
    }
   ],
   "source": [
    "def countBracketReversals(string):\n",
    "    if(len(string) == 0):\n",
    "        return 0\n",
    "    if(len(string)%2 != 0):\n",
    "        return -1\n",
    "    s = []\n",
    "    for char in string:\n",
    "        if char == '{':\n",
    "            s.append(char)\n",
    "        else:\n",
    "            if(len(s) > 0 and s[-1] == '{'):\n",
    "                s.pop()\n",
    "            else:\n",
    "                s.append(char)\n",
    "    count = 0\n",
    "    while(len(s) != 0):\n",
    "        c1 = s.pop()\n",
    "        c2 = s.pop()\n",
    "        if c1!=c2:\n",
    "            count+=2\n",
    "        else:\n",
    "            count+=1\n",
    "    return count\n",
    "string = input()\n",
    "ans = countBracketReversals(string)\n",
    "print(ans)"
   ]
  }
 ],
 "metadata": {
  "kernelspec": {
   "display_name": "Python 3",
   "language": "python",
   "name": "python3"
  },
  "language_info": {
   "codemirror_mode": {
    "name": "ipython",
    "version": 3
   },
   "file_extension": ".py",
   "mimetype": "text/x-python",
   "name": "python",
   "nbconvert_exporter": "python",
   "pygments_lexer": "ipython3",
   "version": "3.7.3"
  }
 },
 "nbformat": 4,
 "nbformat_minor": 2
}
