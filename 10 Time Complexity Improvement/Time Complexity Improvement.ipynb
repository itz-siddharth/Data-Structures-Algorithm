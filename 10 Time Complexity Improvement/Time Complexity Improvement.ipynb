{
 "cells": [
  {
   "cell_type": "markdown",
   "metadata": {},
   "source": [
    "# Power Intro "
   ]
  },
  {
   "cell_type": "markdown",
   "metadata": {},
   "source": [
    "# Power Of A Number\n",
    "Write a program to find x to the power n (i.e. x^n). Take x and n from the user. You need to return the answer.\n",
    "Do this recursively.\n",
    "#### Input format :\n",
    "Two integers x and n (separated by space)\n",
    "#### Output Format :\n",
    "x^n (i.e. x raise to the power n)\n",
    "#### Constraints :\n",
    "1 <= x <= 30\n",
    "0 <= n <= 30\n",
    "#### Sample Input 1 :\n",
    " 3 4\n",
    "#### Sample Output 1 :\n",
    "81\n",
    "#### Sample Input 2 :\n",
    " 2 5\n",
    "#### Sample Output 2 :\n",
    "32"
   ]
  },
  {
   "cell_type": "code",
   "execution_count": 2,
   "metadata": {},
   "outputs": [
    {
     "name": "stdout",
     "output_type": "stream",
     "text": [
      "5 5\n",
      "3125\n"
     ]
    }
   ],
   "source": [
    "def power(x, n):\n",
    "    # Please add your code here\n",
    "    if n == 0:\n",
    "        return 1\n",
    "    small_power = pow(x,n//2)\n",
    "    if n%2 == 0:\n",
    "        return small_power*small_power\n",
    "    else:\n",
    "        return x*small_power*small_power\n",
    "# Main\n",
    "from sys import setrecursionlimit\n",
    "setrecursionlimit(11000)\n",
    "x, n=list(int(i) for i in input().strip().split(' '))\n",
    "print(power(x, n))"
   ]
  },
  {
   "cell_type": "markdown",
   "metadata": {},
   "source": [
    "# Power Solution"
   ]
  },
  {
   "cell_type": "markdown",
   "metadata": {},
   "source": [
    "# Array intersection Intro"
   ]
  },
  {
   "cell_type": "markdown",
   "metadata": {},
   "source": [
    "# Array Intersection\n",
    "Given two random integer arrays, print their intersection. That is, print all the elements that are present in both the given arrays.\n",
    "Input arrays can contain duplicate elements.\n",
    "Note : Order of elements are not important\n",
    "#### Input format :\n",
    "Line 1 : Integer N, Array 1 Size\n",
    "Line 2 : Array 1 elements (separated by space)\n",
    "Line 3 : Integer M, Array 2 Size\n",
    "Line 4 : Array 2 elements (separated by space)\n",
    "#### Output format :\n",
    "Print intersection elements in different lines\n",
    "#### Constraints :\n",
    "1 <= M, N <= 10^6\n",
    "#### Sample Input 1 :\n",
    "6<br>\n",
    "2 6 8 5 4 3\n",
    "<br>4<br>\n",
    "2 3 4 7 \n",
    "#### Sample Output 1 :\n",
    "2 \n",
    "4 \n",
    "3\n",
    "#### Sample Input 2 :\n",
    "4<br>\n",
    "2 6 1 2<br>\n",
    "5<br>\n",
    "1 2 3 4 2\n",
    "#### Sample Output 2 :\n",
    "2 \n",
    "2\n",
    "1"
   ]
  },
  {
   "cell_type": "code",
   "execution_count": 8,
   "metadata": {},
   "outputs": [
    {
     "name": "stdout",
     "output_type": "stream",
     "text": [
      "4\n",
      "2 6 1 2\n",
      "5\n",
      "1 2 3 4 2\n",
      "1\n",
      "2\n",
      "2\n"
     ]
    }
   ],
   "source": [
    "def intersection(arr1, arr2):\n",
    "    arr1.sort()\n",
    "    arr2.sort()\n",
    "    i,j = 0,0\n",
    "    while(i < len(arr1) and j < len(arr2)):\n",
    "        if arr1[i] < arr2[j]:\n",
    "            i = i + 1\n",
    "        elif arr1[i] > arr2[j]: \n",
    "            j = j + 1\n",
    "        else:\n",
    "            print(arr1[i])\n",
    "            i = i + 1 \n",
    "            j = j + 1\n",
    "\n",
    "n1=int(input())\n",
    "arr1=list(int(i) for i in input().strip().split(' '))\n",
    "n2=int(input())\n",
    "arr2=list(int(i) for i in input().strip().split(' '))\n",
    "intersection(arr1, arr2) "
   ]
  },
  {
   "cell_type": "markdown",
   "metadata": {},
   "source": [
    "# Equilibrium Index Intro"
   ]
  },
  {
   "cell_type": "markdown",
   "metadata": {},
   "source": [
    "# Array Equilibrium Index\n",
    "Find and return the equilibrium index of an array. Equilibrium index of an array is an index i such that the sum of elements at indices less than i is equal to the sum of elements at indices greater than i.<br>\n",
    "Element at index i is not included in either part.\n",
    "If more than one equilibrium index is present, you need to return the first one.<br> And return -1 if no equilibrium index is present.\n",
    "#### Input format :\n",
    "Line 1 : Size of input array<br>\n",
    "Line 2 : Array elements (separated by space)\n",
    "#### Sample Input :\n",
    "7<br>\n",
    "-7 1 5 2 -4 3 0\n",
    "#### Sample Output :\n",
    "3 "
   ]
  },
  {
   "cell_type": "code",
   "execution_count": 11,
   "metadata": {},
   "outputs": [
    {
     "name": "stdout",
     "output_type": "stream",
     "text": [
      "7\n",
      "-7 1 5 2 -4 3 0\n",
      "3\n"
     ]
    }
   ],
   "source": [
    "def equilibriumIndex(a):\n",
    "    totalsum = 0\n",
    "    i = 0\n",
    "    \n",
    "    while i < len(a):\n",
    "        totalsum += a[i]\n",
    "        i = i + 1\n",
    "    \n",
    "    leftsum = 0\n",
    "    index = 0\n",
    "    while index < len(a):\n",
    "        rightsum = totalsum - leftsum - a[index]\n",
    "        if rightsum == leftsum:\n",
    "            return index\n",
    "        leftsum = leftsum + a[index]\n",
    "        index = index + 1\n",
    "    \n",
    "    return -1\n",
    "    \n",
    "# Main\n",
    "n = int(input())\n",
    "arr = [int(i) for i in input().strip().split()]\n",
    "print(equilibriumIndex(arr))"
   ]
  },
  {
   "cell_type": "markdown",
   "metadata": {},
   "source": [
    "# Equilibrium Index Optimal Solution"
   ]
  },
  {
   "cell_type": "markdown",
   "metadata": {},
   "source": [
    "# [Assignments]"
   ]
  },
  {
   "cell_type": "markdown",
   "metadata": {},
   "source": [
    "# Find the Unique Element\n",
    "Given an integer array of size 2N + 1. In this given array, N numbers are present twice and one number is present only once in the array.\n",
    "You need to find and return that number which is unique in the array.\n",
    "Note : Given array will always contain odd number of elements.\n",
    "#### Input format :\n",
    "Line 1 : Array size i.e. 2N+1\n",
    "Line 2 : Array elements (separated by space)\n",
    "#### Output Format :\n",
    "Unique element present in the array\n",
    "#### Constraints :\n",
    "1 <= N <= 10^6\n",
    "#### Sample Input :\n",
    "7<br>\n",
    "2 3 1 6 3 6 2\n",
    "#### Sample Output :\n",
    "1"
   ]
  },
  {
   "cell_type": "code",
   "execution_count": 1,
   "metadata": {},
   "outputs": [
    {
     "name": "stdout",
     "output_type": "stream",
     "text": [
      "7\n",
      "2 3 1 6 3 6 2\n",
      "1\n"
     ]
    }
   ],
   "source": [
    "def unique(li):\n",
    "    size = len(li)\n",
    "    unique_ = li[0]\n",
    "    for i in range(1,size):\n",
    "        unique_ = unique_ ^ li[i]    \n",
    "    \n",
    "    return unique_\n",
    "\n",
    "\n",
    "N = int(input())\n",
    "li = [ int(x) for x in input().split() ]\n",
    "print(unique(li))"
   ]
  },
  {
   "cell_type": "markdown",
   "metadata": {},
   "source": [
    "# Duplicate in array\n",
    "Given an array of integers of size n which contains numbers from 0 to n - 2. Each number is present at least once. That is, if n = 5, numbers from 0 to 3 is present in the given array at least once and one number is present twice. You need to find and return that duplicate number present in the array.\n",
    "Assume, duplicate number is always present in the array.\n",
    "#### Input format :\n",
    "Line 1 : Size of input array\n",
    "Line 2 : Array elements (separated by space)\n",
    "#### Output Format :\n",
    "Duplicate element\n",
    "#### Constraints :\n",
    "1 <= n <= 10^6\n",
    "#### Sample Input:\n",
    "9<br>\n",
    "0 7 2 5 4 7 1 3 6\n",
    "#### Sample Output:\n",
    "7"
   ]
  },
  {
   "cell_type": "code",
   "execution_count": 10,
   "metadata": {},
   "outputs": [
    {
     "name": "stdout",
     "output_type": "stream",
     "text": [
      "9\n",
      "0 7 2 5 4 7 1 3 6\n",
      "7\n"
     ]
    }
   ],
   "source": [
    "def duplicate(arr):\n",
    "    n = len(arr)\n",
    "    sum_n = 0\n",
    "    sum_n_2 = 0\n",
    "    for i in range(0,n):\n",
    "        sum_n = sum_n + arr[i]\n",
    "    sum_n_2 = ((n-2)*(n-1))//2\n",
    "    return sum_n - sum_n_2\n",
    "\n",
    "n = int(input())\n",
    "arr = [ int(x) for x in input().split() ]\n",
    "print(duplicate(arr))"
   ]
  },
  {
   "cell_type": "markdown",
   "metadata": {},
   "source": [
    "# Pair sum in array\n",
    "Given a random integer array A and a number x. Find and print the pair of elements in the array which sum to x.\n",
    "Array A can contain duplicate elements.\n",
    "While printing a pair, print the smaller element first.\n",
    "That is, if a valid pair is (6, 5) print \"5 6\". There is no constraint that out of 5 pairs which have to be printed in 1st line. You can print pairs in any order, just be careful about the order of elements in a pair.\n",
    "#### Input format :\n",
    "Line 1 : Integer N (Array size)\n",
    "Line 2 : Array elements (separated by space)\n",
    "Line 3 : Integer x\n",
    "#### Output format :\n",
    "Line 1 : Pair 1 elements (separated by space)\n",
    "Line 2 : Pair 2 elements (separated by space)\n",
    "Line 3 : and so on\n",
    "#### Constraints :\n",
    "1 <= N <= 1000\n",
    "1 <= x <= 100\n",
    "#### Sample Input:\n",
    "9<br>\n",
    "1 3 6 2 5 4 3 2 4<br>\n",
    "7\n",
    "#### Sample Output :\n",
    "1 6<br>\n",
    "3 4<br>\n",
    "3 4<br>\n",
    "2 5<br>\n",
    "2 5<br>\n",
    "3 4<br>\n",
    "3 4"
   ]
  },
  {
   "cell_type": "code",
   "execution_count": 2,
   "metadata": {},
   "outputs": [
    {
     "name": "stdout",
     "output_type": "stream",
     "text": [
      "9\n",
      "1 3 6 2 5 4 3 2 4\n",
      "7\n",
      "1 6\n",
      "2 5\n",
      "2 5\n",
      "3 4\n",
      "3 4\n",
      "3 4\n",
      "3 4\n"
     ]
    }
   ],
   "source": [
    "n = int(input())\n",
    "li = [ int(x) for x in input().split() ]\n",
    "x = int(input())\n",
    "li.sort()\n",
    "for i in range(len(li)):\n",
    "    \n",
    "    for j in range(i+1,len(li)):\n",
    "        \n",
    "        if li[i]+li[j] == x:\n",
    "            print(li[i],li[j])\n",
    "            \n",
    "        j=j+1\n",
    "    i=i+1"
   ]
  },
  {
   "cell_type": "markdown",
   "metadata": {},
   "source": [
    "# Triplet sum\n",
    "Given a random integer array and a number x. Find and print the triplets of elements in the array which sum to x.\n",
    "While printing a triplet, print the smallest element first.\n",
    "That is, if a valid triplet is (6, 5, 10) print \"5 6 10\". There is no constraint that out of 5 triplets which have to be printed on 1st line. You can print triplets in any order, just be careful about the order of elements in a triplet.\n",
    "#### Input format :\n",
    "Line 1 : Integer N (Array Size)\n",
    "Line 2 : Array elements (separated by space)\n",
    "Line 3 : Integer x\n",
    "#### Output format :\n",
    "Line 1 : Triplet 1 elements (separated by space)\n",
    "Line 2 : Triplet 3 elements (separated by space)\n",
    "Line 3 : and so on\n",
    "#### Constraints :\n",
    "1 <= N <= 1000\n",
    "1 <= x <= 100\n",
    "#### Sample Input:\n",
    "7<br>\n",
    "1 2 3 4 5 6 7 <br>\n",
    "12\n",
    "#### Sample Output ;\n",
    "1 4 7<br>\n",
    "1 5 6<br>\n",
    "2 3 7<br>\n",
    "2 4 6<br>\n",
    "3 4 5"
   ]
  },
  {
   "cell_type": "code",
   "execution_count": 1,
   "metadata": {},
   "outputs": [
    {
     "name": "stdout",
     "output_type": "stream",
     "text": [
      "7\n",
      "1 2 3 4 5 6 7 \n",
      "12\n",
      "1 4 7\n",
      "1 5 6\n",
      "2 3 7\n",
      "2 4 6\n",
      "3 4 5\n"
     ]
    }
   ],
   "source": [
    "def triplet_sum(li1,m):\n",
    "    for i in range(0,len(li1)):\n",
    "        c=li1[i]\n",
    "        for j in range(i+1,len(li1)):\n",
    "            d = li1[j]\n",
    "            for k in range(j+1,len(li1)):\n",
    "                if c+d+li1[k]==m:\n",
    "                    if c>=d and c>=li1[k]:\n",
    "                        if d>=li1[k]:\n",
    "                            print(li1[k],d,c)\n",
    "                        else:\n",
    "                            print(d,li1[k],c)\n",
    "                    elif d>=c and d>=li1[k]:\n",
    "                        if c>=li1[k]:\n",
    "                            print(li1[k],c,d)\n",
    "                        else:\n",
    "                            print(c,li1[k],d)\n",
    "                    elif li1[k]>=d and li1[k]>=c:\n",
    "                        if c>=d:\n",
    "                            print(d,c,li1[k])\n",
    "                        else:\n",
    "                            print(c,d,li1[k])\n",
    "\n",
    "n=int(input())\n",
    "li1 =[int(x) for x in input().split()]\n",
    "li1.sort()\n",
    "m=int(input())\n",
    "triplet_sum(li1,m)"
   ]
  },
  {
   "cell_type": "code",
   "execution_count": 1,
   "metadata": {},
   "outputs": [
    {
     "name": "stdout",
     "output_type": "stream",
     "text": [
      "7\n",
      "1 2 3 4 5 6 7 \n",
      "12\n",
      "1 4 7\n",
      "1 5 6\n",
      "2 3 7\n",
      "2 4 6\n",
      "3 4 5\n"
     ]
    }
   ],
   "source": [
    "N = int(input())\n",
    "li = [ int(x) for x in input().split() ]\n",
    "x = int(input())\n",
    "\n",
    "for i in range (len(li)):\n",
    "    for j in range (i+1,len(li)):\n",
    "        for k in range (j+1,len(li)):\n",
    "            if li[i]+li[j]+li[k] == x:\n",
    "                temp_li = []\n",
    "                temp_li.append(li[i])\n",
    "                temp_li.append(li[j])\n",
    "                temp_li.append(li[k])\n",
    "                temp_li.sort()\n",
    "                print(temp_li[0],temp_li[1],temp_li[2])"
   ]
  },
  {
   "cell_type": "code",
   "execution_count": 9,
   "metadata": {},
   "outputs": [
    {
     "name": "stdout",
     "output_type": "stream",
     "text": [
      "7\n",
      "1 2 3 4 5 6 7 \n",
      "12\n",
      "1 4 7\n",
      "1 5 6\n",
      "2 3 7\n",
      "2 4 6\n",
      "3 4 5\n"
     ]
    }
   ],
   "source": [
    "def tripletSum(arr,n,sum):\n",
    "    size = len(arr)\n",
    "    for i in range(0,size):\n",
    "        for j in range(i+1,size):\n",
    "            for k in range(j+1,size):\n",
    "                if(arr[i]+arr[j]+arr[k] == x):\n",
    "                    print(arr[i],arr[j],arr[k])\n",
    "                    \n",
    "\n",
    "import sys\n",
    "sys.setrecursionlimit(2500)\n",
    "n = int(input())\n",
    "li = [ int(x) for x in input().split() ]\n",
    "li.sort()\n",
    "x = int(input())\n",
    "tripletSum(li,n,x)"
   ]
  },
  {
   "cell_type": "markdown",
   "metadata": {},
   "source": [
    "# Maximum Triplet Sum in an Array (Self_Added) \n",
    "Given an array, the task is to find maximum triplet sum in the array.<br>\n",
    "#### Best Approach :<br>\n",
    "In this, we first need to sort the whole array and after that when we add last three element of the array then we find maximum sum of triplates.<br>\n",
    "Time complexity : O(nlogn)<br>\n",
    "Space complexity : O(1)"
   ]
  },
  {
   "cell_type": "code",
   "execution_count": 2,
   "metadata": {},
   "outputs": [
    {
     "name": "stdout",
     "output_type": "stream",
     "text": [
      "7\n",
      "1 2 3 4 5 6 7\n"
     ]
    },
    {
     "data": {
      "text/plain": [
       "18"
      ]
     },
     "execution_count": 2,
     "metadata": {},
     "output_type": "execute_result"
    }
   ],
   "source": [
    "def tripletSum(arr,n):\n",
    "    \n",
    "    #sort array first\n",
    "    arr.sort()\n",
    "    \n",
    "    # After sorting the array.  \n",
    "    # Add last three element  \n",
    "    # of the given array \n",
    "    return (arr[n - 1] + arr[n - 2] + arr[n - 3]) \n",
    "                    \n",
    "import sys\n",
    "sys.setrecursionlimit(2500)\n",
    "n = int(input())\n",
    "li = [ int(x) for x in input().split() ]\n",
    "li.sort()\n",
    "tripletSum(li,n)"
   ]
  },
  {
   "cell_type": "code",
   "execution_count": 3,
   "metadata": {},
   "outputs": [
    {
     "name": "stdout",
     "output_type": "stream",
     "text": [
      "18\n"
     ]
    }
   ],
   "source": [
    "# maximum triplet sum \n",
    "  \n",
    "# This function assumes  \n",
    "# that there are at least  \n",
    "# three elements in arr[]. \n",
    "def maxTripletSum(arr, n) : \n",
    "  \n",
    "    # Initialize Maximum, second  \n",
    "    # maximum and third maximum  \n",
    "    # element \n",
    "    maxA = -100000000\n",
    "    maxB = -100000000\n",
    "    maxC = -100000000\n",
    "  \n",
    "    for i in range(0, n) : \n",
    "      \n",
    "        # Update Maximum, second maximum \n",
    "        # and third  maximum element \n",
    "        if (arr[i] > maxA) : \n",
    "            maxC = maxB \n",
    "            maxB = maxA \n",
    "            maxA = arr[i] \n",
    "  \n",
    "        # Update second maximum and  \n",
    "        # third maximum element \n",
    "        elif (arr[i] > maxB) : \n",
    "            maxC = maxB \n",
    "            maxB = arr[i] \n",
    "          \n",
    "        # Update third maximum element \n",
    "        elif (arr[i] > maxC) : \n",
    "            maxC = arr[i] \n",
    "              \n",
    "    return (maxA + maxB + maxC) \n",
    "      \n",
    "# Driven code \n",
    "arr = [ 1, 0, 8, 6, 4, 2 ] \n",
    "n = len(arr) \n",
    "  \n",
    "print(maxTripletSum(arr, n)) "
   ]
  },
  {
   "cell_type": "markdown",
   "metadata": {},
   "source": [
    "# Rotate array\n",
    "Given a random integer array of size n, write a function that rotates the given array by d elements (towards left)\n",
    "Change in the input array itself. You don't need to return or print elements.\n",
    "#### Input format :\n",
    "Line 1 : Integer n (Array Size)\n",
    "Line 2 : Array elements (separated by space)\n",
    "Line 3 : Integer d\n",
    "#### Output Format :\n",
    "Updated array elements (separated by space)\n",
    "#### Constraints :\n",
    "1 <= N <= 1000\n",
    "1 <= d <= N\n",
    "#### Sample Input :\n",
    "7<br>\n",
    "1 2 3 4 5 6 7<br>\n",
    "2\n",
    "#### Sample Output :\n",
    "3 4 5 6 7 1 2"
   ]
  },
  {
   "cell_type": "code",
   "execution_count": 3,
   "metadata": {},
   "outputs": [
    {
     "name": "stdout",
     "output_type": "stream",
     "text": [
      "7\n",
      "1 2 3 4 5 6 7\n",
      "2\n",
      "3 4 5 6 7 1 2\n"
     ]
    }
   ],
   "source": [
    "def Rotate(arr, d):\n",
    "    # Please add your code here\n",
    "    for i in range(d):\n",
    "        arr.append(arr[i])\n",
    "    for i in range(d):\n",
    "        arr.pop(0)   \n",
    "       \n",
    "\n",
    "# Main\n",
    "n=int(input())\n",
    "arr=list(int(i) for i in input().strip().split(' '))\n",
    "d=int(input())\n",
    "Rotate(arr, d)\n",
    "print(*arr)\n"
   ]
  }
 ],
 "metadata": {
  "kernelspec": {
   "display_name": "Python 3",
   "language": "python",
   "name": "python3"
  },
  "language_info": {
   "codemirror_mode": {
    "name": "ipython",
    "version": 3
   },
   "file_extension": ".py",
   "mimetype": "text/x-python",
   "name": "python",
   "nbconvert_exporter": "python",
   "pygments_lexer": "ipython3",
   "version": "3.7.3"
  }
 },
 "nbformat": 4,
 "nbformat_minor": 2
}
